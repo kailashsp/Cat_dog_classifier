{
 "cells": [
  {
   "cell_type": "code",
   "execution_count": 18,
   "metadata": {},
   "outputs": [],
   "source": [
    "import os\n",
    "\n",
    "from tensorflow import keras\n",
    "import tensorflow as tf\n",
    "\n",
    "from keras.applications import VGG16"
   ]
  },
  {
   "cell_type": "code",
   "execution_count": 20,
   "metadata": {},
   "outputs": [],
   "source": [
    "base_dir = \"/home/kailash/VScode Python projects/tf/conv/small_dataset1\""
   ]
  },
  {
   "cell_type": "code",
   "execution_count": 21,
   "metadata": {},
   "outputs": [],
   "source": [
    "train_dir = os.path.join(base_dir,\"train\")\n",
    "\n",
    "validation_dir = os.path.join(base_dir, 'validation')\n",
    "\n",
    "test_dir = os.path.join(base_dir, 'test')\n",
    "\n"
   ]
  },
  {
   "cell_type": "code",
   "execution_count": 22,
   "metadata": {},
   "outputs": [],
   "source": [
    "conv_base = VGG16(weights=\"imagenet\",include_top=False,input_shape=(150,150,3))"
   ]
  },
  {
   "cell_type": "code",
   "execution_count": 23,
   "metadata": {},
   "outputs": [],
   "source": [
    "model = keras.models.Sequential()\n",
    "model.add(conv_base)\n",
    "model.add(keras.layers.Flatten())\n",
    "model.add(keras.layers.Dense(256, activation='relu'))\n",
    "model.add(keras.layers.Dense(1, activation='sigmoid'))"
   ]
  },
  {
   "cell_type": "code",
   "execution_count": 24,
   "metadata": {},
   "outputs": [
    {
     "name": "stdout",
     "output_type": "stream",
     "text": [
      "Model: \"sequential_1\"\n",
      "_________________________________________________________________\n",
      " Layer (type)                Output Shape              Param #   \n",
      "=================================================================\n",
      " vgg16 (Functional)          (None, 4, 4, 512)         14714688  \n",
      "                                                                 \n",
      " flatten_1 (Flatten)         (None, 8192)              0         \n",
      "                                                                 \n",
      " dense_2 (Dense)             (None, 256)               2097408   \n",
      "                                                                 \n",
      " dense_3 (Dense)             (None, 1)                 257       \n",
      "                                                                 \n",
      "=================================================================\n",
      "Total params: 16,812,353\n",
      "Trainable params: 16,812,353\n",
      "Non-trainable params: 0\n",
      "_________________________________________________________________\n"
     ]
    }
   ],
   "source": [
    "model.summary()"
   ]
  },
  {
   "cell_type": "code",
   "execution_count": 25,
   "metadata": {},
   "outputs": [],
   "source": [
    "conv_base.trainable = False"
   ]
  },
  {
   "cell_type": "code",
   "execution_count": 26,
   "metadata": {},
   "outputs": [],
   "source": [
    "\n",
    "train_datagen = keras.preprocessing.image.ImageDataGenerator(\n",
    "rescale=1./255,\n",
    "rotation_range=40,\n",
    "width_shift_range=0.2,\n",
    "height_shift_range=0.2,\n",
    "shear_range=0.2,\n",
    "zoom_range=0.2,\n",
    "horizontal_flip=True,\n",
    "fill_mode='nearest')\n",
    "\n",
    "test_datagen = keras.preprocessing.image.ImageDataGenerator(rescale=1./255)"
   ]
  },
  {
   "cell_type": "code",
   "execution_count": 27,
   "metadata": {},
   "outputs": [
    {
     "name": "stdout",
     "output_type": "stream",
     "text": [
      "Found 15000 images belonging to 2 classes.\n"
     ]
    }
   ],
   "source": [
    "train_generator = train_datagen.flow_from_directory(\n",
    "train_dir,\n",
    "target_size=(150, 150),\n",
    "batch_size=20,\n",
    "class_mode='binary')"
   ]
  },
  {
   "cell_type": "code",
   "execution_count": 28,
   "metadata": {},
   "outputs": [
    {
     "name": "stdout",
     "output_type": "stream",
     "text": [
      "Found 5000 images belonging to 2 classes.\n"
     ]
    }
   ],
   "source": [
    "\n",
    "validation_generator = test_datagen.flow_from_directory(\n",
    "validation_dir,\n",
    "target_size=(150, 150),\n",
    "batch_size=20,\n",
    "class_mode='binary')"
   ]
  },
  {
   "cell_type": "code",
   "execution_count": 29,
   "metadata": {},
   "outputs": [
    {
     "name": "stderr",
     "output_type": "stream",
     "text": [
      "/home/kailash/anaconda3/envs/tensorflow1/lib/python3.10/site-packages/keras/optimizers/optimizer_v2/rmsprop.py:140: UserWarning: The `lr` argument is deprecated, use `learning_rate` instead.\n",
      "  super().__init__(name, **kwargs)\n"
     ]
    }
   ],
   "source": [
    "model.compile(loss='binary_crossentropy',\n",
    "optimizer=keras.optimizers.RMSprop(lr=2e-5),\n",
    "metrics=['acc'])"
   ]
  },
  {
   "cell_type": "code",
   "execution_count": 30,
   "metadata": {},
   "outputs": [
    {
     "name": "stdout",
     "output_type": "stream",
     "text": [
      "Epoch 1/30\n",
      "100/100 [==============================] - 20s 191ms/step - loss: 0.5849 - acc: 0.7010 - val_loss: 0.4546 - val_acc: 0.8010\n",
      "Epoch 2/30\n",
      "100/100 [==============================] - 19s 187ms/step - loss: 0.4759 - acc: 0.7850 - val_loss: 0.3609 - val_acc: 0.8540\n",
      "Epoch 3/30\n",
      "100/100 [==============================] - 18s 184ms/step - loss: 0.4414 - acc: 0.7975 - val_loss: 0.3513 - val_acc: 0.8460\n",
      "Epoch 4/30\n",
      "100/100 [==============================] - 19s 190ms/step - loss: 0.4240 - acc: 0.8080 - val_loss: 0.3174 - val_acc: 0.8680\n",
      "Epoch 5/30\n",
      "100/100 [==============================] - 19s 194ms/step - loss: 0.3857 - acc: 0.8355 - val_loss: 0.3172 - val_acc: 0.8670\n",
      "Epoch 6/30\n",
      "100/100 [==============================] - 20s 198ms/step - loss: 0.3797 - acc: 0.8295 - val_loss: 0.3126 - val_acc: 0.8680\n",
      "Epoch 7/30\n",
      "100/100 [==============================] - 20s 196ms/step - loss: 0.3736 - acc: 0.8325 - val_loss: 0.2945 - val_acc: 0.8660\n",
      "Epoch 8/30\n",
      "100/100 [==============================] - 20s 198ms/step - loss: 0.3669 - acc: 0.8315 - val_loss: 0.2766 - val_acc: 0.8840\n",
      "Epoch 9/30\n",
      "100/100 [==============================] - 19s 193ms/step - loss: 0.3691 - acc: 0.8345 - val_loss: 0.2756 - val_acc: 0.8820\n",
      "Epoch 10/30\n",
      "100/100 [==============================] - 19s 190ms/step - loss: 0.3506 - acc: 0.8475 - val_loss: 0.2440 - val_acc: 0.8930\n",
      "Epoch 11/30\n",
      "100/100 [==============================] - 19s 189ms/step - loss: 0.3475 - acc: 0.8485 - val_loss: 0.2684 - val_acc: 0.8910\n",
      "Epoch 12/30\n",
      "100/100 [==============================] - 19s 189ms/step - loss: 0.3517 - acc: 0.8365 - val_loss: 0.2726 - val_acc: 0.8800\n",
      "Epoch 13/30\n",
      "100/100 [==============================] - 19s 194ms/step - loss: 0.3436 - acc: 0.8530 - val_loss: 0.2555 - val_acc: 0.8900\n",
      "Epoch 14/30\n",
      "100/100 [==============================] - 19s 193ms/step - loss: 0.3339 - acc: 0.8515 - val_loss: 0.2323 - val_acc: 0.9050\n",
      "Epoch 15/30\n",
      "100/100 [==============================] - 20s 195ms/step - loss: 0.3402 - acc: 0.8485 - val_loss: 0.2495 - val_acc: 0.8950\n",
      "Epoch 16/30\n",
      "100/100 [==============================] - 19s 194ms/step - loss: 0.3300 - acc: 0.8520 - val_loss: 0.2504 - val_acc: 0.8890\n",
      "Epoch 17/30\n",
      "100/100 [==============================] - 19s 193ms/step - loss: 0.3101 - acc: 0.8660 - val_loss: 0.2688 - val_acc: 0.8850\n",
      "Epoch 18/30\n",
      "100/100 [==============================] - 20s 197ms/step - loss: 0.3381 - acc: 0.8525 - val_loss: 0.2476 - val_acc: 0.8980\n",
      "Epoch 19/30\n",
      "100/100 [==============================] - 20s 196ms/step - loss: 0.3404 - acc: 0.8455 - val_loss: 0.2609 - val_acc: 0.8920\n",
      "Epoch 20/30\n",
      "100/100 [==============================] - 20s 196ms/step - loss: 0.3381 - acc: 0.8465 - val_loss: 0.2422 - val_acc: 0.9000\n",
      "Epoch 21/30\n",
      "100/100 [==============================] - 19s 192ms/step - loss: 0.3458 - acc: 0.8425 - val_loss: 0.2056 - val_acc: 0.9140\n",
      "Epoch 22/30\n",
      "100/100 [==============================] - 19s 195ms/step - loss: 0.3278 - acc: 0.8595 - val_loss: 0.2701 - val_acc: 0.8840\n",
      "Epoch 23/30\n",
      "100/100 [==============================] - 19s 193ms/step - loss: 0.3434 - acc: 0.8380 - val_loss: 0.2839 - val_acc: 0.8780\n",
      "Epoch 24/30\n",
      "100/100 [==============================] - 19s 192ms/step - loss: 0.3206 - acc: 0.8660 - val_loss: 0.2375 - val_acc: 0.9060\n",
      "Epoch 25/30\n",
      "100/100 [==============================] - 19s 194ms/step - loss: 0.3229 - acc: 0.8615 - val_loss: 0.2164 - val_acc: 0.9100\n",
      "Epoch 26/30\n",
      "100/100 [==============================] - 20s 197ms/step - loss: 0.3081 - acc: 0.8635 - val_loss: 0.2312 - val_acc: 0.9050\n",
      "Epoch 27/30\n",
      "100/100 [==============================] - 19s 194ms/step - loss: 0.3140 - acc: 0.8600 - val_loss: 0.2354 - val_acc: 0.9120\n",
      "Epoch 28/30\n",
      "100/100 [==============================] - 20s 200ms/step - loss: 0.3219 - acc: 0.8580 - val_loss: 0.2163 - val_acc: 0.9050\n",
      "Epoch 29/30\n",
      "100/100 [==============================] - 20s 197ms/step - loss: 0.3275 - acc: 0.8465 - val_loss: 0.2747 - val_acc: 0.8770\n",
      "Epoch 30/30\n",
      "100/100 [==============================] - 20s 197ms/step - loss: 0.2984 - acc: 0.8730 - val_loss: 0.2578 - val_acc: 0.8890\n"
     ]
    }
   ],
   "source": [
    "history = model.fit(train_generator,\n",
    "steps_per_epoch=100,\n",
    "epochs=30,\n",
    "validation_data=validation_generator,\n",
    "validation_steps=50)"
   ]
  },
  {
   "cell_type": "code",
   "execution_count": 31,
   "metadata": {},
   "outputs": [],
   "source": [
    "conv_base.trainable = True\n",
    "set_trainable = False\n",
    "for layer in conv_base.layers:\n",
    "    if layer.name == 'block5_conv1':\n",
    "        set_trainable = True\n",
    "    if set_trainable:\n",
    "        layer.trainable = True\n",
    "    else:\n",
    "        layer.trainable = False"
   ]
  },
  {
   "cell_type": "code",
   "execution_count": 32,
   "metadata": {},
   "outputs": [
    {
     "name": "stdout",
     "output_type": "stream",
     "text": [
      "Epoch 1/100\n",
      "100/100 [==============================] - 23s 221ms/step - loss: 0.3268 - acc: 0.8640 - val_loss: 0.2195 - val_acc: 0.9120\n",
      "Epoch 2/100\n",
      "100/100 [==============================] - 20s 198ms/step - loss: 0.2932 - acc: 0.8735 - val_loss: 0.2166 - val_acc: 0.9120\n",
      "Epoch 3/100\n",
      "100/100 [==============================] - 20s 197ms/step - loss: 0.3054 - acc: 0.8585 - val_loss: 0.2383 - val_acc: 0.8950\n",
      "Epoch 4/100\n",
      "100/100 [==============================] - 20s 198ms/step - loss: 0.2633 - acc: 0.8805 - val_loss: 0.2061 - val_acc: 0.9240\n",
      "Epoch 5/100\n",
      "100/100 [==============================] - 20s 198ms/step - loss: 0.2804 - acc: 0.8805 - val_loss: 0.1888 - val_acc: 0.9270\n",
      "Epoch 6/100\n",
      "100/100 [==============================] - 20s 197ms/step - loss: 0.2458 - acc: 0.8905 - val_loss: 0.1678 - val_acc: 0.9330\n",
      "Epoch 7/100\n",
      "100/100 [==============================] - 20s 196ms/step - loss: 0.2376 - acc: 0.8975 - val_loss: 0.1848 - val_acc: 0.9340\n",
      "Epoch 8/100\n",
      "100/100 [==============================] - 20s 197ms/step - loss: 0.2377 - acc: 0.8965 - val_loss: 0.2792 - val_acc: 0.9010\n",
      "Epoch 9/100\n",
      "100/100 [==============================] - 20s 197ms/step - loss: 0.2445 - acc: 0.8960 - val_loss: 0.1777 - val_acc: 0.9320\n",
      "Epoch 10/100\n",
      "100/100 [==============================] - 20s 196ms/step - loss: 0.2224 - acc: 0.8995 - val_loss: 0.1474 - val_acc: 0.9370\n",
      "Epoch 11/100\n",
      "100/100 [==============================] - 20s 197ms/step - loss: 0.2232 - acc: 0.9040 - val_loss: 0.1436 - val_acc: 0.9450\n",
      "Epoch 12/100\n",
      "100/100 [==============================] - 20s 199ms/step - loss: 0.2067 - acc: 0.9090 - val_loss: 0.1907 - val_acc: 0.9370\n",
      "Epoch 13/100\n",
      "100/100 [==============================] - 20s 198ms/step - loss: 0.2112 - acc: 0.9120 - val_loss: 0.1363 - val_acc: 0.9480\n",
      "Epoch 14/100\n",
      "100/100 [==============================] - 20s 199ms/step - loss: 0.1998 - acc: 0.9260 - val_loss: 0.1910 - val_acc: 0.9280\n",
      "Epoch 15/100\n",
      "100/100 [==============================] - 20s 198ms/step - loss: 0.2073 - acc: 0.9130 - val_loss: 0.1357 - val_acc: 0.9380\n",
      "Epoch 16/100\n",
      "100/100 [==============================] - 20s 199ms/step - loss: 0.1978 - acc: 0.9110 - val_loss: 0.1885 - val_acc: 0.9300\n",
      "Epoch 17/100\n",
      "100/100 [==============================] - 20s 199ms/step - loss: 0.2037 - acc: 0.9140 - val_loss: 0.1500 - val_acc: 0.9420\n",
      "Epoch 18/100\n",
      "100/100 [==============================] - 20s 199ms/step - loss: 0.1901 - acc: 0.9185 - val_loss: 0.1671 - val_acc: 0.9380\n",
      "Epoch 19/100\n",
      "100/100 [==============================] - 20s 200ms/step - loss: 0.1826 - acc: 0.9230 - val_loss: 0.3272 - val_acc: 0.8960\n",
      "Epoch 20/100\n",
      "100/100 [==============================] - 20s 201ms/step - loss: 0.2047 - acc: 0.9135 - val_loss: 0.1819 - val_acc: 0.9290\n",
      "Epoch 21/100\n",
      "100/100 [==============================] - 20s 204ms/step - loss: 0.1831 - acc: 0.9280 - val_loss: 0.1516 - val_acc: 0.9440\n",
      "Epoch 22/100\n",
      "100/100 [==============================] - 20s 199ms/step - loss: 0.1898 - acc: 0.9180 - val_loss: 0.1827 - val_acc: 0.9220\n",
      "Epoch 23/100\n",
      "100/100 [==============================] - 20s 201ms/step - loss: 0.1825 - acc: 0.9195 - val_loss: 0.1745 - val_acc: 0.9360\n",
      "Epoch 24/100\n",
      "100/100 [==============================] - 20s 199ms/step - loss: 0.2010 - acc: 0.9235 - val_loss: 0.1338 - val_acc: 0.9510\n",
      "Epoch 25/100\n",
      "100/100 [==============================] - 20s 199ms/step - loss: 0.1761 - acc: 0.9315 - val_loss: 0.1820 - val_acc: 0.9410\n",
      "Epoch 26/100\n",
      "100/100 [==============================] - 20s 200ms/step - loss: 0.1928 - acc: 0.9295 - val_loss: 0.1285 - val_acc: 0.9450\n",
      "Epoch 27/100\n",
      "100/100 [==============================] - 20s 198ms/step - loss: 0.1816 - acc: 0.9275 - val_loss: 0.1568 - val_acc: 0.9320\n",
      "Epoch 28/100\n",
      "100/100 [==============================] - 20s 200ms/step - loss: 0.1861 - acc: 0.9225 - val_loss: 0.1513 - val_acc: 0.9390\n",
      "Epoch 29/100\n",
      "100/100 [==============================] - 20s 199ms/step - loss: 0.1638 - acc: 0.9380 - val_loss: 0.1734 - val_acc: 0.9360\n",
      "Epoch 30/100\n",
      "100/100 [==============================] - 20s 199ms/step - loss: 0.1693 - acc: 0.9260 - val_loss: 0.1897 - val_acc: 0.9290\n",
      "Epoch 31/100\n",
      "100/100 [==============================] - 20s 199ms/step - loss: 0.1657 - acc: 0.9310 - val_loss: 0.1874 - val_acc: 0.9400\n",
      "Epoch 32/100\n",
      "100/100 [==============================] - 20s 199ms/step - loss: 0.1676 - acc: 0.9305 - val_loss: 0.1387 - val_acc: 0.9450\n",
      "Epoch 33/100\n",
      "100/100 [==============================] - 20s 199ms/step - loss: 0.1846 - acc: 0.9235 - val_loss: 0.1330 - val_acc: 0.9480\n",
      "Epoch 34/100\n",
      "100/100 [==============================] - 20s 198ms/step - loss: 0.1706 - acc: 0.9320 - val_loss: 0.1354 - val_acc: 0.9440\n",
      "Epoch 35/100\n",
      "100/100 [==============================] - 20s 199ms/step - loss: 0.1622 - acc: 0.9350 - val_loss: 0.1696 - val_acc: 0.9330\n",
      "Epoch 36/100\n",
      "100/100 [==============================] - 20s 198ms/step - loss: 0.1713 - acc: 0.9265 - val_loss: 0.1406 - val_acc: 0.9540\n",
      "Epoch 37/100\n",
      "100/100 [==============================] - 20s 199ms/step - loss: 0.1583 - acc: 0.9390 - val_loss: 0.1198 - val_acc: 0.9550\n",
      "Epoch 38/100\n",
      "100/100 [==============================] - 20s 199ms/step - loss: 0.1662 - acc: 0.9335 - val_loss: 0.1718 - val_acc: 0.9440\n",
      "Epoch 39/100\n",
      "100/100 [==============================] - 20s 199ms/step - loss: 0.1425 - acc: 0.9415 - val_loss: 0.1490 - val_acc: 0.9430\n",
      "Epoch 40/100\n",
      "100/100 [==============================] - 20s 198ms/step - loss: 0.1654 - acc: 0.9335 - val_loss: 0.1735 - val_acc: 0.9320\n",
      "Epoch 41/100\n",
      "100/100 [==============================] - 20s 199ms/step - loss: 0.1505 - acc: 0.9375 - val_loss: 0.1618 - val_acc: 0.9460\n",
      "Epoch 42/100\n",
      "100/100 [==============================] - 20s 200ms/step - loss: 0.1564 - acc: 0.9320 - val_loss: 0.1745 - val_acc: 0.9390\n",
      "Epoch 43/100\n",
      "100/100 [==============================] - 20s 200ms/step - loss: 0.1406 - acc: 0.9465 - val_loss: 0.1513 - val_acc: 0.9440\n",
      "Epoch 44/100\n",
      "100/100 [==============================] - 20s 200ms/step - loss: 0.1407 - acc: 0.9445 - val_loss: 0.1126 - val_acc: 0.9610\n",
      "Epoch 45/100\n",
      "100/100 [==============================] - 20s 199ms/step - loss: 0.1580 - acc: 0.9375 - val_loss: 0.1407 - val_acc: 0.9390\n",
      "Epoch 46/100\n",
      "100/100 [==============================] - 20s 199ms/step - loss: 0.1548 - acc: 0.9340 - val_loss: 0.1357 - val_acc: 0.9460\n",
      "Epoch 47/100\n",
      "100/100 [==============================] - 20s 200ms/step - loss: 0.1500 - acc: 0.9390 - val_loss: 0.1267 - val_acc: 0.9580\n",
      "Epoch 48/100\n",
      "100/100 [==============================] - 20s 200ms/step - loss: 0.1623 - acc: 0.9385 - val_loss: 0.1433 - val_acc: 0.9450\n",
      "Epoch 49/100\n",
      "100/100 [==============================] - 20s 200ms/step - loss: 0.1635 - acc: 0.9390 - val_loss: 0.0995 - val_acc: 0.9660\n",
      "Epoch 50/100\n",
      "100/100 [==============================] - 20s 200ms/step - loss: 0.1423 - acc: 0.9430 - val_loss: 0.1270 - val_acc: 0.9460\n",
      "Epoch 51/100\n",
      "100/100 [==============================] - 21s 208ms/step - loss: 0.1281 - acc: 0.9495 - val_loss: 0.1354 - val_acc: 0.9570\n",
      "Epoch 52/100\n",
      "100/100 [==============================] - 21s 207ms/step - loss: 0.1545 - acc: 0.9400 - val_loss: 0.1219 - val_acc: 0.9590\n",
      "Epoch 53/100\n",
      "100/100 [==============================] - 21s 208ms/step - loss: 0.1384 - acc: 0.9460 - val_loss: 0.1301 - val_acc: 0.9490\n",
      "Epoch 54/100\n",
      "100/100 [==============================] - 20s 202ms/step - loss: 0.1433 - acc: 0.9400 - val_loss: 0.1209 - val_acc: 0.9540\n",
      "Epoch 55/100\n",
      "100/100 [==============================] - 20s 201ms/step - loss: 0.1546 - acc: 0.9360 - val_loss: 0.1501 - val_acc: 0.9520\n",
      "Epoch 56/100\n",
      "100/100 [==============================] - 20s 199ms/step - loss: 0.1192 - acc: 0.9540 - val_loss: 0.1625 - val_acc: 0.9470\n",
      "Epoch 57/100\n",
      "100/100 [==============================] - 20s 200ms/step - loss: 0.1314 - acc: 0.9470 - val_loss: 0.1484 - val_acc: 0.9460\n",
      "Epoch 58/100\n",
      "100/100 [==============================] - 20s 201ms/step - loss: 0.1297 - acc: 0.9485 - val_loss: 0.1372 - val_acc: 0.9600\n",
      "Epoch 59/100\n",
      "100/100 [==============================] - 20s 200ms/step - loss: 0.1393 - acc: 0.9425 - val_loss: 0.1735 - val_acc: 0.9380\n",
      "Epoch 60/100\n",
      "100/100 [==============================] - 20s 201ms/step - loss: 0.1326 - acc: 0.9465 - val_loss: 0.1312 - val_acc: 0.9530\n",
      "Epoch 61/100\n",
      "100/100 [==============================] - 20s 200ms/step - loss: 0.1294 - acc: 0.9505 - val_loss: 0.1405 - val_acc: 0.9530\n",
      "Epoch 62/100\n",
      "100/100 [==============================] - 20s 201ms/step - loss: 0.1134 - acc: 0.9550 - val_loss: 0.1634 - val_acc: 0.9420\n",
      "Epoch 63/100\n",
      "100/100 [==============================] - 20s 202ms/step - loss: 0.1315 - acc: 0.9515 - val_loss: 0.1316 - val_acc: 0.9550\n",
      "Epoch 64/100\n",
      "100/100 [==============================] - 20s 202ms/step - loss: 0.1380 - acc: 0.9445 - val_loss: 0.1156 - val_acc: 0.9560\n",
      "Epoch 65/100\n",
      "100/100 [==============================] - 20s 202ms/step - loss: 0.1508 - acc: 0.9360 - val_loss: 0.1093 - val_acc: 0.9580\n",
      "Epoch 66/100\n",
      "100/100 [==============================] - 20s 202ms/step - loss: 0.1290 - acc: 0.9445 - val_loss: 0.1449 - val_acc: 0.9470\n",
      "Epoch 67/100\n",
      "100/100 [==============================] - 20s 202ms/step - loss: 0.1372 - acc: 0.9465 - val_loss: 0.1431 - val_acc: 0.9460\n",
      "Epoch 68/100\n",
      "100/100 [==============================] - 20s 201ms/step - loss: 0.1313 - acc: 0.9455 - val_loss: 0.1519 - val_acc: 0.9450\n",
      "Epoch 69/100\n",
      "100/100 [==============================] - 20s 201ms/step - loss: 0.1178 - acc: 0.9515 - val_loss: 0.1397 - val_acc: 0.9590\n",
      "Epoch 70/100\n",
      "100/100 [==============================] - 20s 201ms/step - loss: 0.1283 - acc: 0.9530 - val_loss: 0.1784 - val_acc: 0.9420\n",
      "Epoch 71/100\n",
      "100/100 [==============================] - 20s 201ms/step - loss: 0.1253 - acc: 0.9480 - val_loss: 0.1737 - val_acc: 0.9410\n",
      "Epoch 72/100\n",
      "100/100 [==============================] - 20s 202ms/step - loss: 0.1262 - acc: 0.9505 - val_loss: 0.2211 - val_acc: 0.9370\n",
      "Epoch 73/100\n",
      "100/100 [==============================] - 20s 202ms/step - loss: 0.1284 - acc: 0.9505 - val_loss: 0.1576 - val_acc: 0.9460\n",
      "Epoch 74/100\n",
      "100/100 [==============================] - 20s 202ms/step - loss: 0.1255 - acc: 0.9565 - val_loss: 0.1254 - val_acc: 0.9600\n",
      "Epoch 75/100\n",
      "100/100 [==============================] - 20s 202ms/step - loss: 0.1353 - acc: 0.9515 - val_loss: 0.1265 - val_acc: 0.9570\n",
      "Epoch 76/100\n",
      "100/100 [==============================] - 20s 202ms/step - loss: 0.1111 - acc: 0.9585 - val_loss: 0.1317 - val_acc: 0.9490\n",
      "Epoch 77/100\n",
      "100/100 [==============================] - 20s 202ms/step - loss: 0.1318 - acc: 0.9535 - val_loss: 0.1497 - val_acc: 0.9450\n",
      "Epoch 78/100\n",
      "100/100 [==============================] - 20s 202ms/step - loss: 0.1427 - acc: 0.9475 - val_loss: 0.1079 - val_acc: 0.9660\n",
      "Epoch 79/100\n",
      "100/100 [==============================] - 20s 203ms/step - loss: 0.1187 - acc: 0.9555 - val_loss: 0.1864 - val_acc: 0.9360\n",
      "Epoch 80/100\n",
      "100/100 [==============================] - 21s 205ms/step - loss: 0.1424 - acc: 0.9375 - val_loss: 0.1932 - val_acc: 0.9470\n",
      "Epoch 81/100\n",
      "100/100 [==============================] - 21s 212ms/step - loss: 0.1357 - acc: 0.9430 - val_loss: 0.1366 - val_acc: 0.9520\n",
      "Epoch 82/100\n",
      "100/100 [==============================] - 16s 158ms/step - loss: 0.1310 - acc: 0.9500 - val_loss: 0.1429 - val_acc: 0.9500\n",
      "Epoch 83/100\n",
      "100/100 [==============================] - 14s 140ms/step - loss: 0.1120 - acc: 0.9545 - val_loss: 0.1427 - val_acc: 0.9540\n",
      "Epoch 84/100\n",
      "100/100 [==============================] - 14s 141ms/step - loss: 0.1053 - acc: 0.9600 - val_loss: 0.1422 - val_acc: 0.9560\n",
      "Epoch 85/100\n",
      "100/100 [==============================] - 14s 141ms/step - loss: 0.1149 - acc: 0.9530 - val_loss: 0.1738 - val_acc: 0.9410\n",
      "Epoch 86/100\n",
      "100/100 [==============================] - 14s 141ms/step - loss: 0.1271 - acc: 0.9505 - val_loss: 0.1329 - val_acc: 0.9490\n",
      "Epoch 87/100\n",
      "100/100 [==============================] - 14s 140ms/step - loss: 0.0944 - acc: 0.9615 - val_loss: 0.1574 - val_acc: 0.9580\n",
      "Epoch 88/100\n",
      "100/100 [==============================] - 14s 140ms/step - loss: 0.1011 - acc: 0.9620 - val_loss: 0.1479 - val_acc: 0.9580\n",
      "Epoch 89/100\n",
      "100/100 [==============================] - 14s 141ms/step - loss: 0.1142 - acc: 0.9540 - val_loss: 0.1218 - val_acc: 0.9550\n",
      "Epoch 90/100\n",
      "100/100 [==============================] - 14s 141ms/step - loss: 0.1110 - acc: 0.9540 - val_loss: 0.1193 - val_acc: 0.9590\n",
      "Epoch 91/100\n",
      "100/100 [==============================] - 14s 141ms/step - loss: 0.1057 - acc: 0.9630 - val_loss: 0.1588 - val_acc: 0.9510\n",
      "Epoch 92/100\n",
      "100/100 [==============================] - 14s 141ms/step - loss: 0.1078 - acc: 0.9600 - val_loss: 0.1416 - val_acc: 0.9520\n",
      "Epoch 93/100\n",
      "100/100 [==============================] - 14s 141ms/step - loss: 0.1152 - acc: 0.9615 - val_loss: 0.1440 - val_acc: 0.9530\n",
      "Epoch 94/100\n",
      "100/100 [==============================] - 14s 141ms/step - loss: 0.1229 - acc: 0.9505 - val_loss: 0.1812 - val_acc: 0.9420\n",
      "Epoch 95/100\n",
      "100/100 [==============================] - 14s 140ms/step - loss: 0.0963 - acc: 0.9655 - val_loss: 0.1932 - val_acc: 0.9500\n",
      "Epoch 96/100\n",
      "100/100 [==============================] - 14s 141ms/step - loss: 0.1221 - acc: 0.9535 - val_loss: 0.1276 - val_acc: 0.9610\n",
      "Epoch 97/100\n",
      "100/100 [==============================] - 14s 140ms/step - loss: 0.1228 - acc: 0.9520 - val_loss: 0.1290 - val_acc: 0.9580\n",
      "Epoch 98/100\n",
      "100/100 [==============================] - 14s 142ms/step - loss: 0.1054 - acc: 0.9560 - val_loss: 0.1686 - val_acc: 0.9470\n",
      "Epoch 99/100\n",
      "100/100 [==============================] - 14s 142ms/step - loss: 0.1160 - acc: 0.9540 - val_loss: 0.1564 - val_acc: 0.9480\n",
      "Epoch 100/100\n",
      "100/100 [==============================] - 14s 141ms/step - loss: 0.1296 - acc: 0.9505 - val_loss: 0.0823 - val_acc: 0.9730\n"
     ]
    }
   ],
   "source": [
    "model.compile(loss='binary_crossentropy',\n",
    "optimizer=keras.optimizers.RMSprop(learning_rate=1e-5),metrics=['acc'])\n",
    "\n",
    "history = model.fit(\n",
    "train_generator,\n",
    "steps_per_epoch=100,\n",
    "epochs=100,\n",
    "validation_data=validation_generator,\n",
    "validation_steps=50)"
   ]
  },
  {
   "cell_type": "code",
   "execution_count": 33,
   "metadata": {},
   "outputs": [],
   "source": [
    "import pandas as pd\n",
    "import matplotlib.pyplot as plt"
   ]
  },
  {
   "cell_type": "code",
   "execution_count": 34,
   "metadata": {},
   "outputs": [
    {
     "data": {
      "image/png": "[encoded data removed]",
      "text/plain": [
       "<Figure size 800x500 with 1 Axes>"
      ]
     },
     "metadata": {},
     "output_type": "display_data"
    },
    {
     "ename": "",
     "evalue": "",
     "output_type": "error",
     "traceback": [
      "\u001b[1;31mThe Kernel crashed while executing code in the the current cell or a previous cell. Please review the code in the cell(s) to identify a possible cause of the failure. Click <a href='https://aka.ms/vscodeJupyterKernelCrash'>here</a> for more info. View Jupyter <a href='command:jupyter.viewOutput'>log</a> for further details."
     ]
    }
   ],
   "source": [
    "pd.DataFrame(history.history).plot(figsize=(8, 5))\n",
    "plt.grid(True)\n",
    "plt.gca().set_ylim(0, 1) # set the vertical range to [0.0-1]\n",
    "plt.show()"
   ]
  },
  {
   "cell_type": "code",
   "execution_count": null,
   "metadata": {},
   "outputs": [],
   "source": []
  }
 ],
 "metadata": {
  "kernelspec": {
   "display_name": "Python 3.10.4 ('tensorflow1')",
   "language": "python",
   "name": "python3"
  },
  "language_info": {
   "codemirror_mode": {
    "name": "ipython",
    "version": 3
   },
   "file_extension": ".py",
   "mimetype": "text/x-python",
   "name": "python",
   "nbconvert_exporter": "python",
   "pygments_lexer": "ipython3",
   "version": "3.10.4"
  },
  "orig_nbformat": 4,
  "vscode": {
   "interpreter": {
    "hash": "32df1eb32394b513ab03ec1ca1fed6ddb93f4a47a0f6d691f350cc1ad9704886"
   }
  }
 },
 "nbformat": 4,
 "nbformat_minor": 2
}
