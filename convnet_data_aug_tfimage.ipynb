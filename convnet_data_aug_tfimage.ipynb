{
 "cells": [
  {
   "cell_type": "code",
   "execution_count": 289,
   "metadata": {},
   "outputs": [],
   "source": [
    "import os, shutil\n",
    "import warnings\n",
    "import pathlib\n",
    "warnings.filterwarnings('ignore')\n",
    "os.environ['TF_CPP_MIN_LOG_LEVEL'] = '3'"
   ]
  },
  {
   "cell_type": "code",
   "execution_count": 290,
   "metadata": {},
   "outputs": [],
   "source": [
    "base_dir = '/home/kailash/VScode Python projects/tf/conv/small_dataset/'"
   ]
  },
  {
   "cell_type": "code",
   "execution_count": 291,
   "metadata": {},
   "outputs": [],
   "source": [
    "train_dir = os.path.join(base_dir,'train')\n",
    "\n",
    "validation_dir = os.path.join(base_dir, 'validation')\n",
    "\n",
    "test_dir = os.path.join(base_dir, 'test')"
   ]
  },
  {
   "cell_type": "code",
   "execution_count": 292,
   "metadata": {},
   "outputs": [],
   "source": [
    "import tensorflow as tf"
   ]
  },
  {
   "cell_type": "code",
   "execution_count": 293,
   "metadata": {},
   "outputs": [
    {
     "name": "stdout",
     "output_type": "stream",
     "text": [
      "Num GPUs Available:  1\n"
     ]
    }
   ],
   "source": [
    "print(\"Num GPUs Available: \", len(tf.config.list_physical_devices('GPU')))"
   ]
  },
  {
   "cell_type": "code",
   "execution_count": 294,
   "metadata": {},
   "outputs": [],
   "source": [
    "import tensorflow as tf\n",
    "from tensorflow import keras\n"
   ]
  },
  {
   "cell_type": "code",
   "execution_count": 295,
   "metadata": {},
   "outputs": [],
   "source": [
    "train_dir = pathlib.Path(train_dir)"
   ]
  },
  {
   "cell_type": "code",
   "execution_count": 296,
   "metadata": {},
   "outputs": [],
   "source": [
    "train_ds = tf.data.Dataset.list_files(str(train_dir/'*/*'), shuffle=False)"
   ]
  },
  {
   "cell_type": "code",
   "execution_count": 297,
   "metadata": {},
   "outputs": [],
   "source": [
    "validation_dir = pathlib.Path(validation_dir)"
   ]
  },
  {
   "cell_type": "code",
   "execution_count": 298,
   "metadata": {},
   "outputs": [],
   "source": [
    "val_ds = tf.data.Dataset.list_files(str(validation_dir/'*/*'), shuffle=False)"
   ]
  },
  {
   "cell_type": "code",
   "execution_count": 299,
   "metadata": {},
   "outputs": [
    {
     "data": {
      "text/plain": [
       "<TensorSliceDataset element_spec=TensorSpec(shape=(), dtype=tf.string, name=None)>"
      ]
     },
     "execution_count": 299,
     "metadata": {},
     "output_type": "execute_result"
    }
   ],
   "source": [
    "train_ds"
   ]
  },
  {
   "cell_type": "code",
   "execution_count": 300,
   "metadata": {},
   "outputs": [],
   "source": [
    "def get_label(file_path):\n",
    "  # Convert the path to a list of path components\n",
    "  parts = tf.strings.split(file_path, os.path.sep)\n",
    "  # The second to last is the class-directory\n",
    "  one_hot = parts[-2] == ['cats','dogs']\n",
    "  # Integer encode the label\n",
    "  return tf.argmax(one_hot)"
   ]
  },
  {
   "cell_type": "code",
   "execution_count": 301,
   "metadata": {},
   "outputs": [],
   "source": [
    "def decode_img(img):\n",
    "  # Convert the compressed string to a 3D uint8 tensor\n",
    "  img = tf.io.decode_jpeg(img, channels=3)\n",
    "  # Resize the image to the desired size\n",
    "  return tf.image.resize(img, [150, 150])"
   ]
  },
  {
   "cell_type": "code",
   "execution_count": 302,
   "metadata": {},
   "outputs": [],
   "source": [
    "def process_path(file_path):\n",
    "  label = get_label(file_path)\n",
    "  # Load the raw data from the file as a string\n",
    "  img = tf.io.read_file(file_path)\n",
    "  img = decode_img(img)\n",
    "  return img, label"
   ]
  },
  {
   "cell_type": "code",
   "execution_count": 303,
   "metadata": {},
   "outputs": [],
   "source": [
    "AUTOTUNE = tf.data.AUTOTUNE"
   ]
  },
  {
   "cell_type": "code",
   "execution_count": 304,
   "metadata": {},
   "outputs": [],
   "source": [
    "train_ds = train_ds.map(process_path, num_parallel_calls=AUTOTUNE)\n",
    "val_ds = val_ds.map(process_path, num_parallel_calls=AUTOTUNE)"
   ]
  },
  {
   "cell_type": "code",
   "execution_count": null,
   "metadata": {},
   "outputs": [],
   "source": []
  },
  {
   "cell_type": "code",
   "execution_count": 305,
   "metadata": {},
   "outputs": [],
   "source": [
    "IMG_SIZE = 150\n",
    "\n",
    "resize_and_rescale = tf.keras.Sequential([\n",
    "   tf.keras.layers.Resizing(IMG_SIZE, IMG_SIZE),\n",
    "   tf.keras.layers.Rescaling(1./255)\n",
    "])"
   ]
  },
  {
   "cell_type": "code",
   "execution_count": 306,
   "metadata": {},
   "outputs": [],
   "source": [
    "data_augmentation = tf.keras.Sequential([\n",
    "   tf.keras.layers.RandomRotation(0.2),\n",
    "  tf.keras.layers.RandomFlip(\"horizontal_and_vertical\"),\n",
    "  tf.keras.layers.RandomTranslation(.2,.2),\n",
    "  tf.keras.layers.RandomZoom(.2)\n",
    "])\n",
    " "
   ]
  },
  {
   "cell_type": "code",
   "execution_count": 307,
   "metadata": {},
   "outputs": [
    {
     "data": {
      "text/plain": [
       "<ParallelMapDataset element_spec=(TensorSpec(shape=(150, 150, 3), dtype=tf.float32, name=None), TensorSpec(shape=(), dtype=tf.int64, name=None))>"
      ]
     },
     "execution_count": 307,
     "metadata": {},
     "output_type": "execute_result"
    }
   ],
   "source": [
    "train_ds\n"
   ]
  },
  {
   "cell_type": "code",
   "execution_count": 308,
   "metadata": {},
   "outputs": [],
   "source": [
    "batch_size = 10\n",
    "\n",
    "\n",
    "def prepare(ds, shuffle=False, augment=False):\n",
    "  # Resize and rescale all datasets.\n",
    "  ds = ds.map(lambda x, y: (resize_and_rescale(x), y), \n",
    "              num_parallel_calls=AUTOTUNE)\n",
    "\n",
    "  if shuffle:\n",
    "    ds = ds.shuffle(1000)\n",
    "\n",
    "  # Batch all datasets.\n",
    "  ds = ds.batch(batch_size)\n",
    "\n",
    "  # Use data augmentation only on the training set.\n",
    "  if augment:\n",
    "    ds = ds.map(lambda x, y: (data_augmentation(x, training=True), y), \n",
    "                num_parallel_calls=AUTOTUNE)\n",
    "\n",
    "  # Use buffered prefetching on all datasets.\n",
    "  return ds.prefetch(buffer_size=AUTOTUNE)"
   ]
  },
  {
   "cell_type": "code",
   "execution_count": 309,
   "metadata": {},
   "outputs": [
    {
     "name": "stdout",
     "output_type": "stream",
     "text": [
      "WARNING:tensorflow:Using a while_loop for converting RngReadAndSkip cause there is no registered converter for this op.\n",
      "WARNING:tensorflow:Using a while_loop for converting Bitcast cause there is no registered converter for this op.\n",
      "WARNING:tensorflow:Using a while_loop for converting Bitcast cause there is no registered converter for this op.\n",
      "WARNING:tensorflow:Using a while_loop for converting StatelessRandomUniformV2 cause there is no registered converter for this op.\n",
      "WARNING:tensorflow:Using a while_loop for converting ImageProjectiveTransformV3 cause there is no registered converter for this op.\n",
      "WARNING:tensorflow:Using a while_loop for converting RngReadAndSkip cause there is no registered converter for this op.\n",
      "WARNING:tensorflow:Using a while_loop for converting Bitcast cause there is no registered converter for this op.\n",
      "WARNING:tensorflow:Using a while_loop for converting Bitcast cause there is no registered converter for this op.\n",
      "WARNING:tensorflow:Using a while_loop for converting StatelessRandomUniformV2 cause there is no registered converter for this op.\n",
      "WARNING:tensorflow:Using a while_loop for converting RngReadAndSkip cause there is no registered converter for this op.\n",
      "WARNING:tensorflow:Using a while_loop for converting Bitcast cause there is no registered converter for this op.\n",
      "WARNING:tensorflow:Using a while_loop for converting Bitcast cause there is no registered converter for this op.\n",
      "WARNING:tensorflow:Using a while_loop for converting StatelessRandomUniformV2 cause there is no registered converter for this op.\n",
      "WARNING:tensorflow:Using a while_loop for converting RngReadAndSkip cause there is no registered converter for this op.\n",
      "WARNING:tensorflow:Using a while_loop for converting Bitcast cause there is no registered converter for this op.\n",
      "WARNING:tensorflow:Using a while_loop for converting Bitcast cause there is no registered converter for this op.\n",
      "WARNING:tensorflow:Using a while_loop for converting StatelessRandomUniformV2 cause there is no registered converter for this op.\n",
      "WARNING:tensorflow:Using a while_loop for converting ImageProjectiveTransformV3 cause there is no registered converter for this op.\n",
      "WARNING:tensorflow:Using a while_loop for converting RngReadAndSkip cause there is no registered converter for this op.\n",
      "WARNING:tensorflow:Using a while_loop for converting Bitcast cause there is no registered converter for this op.\n",
      "WARNING:tensorflow:Using a while_loop for converting Bitcast cause there is no registered converter for this op.\n",
      "WARNING:tensorflow:Using a while_loop for converting StatelessRandomUniformV2 cause there is no registered converter for this op.\n",
      "WARNING:tensorflow:Using a while_loop for converting ImageProjectiveTransformV3 cause there is no registered converter for this op.\n",
      "WARNING:tensorflow:Using a while_loop for converting RngReadAndSkip cause there is no registered converter for this op.\n",
      "WARNING:tensorflow:Using a while_loop for converting Bitcast cause there is no registered converter for this op.\n",
      "WARNING:tensorflow:Using a while_loop for converting Bitcast cause there is no registered converter for this op.\n",
      "WARNING:tensorflow:Using a while_loop for converting StatelessRandomUniformV2 cause there is no registered converter for this op.\n",
      "WARNING:tensorflow:Using a while_loop for converting RngReadAndSkip cause there is no registered converter for this op.\n",
      "WARNING:tensorflow:Using a while_loop for converting Bitcast cause there is no registered converter for this op.\n",
      "WARNING:tensorflow:Using a while_loop for converting Bitcast cause there is no registered converter for this op.\n",
      "WARNING:tensorflow:Using a while_loop for converting StatelessRandomUniformV2 cause there is no registered converter for this op.\n",
      "WARNING:tensorflow:Using a while_loop for converting RngReadAndSkip cause there is no registered converter for this op.\n",
      "WARNING:tensorflow:Using a while_loop for converting Bitcast cause there is no registered converter for this op.\n",
      "WARNING:tensorflow:Using a while_loop for converting Bitcast cause there is no registered converter for this op.\n",
      "WARNING:tensorflow:Using a while_loop for converting StatelessRandomUniformV2 cause there is no registered converter for this op.\n",
      "WARNING:tensorflow:Using a while_loop for converting ImageProjectiveTransformV3 cause there is no registered converter for this op.\n"
     ]
    }
   ],
   "source": [
    "train_ds = prepare(train_ds, shuffle=True, augment=True)\n",
    "val_ds = prepare(val_ds)\n"
   ]
  },
  {
   "cell_type": "code",
   "execution_count": 310,
   "metadata": {},
   "outputs": [
    {
     "data": {
      "text/plain": [
       "<PrefetchDataset element_spec=(TensorSpec(shape=(None, 150, 150, 3), dtype=tf.float32, name=None), TensorSpec(shape=(None,), dtype=tf.int64, name=None))>"
      ]
     },
     "execution_count": 310,
     "metadata": {},
     "output_type": "execute_result"
    }
   ],
   "source": [
    "train_ds"
   ]
  },
  {
   "cell_type": "code",
   "execution_count": 311,
   "metadata": {},
   "outputs": [],
   "source": [
    "model = tf.keras.models.Sequential()\n",
    "model.add(tf.keras.layers.Conv2D(32,(3,3),padding = \"same\",activation=\"relu\",input_shape=(150,150,3)))\n",
    "model.add(tf.keras.layers.MaxPooling2D((2,3)))\n",
    "model.add(tf.keras.layers.Conv2D(64, (3, 3),padding = \"same\", activation='relu'))\n",
    "model.add(tf.keras.layers.MaxPooling2D((2, 2)))\n",
    "model.add(tf.keras.layers.Conv2D(128, (3, 3), padding = \"same\",activation='relu'))\n",
    "model.add(tf.keras.layers.MaxPooling2D((2, 2)))\n",
    "model.add(tf.keras.layers.Conv2D(128, (3, 3), padding = \"same\",activation='relu'))\n",
    "model.add(tf.keras.layers.MaxPooling2D((2, 2)))\n",
    "model.add(tf.keras.layers.Flatten())\n",
    "model.add(tf.keras.layers.Dropout(0.5))\n",
    "model.add(tf.keras.layers.Dense(512, activation='relu'))\n",
    "model.add(tf.keras.layers.Dense(1, activation='sigmoid'))\n"
   ]
  },
  {
   "cell_type": "code",
   "execution_count": 312,
   "metadata": {},
   "outputs": [
    {
     "name": "stdout",
     "output_type": "stream",
     "text": [
      "Model: \"sequential_33\"\n",
      "_________________________________________________________________\n",
      " Layer (type)                Output Shape              Param #   \n",
      "=================================================================\n",
      " conv2d_37 (Conv2D)          (None, 150, 150, 32)      896       \n",
      "                                                                 \n",
      " max_pooling2d_37 (MaxPoolin  (None, 75, 50, 32)       0         \n",
      " g2D)                                                            \n",
      "                                                                 \n",
      " conv2d_38 (Conv2D)          (None, 75, 50, 64)        18496     \n",
      "                                                                 \n",
      " max_pooling2d_38 (MaxPoolin  (None, 37, 25, 64)       0         \n",
      " g2D)                                                            \n",
      "                                                                 \n",
      " conv2d_39 (Conv2D)          (None, 37, 25, 128)       73856     \n",
      "                                                                 \n",
      " max_pooling2d_39 (MaxPoolin  (None, 18, 12, 128)      0         \n",
      " g2D)                                                            \n",
      "                                                                 \n",
      " conv2d_40 (Conv2D)          (None, 18, 12, 128)       147584    \n",
      "                                                                 \n",
      " max_pooling2d_40 (MaxPoolin  (None, 9, 6, 128)        0         \n",
      " g2D)                                                            \n",
      "                                                                 \n",
      " flatten_8 (Flatten)         (None, 6912)              0         \n",
      "                                                                 \n",
      " dropout_8 (Dropout)         (None, 6912)              0         \n",
      "                                                                 \n",
      " dense_16 (Dense)            (None, 512)               3539456   \n",
      "                                                                 \n",
      " dense_17 (Dense)            (None, 1)                 513       \n",
      "                                                                 \n",
      "=================================================================\n",
      "Total params: 3,780,801\n",
      "Trainable params: 3,780,801\n",
      "Non-trainable params: 0\n",
      "_________________________________________________________________\n"
     ]
    }
   ],
   "source": [
    "model.summary()"
   ]
  },
  {
   "cell_type": "code",
   "execution_count": 313,
   "metadata": {},
   "outputs": [],
   "source": [
    "\n",
    "model.compile(loss='binary_crossentropy',optimizer=tf.keras.optimizers.Adam(learning_rate=1e-4,decay=1e-6),metrics=['acc'])"
   ]
  },
  {
   "cell_type": "code",
   "execution_count": 314,
   "metadata": {},
   "outputs": [],
   "source": [
    "checkpoint_cb = keras.callbacks.ModelCheckpoint(\"cats_dog\",save_best_only=True)"
   ]
  },
  {
   "cell_type": "code",
   "execution_count": 315,
   "metadata": {},
   "outputs": [],
   "source": [
    "early_stopping_cb = keras.callbacks.EarlyStopping(patience=10,restore_best_weights=True)"
   ]
  },
  {
   "cell_type": "code",
   "execution_count": 316,
   "metadata": {},
   "outputs": [],
   "source": [
    "root_logdir = os.path.join(os.curdir, \"my_logs\")\n",
    "def get_run_logdir():\n",
    "    import time\n",
    "    run_id = time.strftime(\"run_%Y_%m_%d-%H_%M_%S\")\n",
    "    return os.path.join(root_logdir, run_id)\n",
    "\n",
    "\n",
    "run_logdir = get_run_logdir()\n"
   ]
  },
  {
   "cell_type": "code",
   "execution_count": 317,
   "metadata": {},
   "outputs": [],
   "source": [
    "tensorboard_cb = keras.callbacks.TensorBoard(run_logdir)"
   ]
  },
  {
   "cell_type": "code",
   "execution_count": 318,
   "metadata": {},
   "outputs": [
    {
     "name": "stdout",
     "output_type": "stream",
     "text": [
      "Epoch 1/100\n",
      "200/200 [==============================] - 11s 42ms/step - loss: 0.6531 - acc: 0.6150 - val_loss: 0.7241 - val_acc: 0.5000\n",
      "Epoch 2/100\n",
      "200/200 [==============================] - 9s 40ms/step - loss: 0.6675 - acc: 0.5940 - val_loss: 0.7758 - val_acc: 0.5000\n",
      "Epoch 3/100\n",
      "200/200 [==============================] - 9s 40ms/step - loss: 0.6841 - acc: 0.5765 - val_loss: 0.7212 - val_acc: 0.5000\n",
      "Epoch 4/100\n",
      "200/200 [==============================] - 8s 36ms/step - loss: 0.6730 - acc: 0.5790 - val_loss: 0.7075 - val_acc: 0.5000\n",
      "Epoch 5/100\n",
      "200/200 [==============================] - 8s 39ms/step - loss: 0.6895 - acc: 0.5195 - val_loss: 0.6930 - val_acc: 0.5000\n",
      "Epoch 6/100\n",
      "200/200 [==============================] - 8s 37ms/step - loss: 0.6937 - acc: 0.4915 - val_loss: 0.6929 - val_acc: 0.4990\n",
      "Epoch 7/100\n",
      "200/200 [==============================] - 8s 38ms/step - loss: 0.6899 - acc: 0.5250 - val_loss: 0.7007 - val_acc: 0.4990\n",
      "Epoch 8/100\n",
      "200/200 [==============================] - 8s 39ms/step - loss: 0.6861 - acc: 0.5375 - val_loss: 0.7036 - val_acc: 0.5000\n",
      "Epoch 9/100\n",
      "200/200 [==============================] - 8s 37ms/step - loss: 0.6784 - acc: 0.5590 - val_loss: 0.7315 - val_acc: 0.5000\n",
      "Epoch 10/100\n",
      "200/200 [==============================] - 8s 37ms/step - loss: 0.6744 - acc: 0.5835 - val_loss: 0.7673 - val_acc: 0.5010\n",
      "Epoch 11/100\n",
      "200/200 [==============================] - 8s 38ms/step - loss: 0.6867 - acc: 0.5715 - val_loss: 0.7042 - val_acc: 0.5020\n",
      "Epoch 12/100\n",
      "200/200 [==============================] - 9s 41ms/step - loss: 0.6925 - acc: 0.5310 - val_loss: 0.6918 - val_acc: 0.5250\n",
      "Epoch 13/100\n",
      "200/200 [==============================] - 9s 41ms/step - loss: 0.6909 - acc: 0.5220 - val_loss: 0.6908 - val_acc: 0.5270\n",
      "Epoch 14/100\n",
      "200/200 [==============================] - 9s 41ms/step - loss: 0.6892 - acc: 0.5485 - val_loss: 0.6909 - val_acc: 0.5240\n",
      "Epoch 15/100\n",
      "200/200 [==============================] - 9s 41ms/step - loss: 0.6818 - acc: 0.5670 - val_loss: 0.7268 - val_acc: 0.5000\n",
      "Epoch 16/100\n",
      "200/200 [==============================] - 10s 43ms/step - loss: 0.6790 - acc: 0.5955 - val_loss: 0.7063 - val_acc: 0.5040\n",
      "Epoch 17/100\n",
      "200/200 [==============================] - 9s 40ms/step - loss: 0.6715 - acc: 0.6015 - val_loss: 0.6971 - val_acc: 0.5130\n",
      "Epoch 18/100\n",
      "200/200 [==============================] - 8s 34ms/step - loss: 0.6738 - acc: 0.5785 - val_loss: 0.7053 - val_acc: 0.5050\n",
      "Epoch 19/100\n",
      "200/200 [==============================] - 7s 33ms/step - loss: 0.6722 - acc: 0.5835 - val_loss: 0.7097 - val_acc: 0.5100\n",
      "Epoch 20/100\n",
      "200/200 [==============================] - 7s 34ms/step - loss: 0.6649 - acc: 0.6035 - val_loss: 0.6870 - val_acc: 0.5580\n",
      "Epoch 21/100\n",
      "200/200 [==============================] - 7s 34ms/step - loss: 0.6589 - acc: 0.6370 - val_loss: 0.7482 - val_acc: 0.5060\n",
      "Epoch 22/100\n",
      "200/200 [==============================] - 8s 34ms/step - loss: 0.6399 - acc: 0.6340 - val_loss: 0.7038 - val_acc: 0.5240\n",
      "Epoch 23/100\n",
      "200/200 [==============================] - 7s 34ms/step - loss: 0.6596 - acc: 0.6210 - val_loss: 0.7285 - val_acc: 0.5050\n",
      "Epoch 24/100\n",
      "200/200 [==============================] - 7s 33ms/step - loss: 0.6614 - acc: 0.6060 - val_loss: 0.6892 - val_acc: 0.5240\n",
      "Epoch 25/100\n",
      "200/200 [==============================] - 8s 38ms/step - loss: 0.6609 - acc: 0.6110 - val_loss: 0.6846 - val_acc: 0.5580\n",
      "Epoch 26/100\n",
      "200/200 [==============================] - 9s 43ms/step - loss: 0.6279 - acc: 0.6615 - val_loss: 0.7052 - val_acc: 0.5580\n",
      "Epoch 27/100\n",
      "200/200 [==============================] - 8s 36ms/step - loss: 0.6139 - acc: 0.6810 - val_loss: 1.1273 - val_acc: 0.5020\n",
      "Epoch 28/100\n",
      "200/200 [==============================] - 8s 36ms/step - loss: 0.6368 - acc: 0.6475 - val_loss: 0.7430 - val_acc: 0.5590\n",
      "Epoch 29/100\n",
      "200/200 [==============================] - 8s 34ms/step - loss: 0.6193 - acc: 0.6590 - val_loss: 0.8557 - val_acc: 0.5290\n",
      "Epoch 30/100\n",
      "200/200 [==============================] - 7s 31ms/step - loss: 0.6348 - acc: 0.6490 - val_loss: 0.8114 - val_acc: 0.5240\n",
      "Epoch 31/100\n",
      "200/200 [==============================] - 8s 36ms/step - loss: 0.6115 - acc: 0.6765 - val_loss: 0.7748 - val_acc: 0.5600\n",
      "Epoch 32/100\n",
      "200/200 [==============================] - 7s 32ms/step - loss: 0.6078 - acc: 0.6765 - val_loss: 0.7816 - val_acc: 0.5450\n",
      "Epoch 33/100\n",
      "200/200 [==============================] - 7s 29ms/step - loss: 0.5881 - acc: 0.6880 - val_loss: 0.7725 - val_acc: 0.5560\n",
      "Epoch 34/100\n",
      "200/200 [==============================] - 7s 31ms/step - loss: 0.5860 - acc: 0.6950 - val_loss: 0.7030 - val_acc: 0.5900\n",
      "Epoch 35/100\n",
      "200/200 [==============================] - 6s 28ms/step - loss: 0.5761 - acc: 0.7015 - val_loss: 0.7664 - val_acc: 0.5990\n"
     ]
    }
   ],
   "source": [
    "history = model.fit(train_ds,epochs=100,validation_data=val_ds,callbacks=[early_stopping_cb,tensorboard_cb])"
   ]
  },
  {
   "cell_type": "code",
   "execution_count": 319,
   "metadata": {},
   "outputs": [
    {
     "data": {
      "text/plain": [
       "dict_keys(['loss', 'acc', 'val_loss', 'val_acc'])"
      ]
     },
     "execution_count": 319,
     "metadata": {},
     "output_type": "execute_result"
    }
   ],
   "source": [
    "history.history.keys()"
   ]
  },
  {
   "cell_type": "code",
   "execution_count": 320,
   "metadata": {},
   "outputs": [],
   "source": [
    "import pandas as pd\n",
    "import matplotlib.pyplot as plt"
   ]
  },
  {
   "cell_type": "code",
   "execution_count": 321,
   "metadata": {},
   "outputs": [
    {
     "data": {
      "image/png": "[encoded data removed]",
      "text/plain": [
       "<Figure size 800x500 with 1 Axes>"
      ]
     },
     "metadata": {},
     "output_type": "display_data"
    }
   ],
   "source": [
    "pd.DataFrame(history.history).plot(figsize=(8, 5))\n",
    "plt.grid(True)\n",
    "plt.gca().set_ylim(0, 1) # set the vertical range to [0-1]\n",
    "plt.show()"
   ]
  },
  {
   "cell_type": "code",
   "execution_count": 322,
   "metadata": {},
   "outputs": [],
   "source": [
    "# model.save(\"cats_and_dogs\")"
   ]
  },
  {
   "cell_type": "code",
   "execution_count": 323,
   "metadata": {},
   "outputs": [
    {
     "name": "stdout",
     "output_type": "stream",
     "text": [
      "/bin/bash: /home/kailash/anaconda3/envs/tensorflow1/lib/libtinfo.so.6: no version information available (required by /bin/bash)\n",
      "\n",
      "NOTE: Using experimental fast data loading logic. To disable, pass\n",
      "    \"--load_fast=false\" and report issues on GitHub. More details:\n",
      "    https://github.com/tensorflow/tensorboard/issues/4784\n",
      "\n",
      "TensorBoard 2.10.0 at http://kailash-ASUS-TUF-Gaming-A17-FA706IC-FA766IC:6006/ (Press CTRL+C to quit)\n",
      "W0921 12:43:54.292877 139896970794560 security_validator.py:46] In 3.0, this warning will become an error:\n",
      "Illegal Content-Security-Policy for script-src: 'unsafe-inline'\n",
      "W0921 12:43:55.062223 139896480069184 security_validator.py:46] In 3.0, this warning will become an error:\n",
      "Illegal Content-Security-Policy for script-src: 'unsafe-inline'\n",
      "W0921 12:43:57.852058 139896480069184 application.py:558] path /data/plugin/profile not found, sending 404\n",
      "W0921 12:43:57.881579 139896480069184 application.py:558] path /data/plugin/profile/overview_page@;run=run_2022_09_20-15_20_37/2022_09_20_15_20_53 not found, sending 404\n",
      "W0921 12:43:59.576030 139896480069184 application.py:558] path /data/plugin/profile/overview_page@;run=run_2022_09_20-14_33_06/2022_09_20_14_33_11 not found, sending 404\n",
      "W0921 12:44:03.670174 139896463283776 security_validator.py:46] In 3.0, this warning will become an error:\n",
      "Illegal Content-Security-Policy for script-src: 'unsafe-inline'\n",
      "W0921 12:44:04.427340 139896987579968 security_validator.py:46] In 3.0, this warning will become an error:\n",
      "Illegal Content-Security-Policy for script-src: 'unsafe-inline'\n",
      "W0921 12:44:14.583056 139896471676480 security_validator.py:46] In 3.0, this warning will become an error:\n",
      "Illegal Content-Security-Policy for script-src: 'unsafe-inline'\n",
      "W0921 12:44:15.318947 139896962401856 security_validator.py:46] In 3.0, this warning will become an error:\n",
      "Illegal Content-Security-Policy for script-src: 'unsafe-inline'\n",
      "W0921 12:44:19.602796 139896962401856 application.py:558] path /data/plugin/profile not found, sending 404\n",
      "W0921 12:44:19.645575 139896962401856 application.py:558] path /data/plugin/profile/overview_page@;run=run_2022_09_20-15_20_37/2022_09_20_15_20_53 not found, sending 404\n",
      "W0921 12:44:22.575418 139896962401856 application.py:558] path /data/plugin/profile/overview_page@;run=run_2022_09_20-14_33_06/2022_09_20_14_33_11 not found, sending 404\n",
      "W0921 12:45:03.196411 139896962401856 security_validator.py:46] In 3.0, this warning will become an error:\n",
      "Illegal Content-Security-Policy for script-src: 'unsafe-inline'\n",
      "^C\n"
     ]
    }
   ],
   "source": [
    "!tensorboard --bind_all --logdir=./my_logs --port=6006"
   ]
  }
 ],
 "metadata": {
  "kernelspec": {
   "display_name": "Python 3.10.4 ('tensorflow1')",
   "language": "python",
   "name": "python3"
  },
  "language_info": {
   "codemirror_mode": {
    "name": "ipython",
    "version": 3
   },
   "file_extension": ".py",
   "mimetype": "text/x-python",
   "name": "python",
   "nbconvert_exporter": "python",
   "pygments_lexer": "ipython3",
   "version": "3.10.4"
  },
  "orig_nbformat": 4,
  "vscode": {
   "interpreter": {
    "hash": "32df1eb32394b513ab03ec1ca1fed6ddb93f4a47a0f6d691f350cc1ad9704886"
   }
  }
 },
 "nbformat": 4,
 "nbformat_minor": 2
}
