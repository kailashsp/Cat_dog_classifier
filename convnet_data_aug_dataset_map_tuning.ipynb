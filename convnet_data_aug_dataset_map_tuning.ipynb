{
 "cells": [
  {
   "cell_type": "code",
   "execution_count": 2,
   "metadata": {},
   "outputs": [],
   "source": [
    "import os, shutil\n",
    "import warnings\n",
    "import pathlib\n",
    "warnings.filterwarnings('ignore')\n",
    "os.environ['TF_CPP_MIN_LOG_LEVEL'] = '3'"
   ]
  },
  {
   "cell_type": "code",
   "execution_count": 32,
   "metadata": {},
   "outputs": [],
   "source": [
    "base_dir = '/home/kailash/VScode Python projects/tf/conv/small_dataset/'"
   ]
  },
  {
   "cell_type": "code",
   "execution_count": 33,
   "metadata": {},
   "outputs": [],
   "source": [
    "train_dir = os.path.join(base_dir,'train')\n",
    "\n",
    "validation_dir = os.path.join(base_dir, 'validation')\n",
    "\n",
    "test_dir = os.path.join(base_dir, 'test')"
   ]
  },
  {
   "cell_type": "code",
   "execution_count": 34,
   "metadata": {},
   "outputs": [],
   "source": [
    "import tensorflow as tf"
   ]
  },
  {
   "cell_type": "code",
   "execution_count": 3,
   "metadata": {},
   "outputs": [],
   "source": [
    "import keras_tuner as kt\n"
   ]
  },
  {
   "cell_type": "code",
   "execution_count": 35,
   "metadata": {},
   "outputs": [
    {
     "name": "stdout",
     "output_type": "stream",
     "text": [
      "Num GPUs Available:  1\n"
     ]
    }
   ],
   "source": [
    "print(\"Num GPUs Available: \", len(tf.config.list_physical_devices('GPU')))"
   ]
  },
  {
   "cell_type": "code",
   "execution_count": 36,
   "metadata": {},
   "outputs": [],
   "source": [
    "import tensorflow as tf\n",
    "from tensorflow import keras\n"
   ]
  },
  {
   "cell_type": "code",
   "execution_count": 37,
   "metadata": {},
   "outputs": [],
   "source": [
    "train_dir = pathlib.Path(train_dir)"
   ]
  },
  {
   "cell_type": "code",
   "execution_count": 38,
   "metadata": {},
   "outputs": [],
   "source": [
    "train_ds = tf.data.Dataset.list_files(str(train_dir/'*/*'), shuffle=False)"
   ]
  },
  {
   "cell_type": "code",
   "execution_count": 39,
   "metadata": {},
   "outputs": [],
   "source": [
    "validation_dir = pathlib.Path(validation_dir)"
   ]
  },
  {
   "cell_type": "code",
   "execution_count": 40,
   "metadata": {},
   "outputs": [],
   "source": [
    "val_ds = tf.data.Dataset.list_files(str(validation_dir/'*/*'), shuffle=False)"
   ]
  },
  {
   "cell_type": "code",
   "execution_count": 41,
   "metadata": {},
   "outputs": [
    {
     "data": {
      "text/plain": [
       "<TensorSliceDataset element_spec=TensorSpec(shape=(), dtype=tf.string, name=None)>"
      ]
     },
     "execution_count": 41,
     "metadata": {},
     "output_type": "execute_result"
    }
   ],
   "source": [
    "train_ds"
   ]
  },
  {
   "cell_type": "code",
   "execution_count": 42,
   "metadata": {},
   "outputs": [],
   "source": [
    "AUTOTUNE = tf.data.AUTOTUNE"
   ]
  },
  {
   "cell_type": "code",
   "execution_count": 43,
   "metadata": {},
   "outputs": [],
   "source": [
    "def get_label(file_path):\n",
    "  # Convert the path to a list of path components\n",
    "  parts = tf.strings.split(file_path, os.path.sep)\n",
    "  # The second to last is the class-directory\n",
    "  one_hot = parts[-2] == ['cats','dogs']\n",
    "  # Integer encode the label\n",
    "  return tf.argmax(one_hot)"
   ]
  },
  {
   "cell_type": "code",
   "execution_count": 44,
   "metadata": {},
   "outputs": [],
   "source": [
    "def decode_img(img):\n",
    "  # Convert the compressed string to a 3D uint8 tensor\n",
    "  img = tf.io.decode_jpeg(img, channels=3)\n",
    "  # Resize the image to the desired size\n",
    "  return tf.image.resize(img, [150, 150])"
   ]
  },
  {
   "cell_type": "code",
   "execution_count": 45,
   "metadata": {},
   "outputs": [],
   "source": [
    "def process_path(file_path):\n",
    "  label = get_label(file_path)\n",
    "  # Load the raw data from the file as a string\n",
    "  img = tf.io.read_file(file_path)\n",
    "  img = decode_img(img)\n",
    "  return img, label"
   ]
  },
  {
   "cell_type": "code",
   "execution_count": 46,
   "metadata": {},
   "outputs": [],
   "source": [
    "train_ds = train_ds.map(process_path, num_parallel_calls=AUTOTUNE)\n",
    "val_ds = val_ds.map(process_path, num_parallel_calls=AUTOTUNE)"
   ]
  },
  {
   "cell_type": "code",
   "execution_count": null,
   "metadata": {},
   "outputs": [],
   "source": []
  },
  {
   "cell_type": "code",
   "execution_count": 47,
   "metadata": {},
   "outputs": [],
   "source": [
    "IMG_SIZE = 150\n",
    "\n",
    "resize_and_rescale = tf.keras.Sequential([\n",
    "   tf.keras.layers.Resizing(IMG_SIZE, IMG_SIZE),\n",
    "   tf.keras.layers.Rescaling(1./255)\n",
    "])"
   ]
  },
  {
   "cell_type": "code",
   "execution_count": 48,
   "metadata": {},
   "outputs": [],
   "source": [
    "data_augmentation = tf.keras.Sequential([\n",
    "   tf.keras.layers.RandomRotation(0.2),\n",
    "  tf.keras.layers.RandomFlip(\"horizontal_and_vertical\"),\n",
    "  tf.keras.layers.RandomTranslation(.2,.2),\n",
    "  tf.keras.layers.RandomZoom(.2)\n",
    "])\n",
    " "
   ]
  },
  {
   "cell_type": "code",
   "execution_count": 49,
   "metadata": {},
   "outputs": [
    {
     "data": {
      "text/plain": [
       "<ParallelMapDataset element_spec=(TensorSpec(shape=(150, 150, 3), dtype=tf.float32, name=None), TensorSpec(shape=(), dtype=tf.int64, name=None))>"
      ]
     },
     "execution_count": 49,
     "metadata": {},
     "output_type": "execute_result"
    }
   ],
   "source": [
    "train_ds\n"
   ]
  },
  {
   "cell_type": "code",
   "execution_count": 50,
   "metadata": {},
   "outputs": [],
   "source": [
    "batch_size = 20\n",
    "AUTOTUNE = tf.data.AUTOTUNE\n",
    "\n",
    "def prepare(ds, shuffle=False, augment=False):\n",
    "  # Resize and rescale all datasets.\n",
    "  ds = ds.map(lambda x, y: (resize_and_rescale(x), y), \n",
    "              num_parallel_calls=AUTOTUNE)\n",
    "\n",
    "  if shuffle:\n",
    "    ds = ds.shuffle(1000)\n",
    "\n",
    "  # Batch all datasets.\n",
    "  ds = ds.batch(batch_size)\n",
    "\n",
    "  # Use data augmentation only on the training set.\n",
    "  if augment:\n",
    "    ds = ds.map(lambda x, y: (data_augmentation(x, training=True), y), \n",
    "                num_parallel_calls=AUTOTUNE)\n",
    "\n",
    "  # Use buffered prefetching on all datasets.\n",
    "  return ds.prefetch(buffer_size=AUTOTUNE)"
   ]
  },
  {
   "cell_type": "code",
   "execution_count": 51,
   "metadata": {},
   "outputs": [
    {
     "name": "stdout",
     "output_type": "stream",
     "text": [
      "WARNING:tensorflow:Using a while_loop for converting RngReadAndSkip cause there is no registered converter for this op.\n"
     ]
    },
    {
     "name": "stderr",
     "output_type": "stream",
     "text": [
      "WARNING:tensorflow:Using a while_loop for converting RngReadAndSkip cause there is no registered converter for this op.\n"
     ]
    },
    {
     "name": "stdout",
     "output_type": "stream",
     "text": [
      "WARNING:tensorflow:Using a while_loop for converting Bitcast cause there is no registered converter for this op.\n"
     ]
    },
    {
     "name": "stderr",
     "output_type": "stream",
     "text": [
      "WARNING:tensorflow:Using a while_loop for converting Bitcast cause there is no registered converter for this op.\n"
     ]
    },
    {
     "name": "stdout",
     "output_type": "stream",
     "text": [
      "WARNING:tensorflow:Using a while_loop for converting Bitcast cause there is no registered converter for this op.\n"
     ]
    },
    {
     "name": "stderr",
     "output_type": "stream",
     "text": [
      "WARNING:tensorflow:Using a while_loop for converting Bitcast cause there is no registered converter for this op.\n"
     ]
    },
    {
     "name": "stdout",
     "output_type": "stream",
     "text": [
      "WARNING:tensorflow:Using a while_loop for converting StatelessRandomUniformV2 cause there is no registered converter for this op.\n"
     ]
    },
    {
     "name": "stderr",
     "output_type": "stream",
     "text": [
      "WARNING:tensorflow:Using a while_loop for converting StatelessRandomUniformV2 cause there is no registered converter for this op.\n"
     ]
    },
    {
     "name": "stdout",
     "output_type": "stream",
     "text": [
      "WARNING:tensorflow:Using a while_loop for converting ImageProjectiveTransformV3 cause there is no registered converter for this op.\n"
     ]
    },
    {
     "name": "stderr",
     "output_type": "stream",
     "text": [
      "WARNING:tensorflow:Using a while_loop for converting ImageProjectiveTransformV3 cause there is no registered converter for this op.\n"
     ]
    },
    {
     "name": "stdout",
     "output_type": "stream",
     "text": [
      "WARNING:tensorflow:Using a while_loop for converting RngReadAndSkip cause there is no registered converter for this op.\n"
     ]
    },
    {
     "name": "stderr",
     "output_type": "stream",
     "text": [
      "WARNING:tensorflow:Using a while_loop for converting RngReadAndSkip cause there is no registered converter for this op.\n"
     ]
    },
    {
     "name": "stdout",
     "output_type": "stream",
     "text": [
      "WARNING:tensorflow:Using a while_loop for converting Bitcast cause there is no registered converter for this op.\n"
     ]
    },
    {
     "name": "stderr",
     "output_type": "stream",
     "text": [
      "WARNING:tensorflow:Using a while_loop for converting Bitcast cause there is no registered converter for this op.\n"
     ]
    },
    {
     "name": "stdout",
     "output_type": "stream",
     "text": [
      "WARNING:tensorflow:Using a while_loop for converting Bitcast cause there is no registered converter for this op.\n"
     ]
    },
    {
     "name": "stderr",
     "output_type": "stream",
     "text": [
      "WARNING:tensorflow:Using a while_loop for converting Bitcast cause there is no registered converter for this op.\n"
     ]
    },
    {
     "name": "stdout",
     "output_type": "stream",
     "text": [
      "WARNING:tensorflow:Using a while_loop for converting StatelessRandomUniformV2 cause there is no registered converter for this op.\n"
     ]
    },
    {
     "name": "stderr",
     "output_type": "stream",
     "text": [
      "WARNING:tensorflow:Using a while_loop for converting StatelessRandomUniformV2 cause there is no registered converter for this op.\n"
     ]
    },
    {
     "name": "stdout",
     "output_type": "stream",
     "text": [
      "WARNING:tensorflow:Using a while_loop for converting RngReadAndSkip cause there is no registered converter for this op.\n"
     ]
    },
    {
     "name": "stderr",
     "output_type": "stream",
     "text": [
      "WARNING:tensorflow:Using a while_loop for converting RngReadAndSkip cause there is no registered converter for this op.\n"
     ]
    },
    {
     "name": "stdout",
     "output_type": "stream",
     "text": [
      "WARNING:tensorflow:Using a while_loop for converting Bitcast cause there is no registered converter for this op.\n"
     ]
    },
    {
     "name": "stderr",
     "output_type": "stream",
     "text": [
      "WARNING:tensorflow:Using a while_loop for converting Bitcast cause there is no registered converter for this op.\n"
     ]
    },
    {
     "name": "stdout",
     "output_type": "stream",
     "text": [
      "WARNING:tensorflow:Using a while_loop for converting Bitcast cause there is no registered converter for this op.\n"
     ]
    },
    {
     "name": "stderr",
     "output_type": "stream",
     "text": [
      "WARNING:tensorflow:Using a while_loop for converting Bitcast cause there is no registered converter for this op.\n"
     ]
    },
    {
     "name": "stdout",
     "output_type": "stream",
     "text": [
      "WARNING:tensorflow:Using a while_loop for converting StatelessRandomUniformV2 cause there is no registered converter for this op.\n"
     ]
    },
    {
     "name": "stderr",
     "output_type": "stream",
     "text": [
      "WARNING:tensorflow:Using a while_loop for converting StatelessRandomUniformV2 cause there is no registered converter for this op.\n"
     ]
    },
    {
     "name": "stdout",
     "output_type": "stream",
     "text": [
      "WARNING:tensorflow:Using a while_loop for converting RngReadAndSkip cause there is no registered converter for this op.\n"
     ]
    },
    {
     "name": "stderr",
     "output_type": "stream",
     "text": [
      "WARNING:tensorflow:Using a while_loop for converting RngReadAndSkip cause there is no registered converter for this op.\n"
     ]
    },
    {
     "name": "stdout",
     "output_type": "stream",
     "text": [
      "WARNING:tensorflow:Using a while_loop for converting Bitcast cause there is no registered converter for this op.\n"
     ]
    },
    {
     "name": "stderr",
     "output_type": "stream",
     "text": [
      "WARNING:tensorflow:Using a while_loop for converting Bitcast cause there is no registered converter for this op.\n"
     ]
    },
    {
     "name": "stdout",
     "output_type": "stream",
     "text": [
      "WARNING:tensorflow:Using a while_loop for converting Bitcast cause there is no registered converter for this op.\n"
     ]
    },
    {
     "name": "stderr",
     "output_type": "stream",
     "text": [
      "WARNING:tensorflow:Using a while_loop for converting Bitcast cause there is no registered converter for this op.\n"
     ]
    },
    {
     "name": "stdout",
     "output_type": "stream",
     "text": [
      "WARNING:tensorflow:Using a while_loop for converting StatelessRandomUniformV2 cause there is no registered converter for this op.\n"
     ]
    },
    {
     "name": "stderr",
     "output_type": "stream",
     "text": [
      "WARNING:tensorflow:Using a while_loop for converting StatelessRandomUniformV2 cause there is no registered converter for this op.\n"
     ]
    },
    {
     "name": "stdout",
     "output_type": "stream",
     "text": [
      "WARNING:tensorflow:Using a while_loop for converting ImageProjectiveTransformV3 cause there is no registered converter for this op.\n"
     ]
    },
    {
     "name": "stderr",
     "output_type": "stream",
     "text": [
      "WARNING:tensorflow:Using a while_loop for converting ImageProjectiveTransformV3 cause there is no registered converter for this op.\n"
     ]
    },
    {
     "name": "stdout",
     "output_type": "stream",
     "text": [
      "WARNING:tensorflow:Using a while_loop for converting RngReadAndSkip cause there is no registered converter for this op.\n"
     ]
    },
    {
     "name": "stderr",
     "output_type": "stream",
     "text": [
      "WARNING:tensorflow:Using a while_loop for converting RngReadAndSkip cause there is no registered converter for this op.\n"
     ]
    },
    {
     "name": "stdout",
     "output_type": "stream",
     "text": [
      "WARNING:tensorflow:Using a while_loop for converting Bitcast cause there is no registered converter for this op.\n"
     ]
    },
    {
     "name": "stderr",
     "output_type": "stream",
     "text": [
      "WARNING:tensorflow:Using a while_loop for converting Bitcast cause there is no registered converter for this op.\n"
     ]
    },
    {
     "name": "stdout",
     "output_type": "stream",
     "text": [
      "WARNING:tensorflow:Using a while_loop for converting Bitcast cause there is no registered converter for this op.\n"
     ]
    },
    {
     "name": "stderr",
     "output_type": "stream",
     "text": [
      "WARNING:tensorflow:Using a while_loop for converting Bitcast cause there is no registered converter for this op.\n"
     ]
    },
    {
     "name": "stdout",
     "output_type": "stream",
     "text": [
      "WARNING:tensorflow:Using a while_loop for converting StatelessRandomUniformV2 cause there is no registered converter for this op.\n"
     ]
    },
    {
     "name": "stderr",
     "output_type": "stream",
     "text": [
      "WARNING:tensorflow:Using a while_loop for converting StatelessRandomUniformV2 cause there is no registered converter for this op.\n"
     ]
    },
    {
     "name": "stdout",
     "output_type": "stream",
     "text": [
      "WARNING:tensorflow:Using a while_loop for converting ImageProjectiveTransformV3 cause there is no registered converter for this op.\n"
     ]
    },
    {
     "name": "stderr",
     "output_type": "stream",
     "text": [
      "WARNING:tensorflow:Using a while_loop for converting ImageProjectiveTransformV3 cause there is no registered converter for this op.\n"
     ]
    },
    {
     "name": "stdout",
     "output_type": "stream",
     "text": [
      "WARNING:tensorflow:Using a while_loop for converting RngReadAndSkip cause there is no registered converter for this op.\n"
     ]
    },
    {
     "name": "stderr",
     "output_type": "stream",
     "text": [
      "WARNING:tensorflow:Using a while_loop for converting RngReadAndSkip cause there is no registered converter for this op.\n"
     ]
    },
    {
     "name": "stdout",
     "output_type": "stream",
     "text": [
      "WARNING:tensorflow:Using a while_loop for converting Bitcast cause there is no registered converter for this op.\n"
     ]
    },
    {
     "name": "stderr",
     "output_type": "stream",
     "text": [
      "WARNING:tensorflow:Using a while_loop for converting Bitcast cause there is no registered converter for this op.\n"
     ]
    },
    {
     "name": "stdout",
     "output_type": "stream",
     "text": [
      "WARNING:tensorflow:Using a while_loop for converting Bitcast cause there is no registered converter for this op.\n"
     ]
    },
    {
     "name": "stderr",
     "output_type": "stream",
     "text": [
      "WARNING:tensorflow:Using a while_loop for converting Bitcast cause there is no registered converter for this op.\n"
     ]
    },
    {
     "name": "stdout",
     "output_type": "stream",
     "text": [
      "WARNING:tensorflow:Using a while_loop for converting StatelessRandomUniformV2 cause there is no registered converter for this op.\n"
     ]
    },
    {
     "name": "stderr",
     "output_type": "stream",
     "text": [
      "WARNING:tensorflow:Using a while_loop for converting StatelessRandomUniformV2 cause there is no registered converter for this op.\n"
     ]
    },
    {
     "name": "stdout",
     "output_type": "stream",
     "text": [
      "WARNING:tensorflow:Using a while_loop for converting RngReadAndSkip cause there is no registered converter for this op.\n"
     ]
    },
    {
     "name": "stderr",
     "output_type": "stream",
     "text": [
      "WARNING:tensorflow:Using a while_loop for converting RngReadAndSkip cause there is no registered converter for this op.\n"
     ]
    },
    {
     "name": "stdout",
     "output_type": "stream",
     "text": [
      "WARNING:tensorflow:Using a while_loop for converting Bitcast cause there is no registered converter for this op.\n"
     ]
    },
    {
     "name": "stderr",
     "output_type": "stream",
     "text": [
      "WARNING:tensorflow:Using a while_loop for converting Bitcast cause there is no registered converter for this op.\n"
     ]
    },
    {
     "name": "stdout",
     "output_type": "stream",
     "text": [
      "WARNING:tensorflow:Using a while_loop for converting Bitcast cause there is no registered converter for this op.\n"
     ]
    },
    {
     "name": "stderr",
     "output_type": "stream",
     "text": [
      "WARNING:tensorflow:Using a while_loop for converting Bitcast cause there is no registered converter for this op.\n"
     ]
    },
    {
     "name": "stdout",
     "output_type": "stream",
     "text": [
      "WARNING:tensorflow:Using a while_loop for converting StatelessRandomUniformV2 cause there is no registered converter for this op.\n"
     ]
    },
    {
     "name": "stderr",
     "output_type": "stream",
     "text": [
      "WARNING:tensorflow:Using a while_loop for converting StatelessRandomUniformV2 cause there is no registered converter for this op.\n"
     ]
    },
    {
     "name": "stdout",
     "output_type": "stream",
     "text": [
      "WARNING:tensorflow:Using a while_loop for converting RngReadAndSkip cause there is no registered converter for this op.\n"
     ]
    },
    {
     "name": "stderr",
     "output_type": "stream",
     "text": [
      "WARNING:tensorflow:Using a while_loop for converting RngReadAndSkip cause there is no registered converter for this op.\n"
     ]
    },
    {
     "name": "stdout",
     "output_type": "stream",
     "text": [
      "WARNING:tensorflow:Using a while_loop for converting Bitcast cause there is no registered converter for this op.\n"
     ]
    },
    {
     "name": "stderr",
     "output_type": "stream",
     "text": [
      "WARNING:tensorflow:Using a while_loop for converting Bitcast cause there is no registered converter for this op.\n"
     ]
    },
    {
     "name": "stdout",
     "output_type": "stream",
     "text": [
      "WARNING:tensorflow:Using a while_loop for converting Bitcast cause there is no registered converter for this op.\n"
     ]
    },
    {
     "name": "stderr",
     "output_type": "stream",
     "text": [
      "WARNING:tensorflow:Using a while_loop for converting Bitcast cause there is no registered converter for this op.\n"
     ]
    },
    {
     "name": "stdout",
     "output_type": "stream",
     "text": [
      "WARNING:tensorflow:Using a while_loop for converting StatelessRandomUniformV2 cause there is no registered converter for this op.\n"
     ]
    },
    {
     "name": "stderr",
     "output_type": "stream",
     "text": [
      "WARNING:tensorflow:Using a while_loop for converting StatelessRandomUniformV2 cause there is no registered converter for this op.\n"
     ]
    },
    {
     "name": "stdout",
     "output_type": "stream",
     "text": [
      "WARNING:tensorflow:Using a while_loop for converting ImageProjectiveTransformV3 cause there is no registered converter for this op.\n"
     ]
    },
    {
     "name": "stderr",
     "output_type": "stream",
     "text": [
      "WARNING:tensorflow:Using a while_loop for converting ImageProjectiveTransformV3 cause there is no registered converter for this op.\n"
     ]
    }
   ],
   "source": [
    "train_ds = prepare(train_ds, shuffle=True, augment=True)\n",
    "val_ds = prepare(val_ds)\n"
   ]
  },
  {
   "cell_type": "code",
   "execution_count": 52,
   "metadata": {},
   "outputs": [
    {
     "data": {
      "text/plain": [
       "<PrefetchDataset element_spec=(TensorSpec(shape=(None, 150, 150, 3), dtype=tf.float32, name=None), TensorSpec(shape=(None,), dtype=tf.int64, name=None))>"
      ]
     },
     "execution_count": 52,
     "metadata": {},
     "output_type": "execute_result"
    }
   ],
   "source": [
    "train_ds"
   ]
  },
  {
   "cell_type": "code",
   "execution_count": 53,
   "metadata": {},
   "outputs": [],
   "source": [
    "model = tf.keras.models.Sequential()\n",
    "model.add(tf.keras.layers.Conv2D(32,(3,3),padding = \"same\",activation=\"relu\",input_shape=(150,150,3)))\n",
    "model.add(tf.keras.layers.MaxPooling2D((2,3)))\n",
    "model.add(tf.keras.layers.Conv2D(64, (3, 3),padding = \"same\", activation='relu'))\n",
    "model.add(tf.keras.layers.MaxPooling2D((2, 2)))\n",
    "model.add(tf.keras.layers.Conv2D(128, (3, 3), padding = \"same\",activation='relu'))\n",
    "model.add(tf.keras.layers.MaxPooling2D((2, 2)))\n",
    "model.add(tf.keras.layers.Conv2D(128, (3, 3), padding = \"same\",activation='relu'))\n",
    "model.add(tf.keras.layers.MaxPooling2D((2, 2)))\n",
    "model.add(tf.keras.layers.Flatten())\n",
    "model.add(tf.keras.layers.Dropout(0.5))\n",
    "model.add(tf.keras.layers.Dense(512, activation='relu'))\n",
    "model.add(tf.keras.layers.Dense(1, activation='sigmoid'))\n"
   ]
  },
  {
   "cell_type": "code",
   "execution_count": null,
   "metadata": {},
   "outputs": [],
   "source": [
    "def model_builder(hp):\n",
    "    model = tf.keras.models.Sequential()\n",
    "    model.add(tf.keras.layers.Conv2D(32,(3,3),padding = \"same\",activation=\"relu\",input_shape=(150,150,3)))\n",
    "    model.add(tf.keras.layers.MaxPooling2D((2,3)))\n",
    "    model.add(tf.keras.layers.Conv2D(64, (3, 3),padding = \"same\", activation='relu'))\n",
    "    model.add(tf.keras.layers.MaxPooling2D((2, 2)))\n",
    "    model.add(tf.keras.layers.Conv2D(128, (3, 3), padding = \"same\",activation='relu'))\n",
    "    model.add(tf.keras.layers.MaxPooling2D((2, 2)))\n",
    "    model.add(tf.keras.layers.Conv2D(128, (3, 3), padding = \"same\",activation='relu'))\n",
    "    model.add(tf.keras.layers.MaxPooling2D((2, 2)))\n",
    "    model.add(tf.keras.layers.Flatten())\n",
    "    model.add(tf.keras.layers.Dropout(0.5))\n",
    "\n",
    "  # Tune the number of units in the first Dense layer\n",
    "  # Choose an optimal value between 32-512\n",
    "    hp_units = hp.Int('units', min_value=32, max_value=512, step=32)\n",
    "    model.add(keras.layers.Dense(units=hp_units, activation='relu'))\n",
    "    model.add(keras.layers.Dense(10))\n",
    "\n",
    "    # Tune the learning rate for the optimizer\n",
    "    # Choose an optimal value from 0.01, 0.001, or 0.0001\n",
    "    hp_learning_rate = hp.Choice('learning_rate', values=[1e-2, 1e-3, 1e-4])\n",
    "\n",
    "    model.compile(optimizer=keras.optimizers.Adam(learning_rate=hp_learning_rate),\n",
    "                    loss=keras.losses.SparseCategoricalCrossentropy(from_logits=True),\n",
    "                    metrics=['accuracy'])\n",
    "\n",
    "    return model"
   ]
  },
  {
   "cell_type": "code",
   "execution_count": 54,
   "metadata": {},
   "outputs": [
    {
     "name": "stdout",
     "output_type": "stream",
     "text": [
      "Model: \"sequential_5\"\n",
      "_________________________________________________________________\n",
      " Layer (type)                Output Shape              Param #   \n",
      "=================================================================\n",
      " conv2d_4 (Conv2D)           (None, 150, 150, 32)      896       \n",
      "                                                                 \n",
      " max_pooling2d_4 (MaxPooling  (None, 75, 50, 32)       0         \n",
      " 2D)                                                             \n",
      "                                                                 \n",
      " conv2d_5 (Conv2D)           (None, 75, 50, 64)        18496     \n",
      "                                                                 \n",
      " max_pooling2d_5 (MaxPooling  (None, 37, 25, 64)       0         \n",
      " 2D)                                                             \n",
      "                                                                 \n",
      " conv2d_6 (Conv2D)           (None, 37, 25, 128)       73856     \n",
      "                                                                 \n",
      " max_pooling2d_6 (MaxPooling  (None, 18, 12, 128)      0         \n",
      " 2D)                                                             \n",
      "                                                                 \n",
      " conv2d_7 (Conv2D)           (None, 18, 12, 128)       147584    \n",
      "                                                                 \n",
      " max_pooling2d_7 (MaxPooling  (None, 9, 6, 128)        0         \n",
      " 2D)                                                             \n",
      "                                                                 \n",
      " flatten_1 (Flatten)         (None, 6912)              0         \n",
      "                                                                 \n",
      " dropout_1 (Dropout)         (None, 6912)              0         \n",
      "                                                                 \n",
      " dense_2 (Dense)             (None, 512)               3539456   \n",
      "                                                                 \n",
      " dense_3 (Dense)             (None, 1)                 513       \n",
      "                                                                 \n",
      "=================================================================\n",
      "Total params: 3,780,801\n",
      "Trainable params: 3,780,801\n",
      "Non-trainable params: 0\n",
      "_________________________________________________________________\n"
     ]
    }
   ],
   "source": [
    "model.summary()"
   ]
  },
  {
   "cell_type": "code",
   "execution_count": 55,
   "metadata": {},
   "outputs": [],
   "source": [
    "\n",
    "model.compile(loss='binary_crossentropy',optimizer=tf.keras.optimizers.Adam(learning_rate=1e-4,decay=1e-6),metrics=['acc'])"
   ]
  },
  {
   "cell_type": "code",
   "execution_count": 56,
   "metadata": {},
   "outputs": [],
   "source": [
    "checkpoint_cb = keras.callbacks.ModelCheckpoint(\"cats_dog\",save_best_only=True)"
   ]
  },
  {
   "cell_type": "code",
   "execution_count": 57,
   "metadata": {},
   "outputs": [],
   "source": [
    "# early_stopping_cb = keras.callbacks.EarlyStopping(patience=10,restore_best_weights=True)"
   ]
  },
  {
   "cell_type": "code",
   "execution_count": 58,
   "metadata": {},
   "outputs": [],
   "source": [
    "root_logdir = os.path.join(os.curdir, \"my_logs\")\n",
    "def get_run_logdir():\n",
    "    import time\n",
    "    run_id = time.strftime(\"run_%Y_%m_%d-%H_%M_%S\")+'dataset_map'\n",
    "    return os.path.join(root_logdir, run_id)\n",
    "\n",
    "\n",
    "run_logdir = get_run_logdir()\n"
   ]
  },
  {
   "cell_type": "code",
   "execution_count": 59,
   "metadata": {},
   "outputs": [],
   "source": [
    "tensorboard_cb = keras.callbacks.TensorBoard(run_logdir,profile_batch='10, 15',histogram_freq=1)"
   ]
  },
  {
   "cell_type": "code",
   "execution_count": 60,
   "metadata": {},
   "outputs": [
    {
     "name": "stdout",
     "output_type": "stream",
     "text": [
      "Epoch 1/100\n",
      "100/100 [==============================] - ETA: 0s - loss: 0.6466 - acc: 0.6300"
     ]
    },
    {
     "name": "stderr",
     "output_type": "stream",
     "text": [
      "WARNING:absl:Found untraced functions such as _jit_compiled_convolution_op, _jit_compiled_convolution_op, _jit_compiled_convolution_op, _jit_compiled_convolution_op while saving (showing 4 of 4). These functions will not be directly callable after loading.\n"
     ]
    },
    {
     "name": "stdout",
     "output_type": "stream",
     "text": [
      "INFO:tensorflow:Assets written to: cats_dog/assets\n"
     ]
    },
    {
     "name": "stderr",
     "output_type": "stream",
     "text": [
      "INFO:tensorflow:Assets written to: cats_dog/assets\n"
     ]
    },
    {
     "name": "stdout",
     "output_type": "stream",
     "text": [
      "100/100 [==============================] - 16s 136ms/step - loss: 0.6466 - acc: 0.6300 - val_loss: 0.7491 - val_acc: 0.5000\n",
      "Epoch 2/100\n",
      "100/100 [==============================] - ETA: 0s - loss: 0.6933 - acc: 0.5495"
     ]
    },
    {
     "name": "stderr",
     "output_type": "stream",
     "text": [
      "WARNING:absl:Found untraced functions such as _jit_compiled_convolution_op, _jit_compiled_convolution_op, _jit_compiled_convolution_op, _jit_compiled_convolution_op while saving (showing 4 of 4). These functions will not be directly callable after loading.\n"
     ]
    },
    {
     "name": "stdout",
     "output_type": "stream",
     "text": [
      "INFO:tensorflow:Assets written to: cats_dog/assets\n"
     ]
    },
    {
     "name": "stderr",
     "output_type": "stream",
     "text": [
      "INFO:tensorflow:Assets written to: cats_dog/assets\n"
     ]
    },
    {
     "name": "stdout",
     "output_type": "stream",
     "text": [
      "100/100 [==============================] - 7s 68ms/step - loss: 0.6933 - acc: 0.5495 - val_loss: 0.7164 - val_acc: 0.5000\n",
      "Epoch 3/100\n",
      "100/100 [==============================] - 5s 48ms/step - loss: 0.6981 - acc: 0.5260 - val_loss: 0.7529 - val_acc: 0.5000\n",
      "Epoch 4/100\n",
      " 99/100 [============================>.] - ETA: 0s - loss: 0.7103 - acc: 0.4631"
     ]
    },
    {
     "name": "stderr",
     "output_type": "stream",
     "text": [
      "WARNING:absl:Found untraced functions such as _jit_compiled_convolution_op, _jit_compiled_convolution_op, _jit_compiled_convolution_op, _jit_compiled_convolution_op while saving (showing 4 of 4). These functions will not be directly callable after loading.\n"
     ]
    },
    {
     "name": "stdout",
     "output_type": "stream",
     "text": [
      "INFO:tensorflow:Assets written to: cats_dog/assets\n"
     ]
    },
    {
     "name": "stderr",
     "output_type": "stream",
     "text": [
      "INFO:tensorflow:Assets written to: cats_dog/assets\n"
     ]
    },
    {
     "name": "stdout",
     "output_type": "stream",
     "text": [
      "100/100 [==============================] - 7s 70ms/step - loss: 0.7101 - acc: 0.4645 - val_loss: 0.6926 - val_acc: 0.5000\n",
      "Epoch 5/100\n",
      "100/100 [==============================] - 5s 48ms/step - loss: 0.6946 - acc: 0.4110 - val_loss: 0.6931 - val_acc: 0.5010\n",
      "Epoch 6/100\n",
      "100/100 [==============================] - 5s 49ms/step - loss: 0.6933 - acc: 0.4500 - val_loss: 0.6930 - val_acc: 0.5010\n",
      "Epoch 7/100\n",
      "100/100 [==============================] - 6s 50ms/step - loss: 0.6932 - acc: 0.4540 - val_loss: 0.6930 - val_acc: 0.5000\n",
      "Epoch 8/100\n",
      "100/100 [==============================] - 5s 45ms/step - loss: 0.6932 - acc: 0.4765 - val_loss: 0.6930 - val_acc: 0.5010\n",
      "Epoch 9/100\n",
      "100/100 [==============================] - 6s 51ms/step - loss: 0.6931 - acc: 0.4890 - val_loss: 0.6928 - val_acc: 0.5010\n",
      "Epoch 10/100\n",
      "100/100 [==============================] - 5s 50ms/step - loss: 0.6933 - acc: 0.4645 - val_loss: 0.6929 - val_acc: 0.5010\n",
      "Epoch 11/100\n",
      "100/100 [==============================] - 5s 41ms/step - loss: 0.6932 - acc: 0.4665 - val_loss: 0.6928 - val_acc: 0.5020\n",
      "Epoch 12/100\n",
      "100/100 [==============================] - 5s 41ms/step - loss: 0.6932 - acc: 0.4775 - val_loss: 0.6926 - val_acc: 0.5010\n",
      "Epoch 13/100\n",
      " 99/100 [============================>.] - ETA: 0s - loss: 0.6932 - acc: 0.4692"
     ]
    },
    {
     "name": "stderr",
     "output_type": "stream",
     "text": [
      "WARNING:absl:Found untraced functions such as _jit_compiled_convolution_op, _jit_compiled_convolution_op, _jit_compiled_convolution_op, _jit_compiled_convolution_op while saving (showing 4 of 4). These functions will not be directly callable after loading.\n"
     ]
    },
    {
     "name": "stdout",
     "output_type": "stream",
     "text": [
      "INFO:tensorflow:Assets written to: cats_dog/assets\n"
     ]
    },
    {
     "name": "stderr",
     "output_type": "stream",
     "text": [
      "INFO:tensorflow:Assets written to: cats_dog/assets\n"
     ]
    },
    {
     "name": "stdout",
     "output_type": "stream",
     "text": [
      "100/100 [==============================] - 6s 57ms/step - loss: 0.6931 - acc: 0.4710 - val_loss: 0.6921 - val_acc: 0.5010\n",
      "Epoch 14/100\n",
      "100/100 [==============================] - 5s 48ms/step - loss: 0.6881 - acc: 0.5275 - val_loss: 0.7242 - val_acc: 0.5000\n",
      "Epoch 15/100\n",
      "100/100 [==============================] - 5s 49ms/step - loss: 0.6950 - acc: 0.5430 - val_loss: 0.7207 - val_acc: 0.5000\n",
      "Epoch 16/100\n",
      "100/100 [==============================] - 5s 48ms/step - loss: 0.6981 - acc: 0.5215 - val_loss: 0.7135 - val_acc: 0.5000\n",
      "Epoch 17/100\n",
      "100/100 [==============================] - 5s 45ms/step - loss: 0.7051 - acc: 0.4505 - val_loss: 0.6928 - val_acc: 0.5010\n",
      "Epoch 18/100\n",
      "100/100 [==============================] - 5s 44ms/step - loss: 0.6936 - acc: 0.4705 - val_loss: 0.6929 - val_acc: 0.5060\n",
      "Epoch 19/100\n",
      "100/100 [==============================] - 5s 45ms/step - loss: 0.6932 - acc: 0.4525 - val_loss: 0.6928 - val_acc: 0.5080\n",
      "Epoch 20/100\n",
      "100/100 [==============================] - 6s 50ms/step - loss: 0.6928 - acc: 0.4690 - val_loss: 0.6925 - val_acc: 0.5070\n",
      "Epoch 21/100\n",
      "100/100 [==============================] - 5s 46ms/step - loss: 0.6914 - acc: 0.4995 - val_loss: 0.6982 - val_acc: 0.4990\n",
      "Epoch 22/100\n",
      "100/100 [==============================] - 4s 40ms/step - loss: 0.6979 - acc: 0.4635 - val_loss: 0.6927 - val_acc: 0.5070\n",
      "Epoch 23/100\n",
      "100/100 [==============================] - 4s 40ms/step - loss: 0.6929 - acc: 0.4770 - val_loss: 0.6921 - val_acc: 0.5170\n",
      "Epoch 24/100\n",
      "100/100 [==============================] - 5s 41ms/step - loss: 0.6872 - acc: 0.5215 - val_loss: 0.7768 - val_acc: 0.5000\n",
      "Epoch 25/100\n",
      " 99/100 [============================>.] - ETA: 0s - loss: 0.7004 - acc: 0.5500"
     ]
    },
    {
     "name": "stderr",
     "output_type": "stream",
     "text": [
      "WARNING:absl:Found untraced functions such as _jit_compiled_convolution_op, _jit_compiled_convolution_op, _jit_compiled_convolution_op, _jit_compiled_convolution_op while saving (showing 4 of 4). These functions will not be directly callable after loading.\n"
     ]
    },
    {
     "name": "stdout",
     "output_type": "stream",
     "text": [
      "INFO:tensorflow:Assets written to: cats_dog/assets\n"
     ]
    },
    {
     "name": "stderr",
     "output_type": "stream",
     "text": [
      "INFO:tensorflow:Assets written to: cats_dog/assets\n"
     ]
    },
    {
     "name": "stdout",
     "output_type": "stream",
     "text": [
      "100/100 [==============================] - 6s 59ms/step - loss: 0.7002 - acc: 0.5510 - val_loss: 0.6918 - val_acc: 0.5190\n",
      "Epoch 26/100\n",
      " 99/100 [============================>.] - ETA: 0s - loss: 0.6927 - acc: 0.5111"
     ]
    },
    {
     "name": "stderr",
     "output_type": "stream",
     "text": [
      "WARNING:absl:Found untraced functions such as _jit_compiled_convolution_op, _jit_compiled_convolution_op, _jit_compiled_convolution_op, _jit_compiled_convolution_op while saving (showing 4 of 4). These functions will not be directly callable after loading.\n"
     ]
    },
    {
     "name": "stdout",
     "output_type": "stream",
     "text": [
      "INFO:tensorflow:Assets written to: cats_dog/assets\n"
     ]
    },
    {
     "name": "stderr",
     "output_type": "stream",
     "text": [
      "INFO:tensorflow:Assets written to: cats_dog/assets\n"
     ]
    },
    {
     "name": "stdout",
     "output_type": "stream",
     "text": [
      "100/100 [==============================] - 6s 59ms/step - loss: 0.6927 - acc: 0.5105 - val_loss: 0.6905 - val_acc: 0.5070\n",
      "Epoch 27/100\n",
      "100/100 [==============================] - 4s 40ms/step - loss: 0.6952 - acc: 0.5050 - val_loss: 0.6906 - val_acc: 0.5410\n",
      "Epoch 28/100\n",
      " 99/100 [============================>.] - ETA: 0s - loss: 0.6910 - acc: 0.5096"
     ]
    },
    {
     "name": "stderr",
     "output_type": "stream",
     "text": [
      "WARNING:absl:Found untraced functions such as _jit_compiled_convolution_op, _jit_compiled_convolution_op, _jit_compiled_convolution_op, _jit_compiled_convolution_op while saving (showing 4 of 4). These functions will not be directly callable after loading.\n"
     ]
    },
    {
     "name": "stdout",
     "output_type": "stream",
     "text": [
      "INFO:tensorflow:Assets written to: cats_dog/assets\n"
     ]
    },
    {
     "name": "stderr",
     "output_type": "stream",
     "text": [
      "INFO:tensorflow:Assets written to: cats_dog/assets\n"
     ]
    },
    {
     "name": "stdout",
     "output_type": "stream",
     "text": [
      "100/100 [==============================] - 6s 59ms/step - loss: 0.6909 - acc: 0.5120 - val_loss: 0.6856 - val_acc: 0.5610\n",
      "Epoch 29/100\n",
      "100/100 [==============================] - 4s 40ms/step - loss: 0.6777 - acc: 0.5595 - val_loss: 0.6991 - val_acc: 0.5180\n",
      "Epoch 30/100\n",
      " 99/100 [============================>.] - ETA: 0s - loss: 0.6845 - acc: 0.5672"
     ]
    },
    {
     "name": "stderr",
     "output_type": "stream",
     "text": [
      "WARNING:absl:Found untraced functions such as _jit_compiled_convolution_op, _jit_compiled_convolution_op, _jit_compiled_convolution_op, _jit_compiled_convolution_op while saving (showing 4 of 4). These functions will not be directly callable after loading.\n"
     ]
    },
    {
     "name": "stdout",
     "output_type": "stream",
     "text": [
      "INFO:tensorflow:Assets written to: cats_dog/assets\n"
     ]
    },
    {
     "name": "stderr",
     "output_type": "stream",
     "text": [
      "INFO:tensorflow:Assets written to: cats_dog/assets\n"
     ]
    },
    {
     "name": "stdout",
     "output_type": "stream",
     "text": [
      "100/100 [==============================] - 6s 59ms/step - loss: 0.6844 - acc: 0.5685 - val_loss: 0.6851 - val_acc: 0.5360\n",
      "Epoch 31/100\n",
      "100/100 [==============================] - 4s 40ms/step - loss: 0.6804 - acc: 0.5685 - val_loss: 0.7362 - val_acc: 0.5140\n",
      "Epoch 32/100\n",
      "100/100 [==============================] - 4s 40ms/step - loss: 0.6797 - acc: 0.5790 - val_loss: 0.7871 - val_acc: 0.5060\n",
      "Epoch 33/100\n",
      "100/100 [==============================] - 4s 41ms/step - loss: 0.6940 - acc: 0.5460 - val_loss: 0.6940 - val_acc: 0.5190\n",
      "Epoch 34/100\n",
      "100/100 [==============================] - 4s 40ms/step - loss: 0.6641 - acc: 0.6155 - val_loss: 0.7808 - val_acc: 0.5110\n",
      "Epoch 35/100\n",
      "100/100 [==============================] - 4s 40ms/step - loss: 0.6874 - acc: 0.5605 - val_loss: 0.6852 - val_acc: 0.5260\n",
      "Epoch 36/100\n",
      "100/100 [==============================] - ETA: 0s - loss: 0.6849 - acc: 0.5600"
     ]
    },
    {
     "name": "stderr",
     "output_type": "stream",
     "text": [
      "WARNING:absl:Found untraced functions such as _jit_compiled_convolution_op, _jit_compiled_convolution_op, _jit_compiled_convolution_op, _jit_compiled_convolution_op while saving (showing 4 of 4). These functions will not be directly callable after loading.\n"
     ]
    },
    {
     "name": "stdout",
     "output_type": "stream",
     "text": [
      "INFO:tensorflow:Assets written to: cats_dog/assets\n"
     ]
    },
    {
     "name": "stderr",
     "output_type": "stream",
     "text": [
      "INFO:tensorflow:Assets written to: cats_dog/assets\n"
     ]
    },
    {
     "name": "stdout",
     "output_type": "stream",
     "text": [
      "100/100 [==============================] - 6s 55ms/step - loss: 0.6849 - acc: 0.5600 - val_loss: 0.6678 - val_acc: 0.5680\n",
      "Epoch 37/100\n",
      "100/100 [==============================] - 4s 40ms/step - loss: 0.6426 - acc: 0.6320 - val_loss: 0.7675 - val_acc: 0.5240\n",
      "Epoch 38/100\n",
      "100/100 [==============================] - 4s 40ms/step - loss: 0.6785 - acc: 0.5675 - val_loss: 0.6954 - val_acc: 0.5480\n",
      "Epoch 39/100\n",
      "100/100 [==============================] - 4s 40ms/step - loss: 0.6602 - acc: 0.6110 - val_loss: 0.7182 - val_acc: 0.5410\n",
      "Epoch 40/100\n",
      "100/100 [==============================] - 4s 41ms/step - loss: 0.6645 - acc: 0.6045 - val_loss: 0.7196 - val_acc: 0.5620\n",
      "Epoch 41/100\n",
      "100/100 [==============================] - 4s 40ms/step - loss: 0.6413 - acc: 0.6390 - val_loss: 0.7203 - val_acc: 0.5520\n",
      "Epoch 42/100\n",
      "100/100 [==============================] - 4s 40ms/step - loss: 0.6435 - acc: 0.6275 - val_loss: 0.8239 - val_acc: 0.5680\n",
      "Epoch 43/100\n",
      "100/100 [==============================] - 4s 40ms/step - loss: 0.6525 - acc: 0.6125 - val_loss: 0.7676 - val_acc: 0.5630\n",
      "Epoch 44/100\n",
      "100/100 [==============================] - 4s 41ms/step - loss: 0.6404 - acc: 0.6365 - val_loss: 0.7490 - val_acc: 0.5730\n",
      "Epoch 45/100\n",
      "100/100 [==============================] - 4s 40ms/step - loss: 0.6322 - acc: 0.6460 - val_loss: 0.6785 - val_acc: 0.6000\n",
      "Epoch 46/100\n",
      "100/100 [==============================] - 4s 40ms/step - loss: 0.6111 - acc: 0.6665 - val_loss: 0.6823 - val_acc: 0.6020\n",
      "Epoch 47/100\n",
      "100/100 [==============================] - 4s 40ms/step - loss: 0.6079 - acc: 0.6685 - val_loss: 0.7418 - val_acc: 0.5490\n",
      "Epoch 48/100\n",
      " 99/100 [============================>.] - ETA: 0s - loss: 0.6065 - acc: 0.6409"
     ]
    },
    {
     "name": "stderr",
     "output_type": "stream",
     "text": [
      "WARNING:absl:Found untraced functions such as _jit_compiled_convolution_op, _jit_compiled_convolution_op, _jit_compiled_convolution_op, _jit_compiled_convolution_op while saving (showing 4 of 4). These functions will not be directly callable after loading.\n"
     ]
    },
    {
     "name": "stdout",
     "output_type": "stream",
     "text": [
      "INFO:tensorflow:Assets written to: cats_dog/assets\n"
     ]
    },
    {
     "name": "stderr",
     "output_type": "stream",
     "text": [
      "INFO:tensorflow:Assets written to: cats_dog/assets\n"
     ]
    },
    {
     "name": "stdout",
     "output_type": "stream",
     "text": [
      "100/100 [==============================] - 6s 60ms/step - loss: 0.6069 - acc: 0.6395 - val_loss: 0.6435 - val_acc: 0.6200\n",
      "Epoch 49/100\n",
      "100/100 [==============================] - 5s 40ms/step - loss: 0.5837 - acc: 0.6770 - val_loss: 0.7626 - val_acc: 0.5930\n",
      "Epoch 50/100\n",
      "100/100 [==============================] - 4s 40ms/step - loss: 0.6021 - acc: 0.6605 - val_loss: 0.6462 - val_acc: 0.6330\n",
      "Epoch 51/100\n",
      "100/100 [==============================] - 4s 41ms/step - loss: 0.5852 - acc: 0.6945 - val_loss: 0.7754 - val_acc: 0.5830\n",
      "Epoch 52/100\n",
      "100/100 [==============================] - 4s 40ms/step - loss: 0.6020 - acc: 0.6790 - val_loss: 0.6610 - val_acc: 0.6100\n",
      "Epoch 53/100\n",
      "100/100 [==============================] - 4s 40ms/step - loss: 0.5719 - acc: 0.6910 - val_loss: 0.6801 - val_acc: 0.6300\n",
      "Epoch 54/100\n",
      "100/100 [==============================] - 4s 41ms/step - loss: 0.5760 - acc: 0.6900 - val_loss: 0.6692 - val_acc: 0.6310\n",
      "Epoch 55/100\n",
      "100/100 [==============================] - 4s 40ms/step - loss: 0.5923 - acc: 0.6825 - val_loss: 0.6484 - val_acc: 0.6320\n",
      "Epoch 56/100\n",
      " 99/100 [============================>.] - ETA: 0s - loss: 0.5765 - acc: 0.6909"
     ]
    },
    {
     "name": "stderr",
     "output_type": "stream",
     "text": [
      "WARNING:absl:Found untraced functions such as _jit_compiled_convolution_op, _jit_compiled_convolution_op, _jit_compiled_convolution_op, _jit_compiled_convolution_op while saving (showing 4 of 4). These functions will not be directly callable after loading.\n"
     ]
    },
    {
     "name": "stdout",
     "output_type": "stream",
     "text": [
      "INFO:tensorflow:Assets written to: cats_dog/assets\n"
     ]
    },
    {
     "name": "stderr",
     "output_type": "stream",
     "text": [
      "INFO:tensorflow:Assets written to: cats_dog/assets\n"
     ]
    },
    {
     "name": "stdout",
     "output_type": "stream",
     "text": [
      "100/100 [==============================] - 6s 59ms/step - loss: 0.5757 - acc: 0.6915 - val_loss: 0.6374 - val_acc: 0.6510\n",
      "Epoch 57/100\n",
      "100/100 [==============================] - 4s 40ms/step - loss: 0.5614 - acc: 0.7145 - val_loss: 0.6581 - val_acc: 0.6400\n",
      "Epoch 58/100\n",
      "100/100 [==============================] - ETA: 0s - loss: 0.5939 - acc: 0.6660"
     ]
    },
    {
     "name": "stderr",
     "output_type": "stream",
     "text": [
      "WARNING:absl:Found untraced functions such as _jit_compiled_convolution_op, _jit_compiled_convolution_op, _jit_compiled_convolution_op, _jit_compiled_convolution_op while saving (showing 4 of 4). These functions will not be directly callable after loading.\n"
     ]
    },
    {
     "name": "stdout",
     "output_type": "stream",
     "text": [
      "INFO:tensorflow:Assets written to: cats_dog/assets\n"
     ]
    },
    {
     "name": "stderr",
     "output_type": "stream",
     "text": [
      "INFO:tensorflow:Assets written to: cats_dog/assets\n"
     ]
    },
    {
     "name": "stdout",
     "output_type": "stream",
     "text": [
      "100/100 [==============================] - 7s 67ms/step - loss: 0.5939 - acc: 0.6660 - val_loss: 0.6341 - val_acc: 0.6450\n",
      "Epoch 59/100\n",
      "100/100 [==============================] - 5s 44ms/step - loss: 0.5625 - acc: 0.7135 - val_loss: 0.6387 - val_acc: 0.6480\n",
      "Epoch 60/100\n",
      " 99/100 [============================>.] - ETA: 0s - loss: 0.5652 - acc: 0.7071"
     ]
    },
    {
     "name": "stderr",
     "output_type": "stream",
     "text": [
      "WARNING:absl:Found untraced functions such as _jit_compiled_convolution_op, _jit_compiled_convolution_op, _jit_compiled_convolution_op, _jit_compiled_convolution_op while saving (showing 4 of 4). These functions will not be directly callable after loading.\n"
     ]
    },
    {
     "name": "stdout",
     "output_type": "stream",
     "text": [
      "INFO:tensorflow:Assets written to: cats_dog/assets\n"
     ]
    },
    {
     "name": "stderr",
     "output_type": "stream",
     "text": [
      "INFO:tensorflow:Assets written to: cats_dog/assets\n"
     ]
    },
    {
     "name": "stdout",
     "output_type": "stream",
     "text": [
      "100/100 [==============================] - 7s 62ms/step - loss: 0.5639 - acc: 0.7090 - val_loss: 0.6120 - val_acc: 0.6560\n",
      "Epoch 61/100\n",
      "100/100 [==============================] - 5s 42ms/step - loss: 0.5580 - acc: 0.7120 - val_loss: 0.6142 - val_acc: 0.6610\n",
      "Epoch 62/100\n",
      "100/100 [==============================] - 5s 44ms/step - loss: 0.5541 - acc: 0.7210 - val_loss: 0.6451 - val_acc: 0.6490\n",
      "Epoch 63/100\n",
      "100/100 [==============================] - 5s 46ms/step - loss: 0.5565 - acc: 0.7135 - val_loss: 0.6497 - val_acc: 0.6620\n",
      "Epoch 64/100\n",
      " 99/100 [============================>.] - ETA: 0s - loss: 0.5581 - acc: 0.7040"
     ]
    },
    {
     "name": "stderr",
     "output_type": "stream",
     "text": [
      "WARNING:absl:Found untraced functions such as _jit_compiled_convolution_op, _jit_compiled_convolution_op, _jit_compiled_convolution_op, _jit_compiled_convolution_op while saving (showing 4 of 4). These functions will not be directly callable after loading.\n"
     ]
    },
    {
     "name": "stdout",
     "output_type": "stream",
     "text": [
      "INFO:tensorflow:Assets written to: cats_dog/assets\n"
     ]
    },
    {
     "name": "stderr",
     "output_type": "stream",
     "text": [
      "INFO:tensorflow:Assets written to: cats_dog/assets\n"
     ]
    },
    {
     "name": "stdout",
     "output_type": "stream",
     "text": [
      "100/100 [==============================] - 7s 67ms/step - loss: 0.5584 - acc: 0.7040 - val_loss: 0.5919 - val_acc: 0.6760\n",
      "Epoch 65/100\n",
      "100/100 [==============================] - 5s 46ms/step - loss: 0.5543 - acc: 0.7135 - val_loss: 0.6650 - val_acc: 0.6420\n",
      "Epoch 66/100\n",
      "100/100 [==============================] - 5s 47ms/step - loss: 0.5533 - acc: 0.7170 - val_loss: 0.6329 - val_acc: 0.6530\n",
      "Epoch 67/100\n",
      "100/100 [==============================] - ETA: 0s - loss: 0.5512 - acc: 0.7135"
     ]
    },
    {
     "name": "stderr",
     "output_type": "stream",
     "text": [
      "WARNING:absl:Found untraced functions such as _jit_compiled_convolution_op, _jit_compiled_convolution_op, _jit_compiled_convolution_op, _jit_compiled_convolution_op while saving (showing 4 of 4). These functions will not be directly callable after loading.\n"
     ]
    },
    {
     "name": "stdout",
     "output_type": "stream",
     "text": [
      "INFO:tensorflow:Assets written to: cats_dog/assets\n"
     ]
    },
    {
     "name": "stderr",
     "output_type": "stream",
     "text": [
      "INFO:tensorflow:Assets written to: cats_dog/assets\n"
     ]
    },
    {
     "name": "stdout",
     "output_type": "stream",
     "text": [
      "100/100 [==============================] - 7s 64ms/step - loss: 0.5512 - acc: 0.7135 - val_loss: 0.5555 - val_acc: 0.7030\n",
      "Epoch 68/100\n",
      "100/100 [==============================] - 5s 46ms/step - loss: 0.5360 - acc: 0.7290 - val_loss: 0.5750 - val_acc: 0.6830\n",
      "Epoch 69/100\n",
      "100/100 [==============================] - 5s 46ms/step - loss: 0.5174 - acc: 0.7420 - val_loss: 0.5992 - val_acc: 0.6760\n",
      "Epoch 70/100\n",
      "100/100 [==============================] - 5s 47ms/step - loss: 0.5423 - acc: 0.7155 - val_loss: 0.5840 - val_acc: 0.6840\n",
      "Epoch 71/100\n",
      "100/100 [==============================] - 5s 47ms/step - loss: 0.5348 - acc: 0.7290 - val_loss: 0.7007 - val_acc: 0.6240\n",
      "Epoch 72/100\n",
      "100/100 [==============================] - 5s 47ms/step - loss: 0.5536 - acc: 0.7105 - val_loss: 0.6059 - val_acc: 0.6580\n",
      "Epoch 73/100\n",
      "100/100 [==============================] - ETA: 0s - loss: 0.5438 - acc: 0.7270"
     ]
    },
    {
     "name": "stderr",
     "output_type": "stream",
     "text": [
      "WARNING:absl:Found untraced functions such as _jit_compiled_convolution_op, _jit_compiled_convolution_op, _jit_compiled_convolution_op, _jit_compiled_convolution_op while saving (showing 4 of 4). These functions will not be directly callable after loading.\n"
     ]
    },
    {
     "name": "stdout",
     "output_type": "stream",
     "text": [
      "INFO:tensorflow:Assets written to: cats_dog/assets\n"
     ]
    },
    {
     "name": "stderr",
     "output_type": "stream",
     "text": [
      "INFO:tensorflow:Assets written to: cats_dog/assets\n"
     ]
    },
    {
     "name": "stdout",
     "output_type": "stream",
     "text": [
      "100/100 [==============================] - 7s 67ms/step - loss: 0.5438 - acc: 0.7270 - val_loss: 0.5526 - val_acc: 0.7060\n",
      "Epoch 74/100\n",
      "100/100 [==============================] - 6s 47ms/step - loss: 0.5134 - acc: 0.7380 - val_loss: 0.6275 - val_acc: 0.6610\n",
      "Epoch 75/100\n",
      "100/100 [==============================] - 5s 46ms/step - loss: 0.5157 - acc: 0.7365 - val_loss: 0.6046 - val_acc: 0.6880\n",
      "Epoch 76/100\n",
      "100/100 [==============================] - ETA: 0s - loss: 0.5291 - acc: 0.7255"
     ]
    },
    {
     "name": "stderr",
     "output_type": "stream",
     "text": [
      "WARNING:absl:Found untraced functions such as _jit_compiled_convolution_op, _jit_compiled_convolution_op, _jit_compiled_convolution_op, _jit_compiled_convolution_op while saving (showing 4 of 4). These functions will not be directly callable after loading.\n"
     ]
    },
    {
     "name": "stdout",
     "output_type": "stream",
     "text": [
      "INFO:tensorflow:Assets written to: cats_dog/assets\n"
     ]
    },
    {
     "name": "stderr",
     "output_type": "stream",
     "text": [
      "INFO:tensorflow:Assets written to: cats_dog/assets\n"
     ]
    },
    {
     "name": "stdout",
     "output_type": "stream",
     "text": [
      "100/100 [==============================] - 7s 67ms/step - loss: 0.5291 - acc: 0.7255 - val_loss: 0.5468 - val_acc: 0.7080\n",
      "Epoch 77/100\n",
      "100/100 [==============================] - 5s 46ms/step - loss: 0.5163 - acc: 0.7420 - val_loss: 0.6072 - val_acc: 0.6690\n",
      "Epoch 78/100\n",
      "100/100 [==============================] - 5s 47ms/step - loss: 0.5294 - acc: 0.7415 - val_loss: 0.5703 - val_acc: 0.6940\n",
      "Epoch 79/100\n",
      "100/100 [==============================] - 5s 46ms/step - loss: 0.5060 - acc: 0.7555 - val_loss: 0.5945 - val_acc: 0.6740\n",
      "Epoch 80/100\n",
      "100/100 [==============================] - 5s 46ms/step - loss: 0.5199 - acc: 0.7325 - val_loss: 0.5498 - val_acc: 0.7120\n",
      "Epoch 81/100\n",
      "100/100 [==============================] - ETA: 0s - loss: 0.5029 - acc: 0.7545"
     ]
    },
    {
     "name": "stderr",
     "output_type": "stream",
     "text": [
      "WARNING:absl:Found untraced functions such as _jit_compiled_convolution_op, _jit_compiled_convolution_op, _jit_compiled_convolution_op, _jit_compiled_convolution_op while saving (showing 4 of 4). These functions will not be directly callable after loading.\n"
     ]
    },
    {
     "name": "stdout",
     "output_type": "stream",
     "text": [
      "INFO:tensorflow:Assets written to: cats_dog/assets\n"
     ]
    },
    {
     "name": "stderr",
     "output_type": "stream",
     "text": [
      "INFO:tensorflow:Assets written to: cats_dog/assets\n"
     ]
    },
    {
     "name": "stdout",
     "output_type": "stream",
     "text": [
      "100/100 [==============================] - 7s 67ms/step - loss: 0.5029 - acc: 0.7545 - val_loss: 0.5378 - val_acc: 0.7230\n",
      "Epoch 82/100\n",
      "100/100 [==============================] - 5s 46ms/step - loss: 0.4826 - acc: 0.7625 - val_loss: 0.6366 - val_acc: 0.6610\n",
      "Epoch 83/100\n",
      "100/100 [==============================] - 5s 48ms/step - loss: 0.5014 - acc: 0.7570 - val_loss: 0.6304 - val_acc: 0.6700\n",
      "Epoch 84/100\n",
      "100/100 [==============================] - 5s 48ms/step - loss: 0.5164 - acc: 0.7450 - val_loss: 0.5719 - val_acc: 0.6940\n",
      "Epoch 85/100\n",
      "100/100 [==============================] - 5s 46ms/step - loss: 0.5122 - acc: 0.7480 - val_loss: 0.5724 - val_acc: 0.6900\n",
      "Epoch 86/100\n",
      "100/100 [==============================] - 5s 47ms/step - loss: 0.4933 - acc: 0.7535 - val_loss: 0.5947 - val_acc: 0.6820\n",
      "Epoch 87/100\n",
      "100/100 [==============================] - 5s 47ms/step - loss: 0.4886 - acc: 0.7635 - val_loss: 0.5852 - val_acc: 0.6890\n",
      "Epoch 88/100\n",
      "100/100 [==============================] - 5s 47ms/step - loss: 0.4982 - acc: 0.7500 - val_loss: 0.6030 - val_acc: 0.6830\n",
      "Epoch 89/100\n",
      " 99/100 [============================>.] - ETA: 0s - loss: 0.4981 - acc: 0.7495"
     ]
    },
    {
     "name": "stderr",
     "output_type": "stream",
     "text": [
      "WARNING:absl:Found untraced functions such as _jit_compiled_convolution_op, _jit_compiled_convolution_op, _jit_compiled_convolution_op, _jit_compiled_convolution_op while saving (showing 4 of 4). These functions will not be directly callable after loading.\n"
     ]
    },
    {
     "name": "stdout",
     "output_type": "stream",
     "text": [
      "INFO:tensorflow:Assets written to: cats_dog/assets\n"
     ]
    },
    {
     "name": "stderr",
     "output_type": "stream",
     "text": [
      "INFO:tensorflow:Assets written to: cats_dog/assets\n"
     ]
    },
    {
     "name": "stdout",
     "output_type": "stream",
     "text": [
      "100/100 [==============================] - 7s 68ms/step - loss: 0.4959 - acc: 0.7510 - val_loss: 0.5371 - val_acc: 0.7180\n",
      "Epoch 90/100\n",
      "100/100 [==============================] - 5s 50ms/step - loss: 0.4804 - acc: 0.7565 - val_loss: 0.6257 - val_acc: 0.6760\n",
      "Epoch 91/100\n",
      "100/100 [==============================] - 5s 46ms/step - loss: 0.4757 - acc: 0.7710 - val_loss: 0.5606 - val_acc: 0.7080\n",
      "Epoch 92/100\n",
      "100/100 [==============================] - 5s 46ms/step - loss: 0.4852 - acc: 0.7600 - val_loss: 0.5406 - val_acc: 0.7190\n",
      "Epoch 93/100\n",
      "100/100 [==============================] - 5s 47ms/step - loss: 0.4785 - acc: 0.7675 - val_loss: 0.5525 - val_acc: 0.7200\n",
      "Epoch 94/100\n",
      "100/100 [==============================] - 5s 47ms/step - loss: 0.4745 - acc: 0.7720 - val_loss: 0.5654 - val_acc: 0.6920\n",
      "Epoch 95/100\n",
      "100/100 [==============================] - 5s 46ms/step - loss: 0.4875 - acc: 0.7730 - val_loss: 0.5831 - val_acc: 0.6910\n",
      "Epoch 96/100\n",
      "100/100 [==============================] - 5s 46ms/step - loss: 0.4759 - acc: 0.7755 - val_loss: 0.6026 - val_acc: 0.6810\n",
      "Epoch 97/100\n",
      "100/100 [==============================] - 5s 46ms/step - loss: 0.4835 - acc: 0.7600 - val_loss: 0.5380 - val_acc: 0.7260\n",
      "Epoch 98/100\n",
      "100/100 [==============================] - 5s 47ms/step - loss: 0.4750 - acc: 0.7715 - val_loss: 0.5830 - val_acc: 0.6940\n",
      "Epoch 99/100\n",
      "100/100 [==============================] - ETA: 0s - loss: 0.4683 - acc: 0.7800"
     ]
    },
    {
     "name": "stderr",
     "output_type": "stream",
     "text": [
      "WARNING:absl:Found untraced functions such as _jit_compiled_convolution_op, _jit_compiled_convolution_op, _jit_compiled_convolution_op, _jit_compiled_convolution_op while saving (showing 4 of 4). These functions will not be directly callable after loading.\n"
     ]
    },
    {
     "name": "stdout",
     "output_type": "stream",
     "text": [
      "INFO:tensorflow:Assets written to: cats_dog/assets\n"
     ]
    },
    {
     "name": "stderr",
     "output_type": "stream",
     "text": [
      "INFO:tensorflow:Assets written to: cats_dog/assets\n"
     ]
    },
    {
     "name": "stdout",
     "output_type": "stream",
     "text": [
      "100/100 [==============================] - 7s 69ms/step - loss: 0.4683 - acc: 0.7800 - val_loss: 0.5325 - val_acc: 0.7220\n",
      "Epoch 100/100\n",
      "100/100 [==============================] - 5s 47ms/step - loss: 0.4780 - acc: 0.7685 - val_loss: 0.6206 - val_acc: 0.6630\n"
     ]
    }
   ],
   "source": [
    "history = model.fit(train_ds,epochs=100,validation_data=val_ds,callbacks=[checkpoint_cb,tensorboard_cb])"
   ]
  },
  {
   "cell_type": "code",
   "execution_count": 61,
   "metadata": {},
   "outputs": [
    {
     "data": {
      "text/plain": [
       "dict_keys(['loss', 'acc', 'val_loss', 'val_acc'])"
      ]
     },
     "execution_count": 61,
     "metadata": {},
     "output_type": "execute_result"
    }
   ],
   "source": [
    "history.history.keys()"
   ]
  },
  {
   "cell_type": "code",
   "execution_count": 62,
   "metadata": {},
   "outputs": [],
   "source": [
    "import pandas as pd\n",
    "import matplotlib.pyplot as plt"
   ]
  },
  {
   "cell_type": "code",
   "execution_count": 63,
   "metadata": {},
   "outputs": [
    {
     "data": {
      "image/png": "[encoded data removed]",
      "text/plain": [
       "<Figure size 800x500 with 1 Axes>"
      ]
     },
     "metadata": {},
     "output_type": "display_data"
    }
   ],
   "source": [
    "pd.DataFrame(history.history).plot(figsize=(8, 5))\n",
    "plt.grid(True)\n",
    "plt.gca().set_ylim(0, 1) # set the vertical range to [0-1]\n",
    "plt.show()"
   ]
  },
  {
   "cell_type": "code",
   "execution_count": 64,
   "metadata": {},
   "outputs": [],
   "source": [
    "# model.save(\"cats_and_dogs\")"
   ]
  },
  {
   "cell_type": "code",
   "execution_count": 65,
   "metadata": {},
   "outputs": [
    {
     "name": "stdout",
     "output_type": "stream",
     "text": [
      "/bin/bash: /home/kailash/anaconda3/envs/tensorflow1/lib/libtinfo.so.6: no version information available (required by /bin/bash)\n",
      "\n",
      "NOTE: Using experimental fast data loading logic. To disable, pass\n",
      "    \"--load_fast=false\" and report issues on GitHub. More details:\n",
      "    https://github.com/tensorflow/tensorboard/issues/4784\n",
      "\n",
      "TensorBoard 2.10.0 at http://kailash-ASUS-TUF-Gaming-A17-FA706IC-FA766IC:6006/ (Press CTRL+C to quit)\n",
      "W0921 13:47:20.309216 139963295319616 security_validator.py:46] In 3.0, this warning will become an error:\n",
      "Illegal Content-Security-Policy for script-src: 'unsafe-inline'\n",
      "W0921 13:47:21.058884 139963278534208 security_validator.py:46] In 3.0, this warning will become an error:\n",
      "Illegal Content-Security-Policy for script-src: 'unsafe-inline'\n",
      "W0921 13:47:27.306746 139963278534208 application.py:558] path /data/plugin/profile not found, sending 404\n",
      "W0921 13:47:27.353830 139963295319616 application.py:558] path /data/plugin/profile/overview_page@;run=run_2022_09_21-13_36_49dataset_map/2022_09_21_13_37_01 not found, sending 404\n",
      "W0921 13:47:48.627735 139963295319616 application.py:558] path /data/plugin/profile/overview_page@;run=run_2022_09_21-13_32_19dataset_map/2022_09_21_13_32_29 not found, sending 404\n",
      "^C\n"
     ]
    }
   ],
   "source": [
    "!tensorboard --bind_all --logdir=./my_logs --port=6006"
   ]
  }
 ],
 "metadata": {
  "kernelspec": {
   "display_name": "Python 3.10.4 ('tensorflow1')",
   "language": "python",
   "name": "python3"
  },
  "language_info": {
   "codemirror_mode": {
    "name": "ipython",
    "version": 3
   },
   "file_extension": ".py",
   "mimetype": "text/x-python",
   "name": "python",
   "nbconvert_exporter": "python",
   "pygments_lexer": "ipython3",
   "version": "3.10.4"
  },
  "orig_nbformat": 4,
  "vscode": {
   "interpreter": {
    "hash": "32df1eb32394b513ab03ec1ca1fed6ddb93f4a47a0f6d691f350cc1ad9704886"
   }
  }
 },
 "nbformat": 4,
 "nbformat_minor": 2
}
