{
 "cells": [
  {
   "cell_type": "code",
   "execution_count": 1,
   "metadata": {},
   "outputs": [],
   "source": [
    "import os, shutil\n",
    "import warnings\n",
    "warnings.filterwarnings('ignore')\n"
   ]
  },
  {
   "cell_type": "code",
   "execution_count": 2,
   "metadata": {},
   "outputs": [],
   "source": [
    "# %pip install -q -U keras-tuner\n"
   ]
  },
  {
   "cell_type": "code",
   "execution_count": 3,
   "metadata": {},
   "outputs": [],
   "source": [
    "# os.getcwd()"
   ]
  },
  {
   "cell_type": "code",
   "execution_count": 4,
   "metadata": {},
   "outputs": [],
   "source": [
    "\n",
    "\n",
    "# original_dataset_dir = '/home/kailash/VScode Python projects/tf/conv/kaggle_dataset/train'\n"
   ]
  },
  {
   "cell_type": "code",
   "execution_count": 5,
   "metadata": {},
   "outputs": [],
   "source": [
    "\n",
    "# base_dir = '/home/kailash/VScode Python projects/tf/conv/small_dataset/'\n",
    "\n",
    "# os.mkdir(base_dir)\n",
    "\n"
   ]
  },
  {
   "cell_type": "markdown",
   "metadata": {},
   "source": [
    "### Folders for train,test,validation data ###"
   ]
  },
  {
   "cell_type": "code",
   "execution_count": 6,
   "metadata": {},
   "outputs": [],
   "source": [
    "# train_dir = os.path.join(base_dir,'train')\n",
    "# os.mkdir(train_dir)\n",
    "# validation_dir = os.path.join(base_dir, 'validation')\n",
    "# os.mkdir(validation_dir)\n",
    "# test_dir = os.path.join(base_dir, 'test')\n",
    "# os.mkdir(test_dir)\n"
   ]
  },
  {
   "cell_type": "code",
   "execution_count": 7,
   "metadata": {},
   "outputs": [],
   "source": [
    "# os.path(test_dir)"
   ]
  },
  {
   "cell_type": "markdown",
   "metadata": {},
   "source": [
    "### Directory for cat and dog images for train test validation data ###"
   ]
  },
  {
   "cell_type": "code",
   "execution_count": 8,
   "metadata": {},
   "outputs": [],
   "source": [
    "# train_cats_dir = os.path.join(train_dir, 'cats')\n",
    "# os.mkdir(train_cats_dir)\n",
    "# train_dogs_dir = os.path.join(train_dir, 'dogs')\n",
    "# os.mkdir(train_dogs_dir)\n",
    "# validation_cats_dir = os.path.join(validation_dir, 'cats')\n",
    "# os.mkdir(validation_cats_dir)\n",
    "# validation_dogs_dir = os.path.join(validation_dir, 'dogs')\n",
    "# os.mkdir(validation_dogs_dir)\n",
    "# test_cats_dir = os.path.join(test_dir, 'cats')\n",
    "# os.mkdir(test_cats_dir)\n",
    "# test_dogs_dir = os.path.join(test_dir, 'dogs')\n",
    "# os.mkdir(test_dogs_dir)"
   ]
  },
  {
   "cell_type": "markdown",
   "metadata": {},
   "source": [
    "#### Copy from kaggle train dataset to their respective directories ####"
   ]
  },
  {
   "cell_type": "code",
   "execution_count": 9,
   "metadata": {},
   "outputs": [],
   "source": [
    "# fnames = ['cat.{}.jpg'.format(i) for i in range(1000)]\n",
    "# for fname in fnames:\n",
    "#     src = os.path.join(original_dataset_dir, fname)\n",
    "#     dst = os.path.join(train_cats_dir, fname)\n",
    "#     shutil.copyfile(src, dst)"
   ]
  },
  {
   "cell_type": "code",
   "execution_count": 10,
   "metadata": {},
   "outputs": [],
   "source": [
    "# fnames = ['cat.{}.jpg'.format(i) for i in range(1000, 1500)]\n",
    "# for fname in fnames:\n",
    "#     src = os.path.join(original_dataset_dir, fname)\n",
    "#     dst = os.path.join(validation_cats_dir, fname)\n",
    "#     shutil.copyfile(src, dst)"
   ]
  },
  {
   "cell_type": "code",
   "execution_count": 11,
   "metadata": {},
   "outputs": [],
   "source": [
    "# fnames = ['cat.{}.jpg'.format(i) for i in range(1500, 2000)]\n",
    "# for fname in fnames:\n",
    "#     src = os.path.join(original_dataset_dir, fname)\n",
    "#     dst = os.path.join(test_cats_dir, fname)\n",
    "#     shutil.copyfile(src, dst)"
   ]
  },
  {
   "cell_type": "code",
   "execution_count": 12,
   "metadata": {},
   "outputs": [],
   "source": [
    "# fnames = ['dog.{}.jpg'.format(i) for i in range(1000)]\n",
    "# for fname in fnames:\n",
    "#     src = os.path.join(original_dataset_dir, fname)\n",
    "#     dst = os.path.join(train_dogs_dir, fname)\n",
    "#     shutil.copyfile(src, dst)"
   ]
  },
  {
   "cell_type": "code",
   "execution_count": 13,
   "metadata": {},
   "outputs": [],
   "source": [
    "# fnames = ['dog.{}.jpg'.format(i) for i in range(1000, 1500)]\n",
    "# for fname in fnames:\n",
    "#     src = os.path.join(original_dataset_dir, fname)\n",
    "#     dst = os.path.join(validation_dogs_dir, fname)\n",
    "#     shutil.copyfile(src, dst)"
   ]
  },
  {
   "cell_type": "code",
   "execution_count": 14,
   "metadata": {},
   "outputs": [],
   "source": [
    "# fnames = ['dog.{}.jpg'.format(i) for i in range(1500, 2000)]\n",
    "# for fname in fnames:\n",
    "#     src = os.path.join(original_dataset_dir, fname)\n",
    "#     dst = os.path.join(test_dogs_dir, fname)\n",
    "#     shutil.copyfile(src, dst)"
   ]
  },
  {
   "cell_type": "code",
   "execution_count": 15,
   "metadata": {},
   "outputs": [
    {
     "name": "stderr",
     "output_type": "stream",
     "text": [
      "2022-09-20 12:02:55.897394: I tensorflow/core/platform/cpu_feature_guard.cc:193] This TensorFlow binary is optimized with oneAPI Deep Neural Network Library (oneDNN) to use the following CPU instructions in performance-critical operations:  AVX2 FMA\n",
      "To enable them in other operations, rebuild TensorFlow with the appropriate compiler flags.\n",
      "2022-09-20 12:02:56.237687: E tensorflow/stream_executor/cuda/cuda_blas.cc:2981] Unable to register cuBLAS factory: Attempting to register factory for plugin cuBLAS when one has already been registered\n",
      "2022-09-20 12:02:57.363438: W tensorflow/stream_executor/platform/default/dso_loader.cc:64] Could not load dynamic library 'libnvinfer.so.7'; dlerror: libnvinfer.so.7: cannot open shared object file: No such file or directory; LD_LIBRARY_PATH: /usr/lib/cuda/include:/usr/lib/cuda/lib64:/usr/lib/cuda/include:/usr/lib/cuda/lib64::/home/kailash/anaconda3/envs/tensorflow1/lib/\n",
      "2022-09-20 12:02:57.363591: W tensorflow/stream_executor/platform/default/dso_loader.cc:64] Could not load dynamic library 'libnvinfer_plugin.so.7'; dlerror: libnvinfer_plugin.so.7: cannot open shared object file: No such file or directory; LD_LIBRARY_PATH: /usr/lib/cuda/include:/usr/lib/cuda/lib64:/usr/lib/cuda/include:/usr/lib/cuda/lib64::/home/kailash/anaconda3/envs/tensorflow1/lib/\n",
      "2022-09-20 12:02:57.363601: W tensorflow/compiler/tf2tensorrt/utils/py_utils.cc:38] TF-TRT Warning: Cannot dlopen some TensorRT libraries. If you would like to use Nvidia GPU with TensorRT, please make sure the missing libraries mentioned above are installed properly.\n"
     ]
    }
   ],
   "source": [
    "import tensorflow as tf"
   ]
  },
  {
   "cell_type": "code",
   "execution_count": 16,
   "metadata": {},
   "outputs": [
    {
     "name": "stdout",
     "output_type": "stream",
     "text": [
      "Num GPUs Available:  1\n"
     ]
    },
    {
     "name": "stderr",
     "output_type": "stream",
     "text": [
      "2022-09-20 12:02:58.864103: I tensorflow/stream_executor/cuda/cuda_gpu_executor.cc:980] successful NUMA node read from SysFS had negative value (-1), but there must be at least one NUMA node, so returning NUMA node zero\n",
      "2022-09-20 12:02:58.892249: I tensorflow/stream_executor/cuda/cuda_gpu_executor.cc:980] successful NUMA node read from SysFS had negative value (-1), but there must be at least one NUMA node, so returning NUMA node zero\n",
      "2022-09-20 12:02:58.892431: I tensorflow/stream_executor/cuda/cuda_gpu_executor.cc:980] successful NUMA node read from SysFS had negative value (-1), but there must be at least one NUMA node, so returning NUMA node zero\n"
     ]
    }
   ],
   "source": [
    "print(\"Num GPUs Available: \", len(tf.config.list_physical_devices('GPU')))"
   ]
  },
  {
   "cell_type": "code",
   "execution_count": 17,
   "metadata": {},
   "outputs": [],
   "source": [
    "import tensorflow as tf\n",
    "from tensorflow import keras\n"
   ]
  },
  {
   "cell_type": "code",
   "execution_count": 18,
   "metadata": {},
   "outputs": [],
   "source": [
    "import keras_tuner as kt"
   ]
  },
  {
   "cell_type": "code",
   "execution_count": 19,
   "metadata": {},
   "outputs": [
    {
     "name": "stderr",
     "output_type": "stream",
     "text": [
      "2022-09-20 12:02:59.406565: I tensorflow/core/platform/cpu_feature_guard.cc:193] This TensorFlow binary is optimized with oneAPI Deep Neural Network Library (oneDNN) to use the following CPU instructions in performance-critical operations:  AVX2 FMA\n",
      "To enable them in other operations, rebuild TensorFlow with the appropriate compiler flags.\n",
      "2022-09-20 12:02:59.407606: I tensorflow/stream_executor/cuda/cuda_gpu_executor.cc:980] successful NUMA node read from SysFS had negative value (-1), but there must be at least one NUMA node, so returning NUMA node zero\n",
      "2022-09-20 12:02:59.407834: I tensorflow/stream_executor/cuda/cuda_gpu_executor.cc:980] successful NUMA node read from SysFS had negative value (-1), but there must be at least one NUMA node, so returning NUMA node zero\n",
      "2022-09-20 12:02:59.407947: I tensorflow/stream_executor/cuda/cuda_gpu_executor.cc:980] successful NUMA node read from SysFS had negative value (-1), but there must be at least one NUMA node, so returning NUMA node zero\n",
      "2022-09-20 12:03:00.090125: I tensorflow/stream_executor/cuda/cuda_gpu_executor.cc:980] successful NUMA node read from SysFS had negative value (-1), but there must be at least one NUMA node, so returning NUMA node zero\n",
      "2022-09-20 12:03:00.090717: I tensorflow/stream_executor/cuda/cuda_gpu_executor.cc:980] successful NUMA node read from SysFS had negative value (-1), but there must be at least one NUMA node, so returning NUMA node zero\n",
      "2022-09-20 12:03:00.090842: I tensorflow/stream_executor/cuda/cuda_gpu_executor.cc:980] successful NUMA node read from SysFS had negative value (-1), but there must be at least one NUMA node, so returning NUMA node zero\n",
      "2022-09-20 12:03:00.090956: I tensorflow/core/common_runtime/gpu/gpu_device.cc:1616] Created device /job:localhost/replica:0/task:0/device:GPU:0 with 1863 MB memory:  -> device: 0, name: NVIDIA GeForce RTX 3050 Laptop GPU, pci bus id: 0000:01:00.0, compute capability: 8.6\n"
     ]
    }
   ],
   "source": [
    "model = tf.keras.models.Sequential()\n",
    "model.add(tf.keras.layers.Conv2D(32,(3,3),padding = \"same\",activation=\"relu\",input_shape=(150,150,3)))\n",
    "model.add(tf.keras.layers.MaxPooling2D((2,2)))\n",
    "model.add(tf.keras.layers.Conv2D(64, (3, 3),padding = \"same\", activation='relu'))\n",
    "model.add(tf.keras.layers.MaxPooling2D((2, 2)))\n",
    "model.add(tf.keras.layers.Conv2D(128, (3, 3), padding = \"same\",activation='relu'))\n",
    "model.add(tf.keras.layers.MaxPooling2D((2, 2)))\n",
    "model.add(tf.keras.layers.Conv2D(128, (3, 3), padding = \"same\",activation='relu'))\n",
    "model.add(tf.keras.layers.MaxPooling2D((2, 2)))\n",
    "model.add(tf.keras.layers.Flatten())\n",
    "model.add(tf.keras.layers.Dropout(0.5))\n",
    "model.add(tf.keras.layers.Dense(512, activation='relu'))\n",
    "model.add(tf.keras.layers.Dense(1, activation='sigmoid'))\n"
   ]
  },
  {
   "cell_type": "code",
   "execution_count": 20,
   "metadata": {},
   "outputs": [
    {
     "name": "stdout",
     "output_type": "stream",
     "text": [
      "Model: \"sequential\"\n",
      "_________________________________________________________________\n",
      " Layer (type)                Output Shape              Param #   \n",
      "=================================================================\n",
      " conv2d (Conv2D)             (None, 150, 150, 32)      896       \n",
      "                                                                 \n",
      " max_pooling2d (MaxPooling2D  (None, 75, 75, 32)       0         \n",
      " )                                                               \n",
      "                                                                 \n",
      " conv2d_1 (Conv2D)           (None, 75, 75, 64)        18496     \n",
      "                                                                 \n",
      " max_pooling2d_1 (MaxPooling  (None, 37, 37, 64)       0         \n",
      " 2D)                                                             \n",
      "                                                                 \n",
      " conv2d_2 (Conv2D)           (None, 37, 37, 128)       73856     \n",
      "                                                                 \n",
      " max_pooling2d_2 (MaxPooling  (None, 18, 18, 128)      0         \n",
      " 2D)                                                             \n",
      "                                                                 \n",
      " conv2d_3 (Conv2D)           (None, 18, 18, 128)       147584    \n",
      "                                                                 \n",
      " max_pooling2d_3 (MaxPooling  (None, 9, 9, 128)        0         \n",
      " 2D)                                                             \n",
      "                                                                 \n",
      " flatten (Flatten)           (None, 10368)             0         \n",
      "                                                                 \n",
      " dropout (Dropout)           (None, 10368)             0         \n",
      "                                                                 \n",
      " dense (Dense)               (None, 512)               5308928   \n",
      "                                                                 \n",
      " dense_1 (Dense)             (None, 1)                 513       \n",
      "                                                                 \n",
      "=================================================================\n",
      "Total params: 5,550,273\n",
      "Trainable params: 5,550,273\n",
      "Non-trainable params: 0\n",
      "_________________________________________________________________\n"
     ]
    }
   ],
   "source": [
    "model.summary()"
   ]
  },
  {
   "cell_type": "code",
   "execution_count": 21,
   "metadata": {},
   "outputs": [],
   "source": [
    "\n",
    "model.compile(loss='binary_crossentropy',optimizer=tf.keras.optimizers.Adam(learning_rate=1e-4,decay=1e-6),metrics=['acc'])"
   ]
  },
  {
   "cell_type": "code",
   "execution_count": 22,
   "metadata": {},
   "outputs": [
    {
     "name": "stdout",
     "output_type": "stream",
     "text": [
      "Found 2000 images belonging to 2 classes.\n",
      "Found 1000 images belonging to 2 classes.\n"
     ]
    }
   ],
   "source": [
    "train_datagen = keras.preprocessing.image.ImageDataGenerator(rescale = 1./255,rotation_range=40,\n",
    "width_shift_range=0.2,\n",
    "height_shift_range=0.2,\n",
    "shear_range=0.2,\n",
    "zoom_range=0.2,\n",
    "horizontal_flip=True,)\n",
    "\n",
    "\n",
    "test_datagen = keras.preprocessing.image.ImageDataGenerator(rescale =1./255)\n",
    "\n",
    "train_generator = train_datagen.flow_from_directory('/home/kailash/VScode Python projects/tf/conv/small_dataset/train',target_size = (150,150),batch_size =40,class_mode ='binary')\n",
    "valid_generator = test_datagen.flow_from_directory('/home/kailash/VScode Python projects/tf/conv/small_dataset/validation',target_size = (150,150),batch_size =40,class_mode ='binary')\n",
    "\n"
   ]
  },
  {
   "cell_type": "code",
   "execution_count": 23,
   "metadata": {},
   "outputs": [
    {
     "name": "stdout",
     "output_type": "stream",
     "text": [
      "data batch shape: (40, 150, 150, 3)\n",
      "labels batch shape: (40,)\n"
     ]
    }
   ],
   "source": [
    "for data_batch, labels_batch in train_generator:\n",
    "    print('data batch shape:', data_batch.shape)\n",
    "\n",
    "    print('labels batch shape:', labels_batch.shape)\n",
    "    break\n",
    "\n"
   ]
  },
  {
   "cell_type": "code",
   "execution_count": 24,
   "metadata": {},
   "outputs": [],
   "source": [
    "train_dataset = tf.data.Dataset.from_generator(lambda:train_generator, output_types=(tf.float32, tf.float32), \n",
    "output_shapes=([40,150,150,3], (40,)))"
   ]
  },
  {
   "cell_type": "code",
   "execution_count": null,
   "metadata": {},
   "outputs": [],
   "source": []
  },
  {
   "cell_type": "code",
   "execution_count": 25,
   "metadata": {},
   "outputs": [],
   "source": [
    "valid_dataset = tf.data.Dataset.from_generator(lambda:valid_generator, output_types=(tf.float32, tf.float32), \n",
    "output_shapes=([40,150,150,3], (40,)))"
   ]
  },
  {
   "cell_type": "code",
   "execution_count": 26,
   "metadata": {},
   "outputs": [
    {
     "name": "stdout",
     "output_type": "stream",
     "text": [
      "data batch shape: (40, 150, 150, 3)\n",
      "labels batch shape: (40,)\n"
     ]
    }
   ],
   "source": [
    "for data_batch, labels_batch in train_dataset:\n",
    "    print('data batch shape:', data_batch.shape)\n",
    "\n",
    "    print('labels batch shape:', labels_batch.shape)\n",
    "    break"
   ]
  },
  {
   "cell_type": "code",
   "execution_count": 27,
   "metadata": {},
   "outputs": [],
   "source": [
    "checkpoint_cb = keras.callbacks.ModelCheckpoint(\"cats_dog\",save_best_only=True)"
   ]
  },
  {
   "cell_type": "code",
   "execution_count": 28,
   "metadata": {},
   "outputs": [],
   "source": [
    "early_stopping_cb = keras.callbacks.EarlyStopping(patience=10,restore_best_weights=True)"
   ]
  },
  {
   "cell_type": "code",
   "execution_count": 29,
   "metadata": {},
   "outputs": [],
   "source": [
    "root_logdir = os.path.join(os.curdir, \"my_logs\")\n",
    "def get_run_logdir():\n",
    "    import time\n",
    "    run_id = time.strftime(\"run_%Y_%m_%d-%H_%M_%S\")\n",
    "    return os.path.join(root_logdir, run_id)\n",
    "\n",
    "\n",
    "run_logdir = get_run_logdir()\n"
   ]
  },
  {
   "cell_type": "code",
   "execution_count": 30,
   "metadata": {},
   "outputs": [
    {
     "name": "stderr",
     "output_type": "stream",
     "text": [
      "2022-09-20 12:03:01.769752: I tensorflow/core/profiler/lib/profiler_session.cc:101] Profiler session initializing.\n",
      "2022-09-20 12:03:01.769851: I tensorflow/core/profiler/lib/profiler_session.cc:116] Profiler session started.\n",
      "2022-09-20 12:03:01.770510: I tensorflow/core/profiler/backends/gpu/cupti_tracer.cc:1664] Profiler found 1 GPUs\n",
      "2022-09-20 12:03:01.981895: I tensorflow/core/profiler/lib/profiler_session.cc:128] Profiler session tear down.\n",
      "2022-09-20 12:03:01.984271: I tensorflow/core/profiler/backends/gpu/cupti_tracer.cc:1798] CUPTI activity buffer flushed\n"
     ]
    }
   ],
   "source": [
    "tensorboard_cb = keras.callbacks.TensorBoard(run_logdir, profile_batch='10, 15',histogram_freq=1)"
   ]
  },
  {
   "cell_type": "code",
   "execution_count": 31,
   "metadata": {},
   "outputs": [
    {
     "name": "stdout",
     "output_type": "stream",
     "text": [
      "Epoch 1/100\n"
     ]
    },
    {
     "name": "stderr",
     "output_type": "stream",
     "text": [
      "2022-09-20 12:03:04.093871: I tensorflow/stream_executor/cuda/cuda_dnn.cc:384] Loaded cuDNN version 8500\n",
      "2022-09-20 12:03:05.050516: I tensorflow/core/platform/default/subprocess.cc:304] Start cannot spawn child process: No such file or directory\n",
      "2022-09-20 12:03:05.051421: I tensorflow/core/platform/default/subprocess.cc:304] Start cannot spawn child process: No such file or directory\n",
      "2022-09-20 12:03:05.051485: W tensorflow/stream_executor/gpu/asm_compiler.cc:80] Couldn't get ptxas version string: INTERNAL: Couldn't invoke ptxas --version\n",
      "2022-09-20 12:03:05.052389: I tensorflow/core/platform/default/subprocess.cc:304] Start cannot spawn child process: No such file or directory\n",
      "2022-09-20 12:03:05.052501: W tensorflow/stream_executor/gpu/redzone_allocator.cc:314] INTERNAL: Failed to launch ptxas\n",
      "Relying on driver to perform ptx compilation. \n",
      "Modify $PATH to customize ptxas location.\n",
      "This message will be only logged once.\n",
      "2022-09-20 12:03:05.412287: I tensorflow/stream_executor/cuda/cuda_blas.cc:1614] TensorFloat-32 will be used for the matrix multiplication. This will only be logged once.\n"
     ]
    },
    {
     "name": "stdout",
     "output_type": "stream",
     "text": [
      "  9/100 [=>............................] - ETA: 21s - loss: 0.7028 - acc: 0.5167"
     ]
    },
    {
     "name": "stderr",
     "output_type": "stream",
     "text": [
      "2022-09-20 12:03:08.672191: I tensorflow/core/profiler/lib/profiler_session.cc:101] Profiler session initializing.\n",
      "2022-09-20 12:03:08.672223: I tensorflow/core/profiler/lib/profiler_session.cc:116] Profiler session started.\n"
     ]
    },
    {
     "name": "stdout",
     "output_type": "stream",
     "text": [
      " 15/100 [===>..........................] - ETA: 23s - loss: 0.7009 - acc: 0.5150"
     ]
    },
    {
     "name": "stderr",
     "output_type": "stream",
     "text": [
      "2022-09-20 12:03:10.460498: I tensorflow/core/profiler/lib/profiler_session.cc:67] Profiler session collecting data.\n",
      "2022-09-20 12:03:10.462883: I tensorflow/core/profiler/backends/gpu/cupti_tracer.cc:1798] CUPTI activity buffer flushed\n",
      "2022-09-20 12:03:10.516051: I tensorflow/core/profiler/backends/gpu/cupti_collector.cc:521]  GpuTracer has collected 1005 callback api events and 989 activity events. \n",
      "2022-09-20 12:03:10.530178: I tensorflow/core/profiler/lib/profiler_session.cc:128] Profiler session tear down.\n",
      "2022-09-20 12:03:10.548201: I tensorflow/core/profiler/rpc/client/save_profile.cc:136] Creating directory: ./my_logs/run_2022_09_20-12_03_01/plugins/profile/2022_09_20_12_03_10\n",
      "\n",
      "2022-09-20 12:03:10.562181: I tensorflow/core/profiler/rpc/client/save_profile.cc:142] Dumped gzipped tool data for trace.json.gz to ./my_logs/run_2022_09_20-12_03_01/plugins/profile/2022_09_20_12_03_10/kailash-ASUS-TUF-Gaming-A17-FA706IC-FA766IC.trace.json.gz\n",
      "2022-09-20 12:03:10.597168: I tensorflow/core/profiler/rpc/client/save_profile.cc:136] Creating directory: ./my_logs/run_2022_09_20-12_03_01/plugins/profile/2022_09_20_12_03_10\n",
      "\n",
      "2022-09-20 12:03:10.601183: I tensorflow/core/profiler/rpc/client/save_profile.cc:142] Dumped gzipped tool data for memory_profile.json.gz to ./my_logs/run_2022_09_20-12_03_01/plugins/profile/2022_09_20_12_03_10/kailash-ASUS-TUF-Gaming-A17-FA706IC-FA766IC.memory_profile.json.gz\n",
      "2022-09-20 12:03:10.601724: I tensorflow/core/profiler/rpc/client/capture_profile.cc:251] Creating directory: ./my_logs/run_2022_09_20-12_03_01/plugins/profile/2022_09_20_12_03_10\n",
      "Dumped tool data for xplane.pb to ./my_logs/run_2022_09_20-12_03_01/plugins/profile/2022_09_20_12_03_10/kailash-ASUS-TUF-Gaming-A17-FA706IC-FA766IC.xplane.pb\n",
      "Dumped tool data for overview_page.pb to ./my_logs/run_2022_09_20-12_03_01/plugins/profile/2022_09_20_12_03_10/kailash-ASUS-TUF-Gaming-A17-FA706IC-FA766IC.overview_page.pb\n",
      "Dumped tool data for input_pipeline.pb to ./my_logs/run_2022_09_20-12_03_01/plugins/profile/2022_09_20_12_03_10/kailash-ASUS-TUF-Gaming-A17-FA706IC-FA766IC.input_pipeline.pb\n",
      "Dumped tool data for tensorflow_stats.pb to ./my_logs/run_2022_09_20-12_03_01/plugins/profile/2022_09_20_12_03_10/kailash-ASUS-TUF-Gaming-A17-FA706IC-FA766IC.tensorflow_stats.pb\n",
      "Dumped tool data for kernel_stats.pb to ./my_logs/run_2022_09_20-12_03_01/plugins/profile/2022_09_20_12_03_10/kailash-ASUS-TUF-Gaming-A17-FA706IC-FA766IC.kernel_stats.pb\n",
      "\n"
     ]
    },
    {
     "name": "stdout",
     "output_type": "stream",
     "text": [
      "100/100 [==============================] - ETA: 0s - loss: 0.6943 - acc: 0.5207"
     ]
    },
    {
     "name": "stderr",
     "output_type": "stream",
     "text": [
      "WARNING:absl:Found untraced functions such as _jit_compiled_convolution_op, _jit_compiled_convolution_op, _jit_compiled_convolution_op, _jit_compiled_convolution_op while saving (showing 4 of 4). These functions will not be directly callable after loading.\n"
     ]
    },
    {
     "name": "stdout",
     "output_type": "stream",
     "text": [
      "INFO:tensorflow:Assets written to: cats_dog/assets\n"
     ]
    },
    {
     "name": "stderr",
     "output_type": "stream",
     "text": [
      "INFO:tensorflow:Assets written to: cats_dog/assets\n",
      "2022-09-20 12:03:36.158147: W tensorflow/core/framework/cpu_allocator_impl.cc:82] Allocation of 1274019840 exceeds 10% of free system memory.\n"
     ]
    },
    {
     "name": "stdout",
     "output_type": "stream",
     "text": [
      "100/100 [==============================] - 35s 301ms/step - loss: 0.6943 - acc: 0.5207 - val_loss: 0.6862 - val_acc: 0.5020\n",
      "Epoch 2/100\n",
      "100/100 [==============================] - ETA: 0s - loss: 0.6744 - acc: 0.5807"
     ]
    },
    {
     "name": "stderr",
     "output_type": "stream",
     "text": [
      "WARNING:absl:Found untraced functions such as _jit_compiled_convolution_op, _jit_compiled_convolution_op, _jit_compiled_convolution_op, _jit_compiled_convolution_op while saving (showing 4 of 4). These functions will not be directly callable after loading.\n"
     ]
    },
    {
     "name": "stdout",
     "output_type": "stream",
     "text": [
      "INFO:tensorflow:Assets written to: cats_dog/assets\n"
     ]
    },
    {
     "name": "stderr",
     "output_type": "stream",
     "text": [
      "INFO:tensorflow:Assets written to: cats_dog/assets\n",
      "2022-09-20 12:04:03.008917: W tensorflow/core/framework/cpu_allocator_impl.cc:82] Allocation of 1274019840 exceeds 10% of free system memory.\n"
     ]
    },
    {
     "name": "stdout",
     "output_type": "stream",
     "text": [
      "100/100 [==============================] - 27s 269ms/step - loss: 0.6744 - acc: 0.5807 - val_loss: 0.6651 - val_acc: 0.5460\n",
      "Epoch 3/100\n",
      "100/100 [==============================] - ETA: 0s - loss: 0.6360 - acc: 0.6332"
     ]
    },
    {
     "name": "stderr",
     "output_type": "stream",
     "text": [
      "WARNING:absl:Found untraced functions such as _jit_compiled_convolution_op, _jit_compiled_convolution_op, _jit_compiled_convolution_op, _jit_compiled_convolution_op while saving (showing 4 of 4). These functions will not be directly callable after loading.\n"
     ]
    },
    {
     "name": "stdout",
     "output_type": "stream",
     "text": [
      "INFO:tensorflow:Assets written to: cats_dog/assets\n"
     ]
    },
    {
     "name": "stderr",
     "output_type": "stream",
     "text": [
      "INFO:tensorflow:Assets written to: cats_dog/assets\n",
      "2022-09-20 12:04:30.758560: W tensorflow/core/framework/cpu_allocator_impl.cc:82] Allocation of 1274019840 exceeds 10% of free system memory.\n"
     ]
    },
    {
     "name": "stdout",
     "output_type": "stream",
     "text": [
      "100/100 [==============================] - 28s 278ms/step - loss: 0.6360 - acc: 0.6332 - val_loss: 0.5975 - val_acc: 0.6740\n",
      "Epoch 4/100\n",
      "100/100 [==============================] - ETA: 0s - loss: 0.5983 - acc: 0.6700"
     ]
    },
    {
     "name": "stderr",
     "output_type": "stream",
     "text": [
      "WARNING:absl:Found untraced functions such as _jit_compiled_convolution_op, _jit_compiled_convolution_op, _jit_compiled_convolution_op, _jit_compiled_convolution_op while saving (showing 4 of 4). These functions will not be directly callable after loading.\n"
     ]
    },
    {
     "name": "stdout",
     "output_type": "stream",
     "text": [
      "INFO:tensorflow:Assets written to: cats_dog/assets\n"
     ]
    },
    {
     "name": "stderr",
     "output_type": "stream",
     "text": [
      "INFO:tensorflow:Assets written to: cats_dog/assets\n",
      "2022-09-20 12:04:59.888935: W tensorflow/core/framework/cpu_allocator_impl.cc:82] Allocation of 1274019840 exceeds 10% of free system memory.\n"
     ]
    },
    {
     "name": "stdout",
     "output_type": "stream",
     "text": [
      "100/100 [==============================] - 29s 292ms/step - loss: 0.5983 - acc: 0.6700 - val_loss: 0.5712 - val_acc: 0.6930\n",
      "Epoch 5/100\n",
      "100/100 [==============================] - ETA: 0s - loss: 0.5934 - acc: 0.6827"
     ]
    },
    {
     "name": "stderr",
     "output_type": "stream",
     "text": [
      "2022-09-20 12:05:24.596916: W tensorflow/core/framework/cpu_allocator_impl.cc:82] Allocation of 1274019840 exceeds 10% of free system memory.\n"
     ]
    },
    {
     "name": "stdout",
     "output_type": "stream",
     "text": [
      "100/100 [==============================] - 25s 248ms/step - loss: 0.5934 - acc: 0.6827 - val_loss: 0.6046 - val_acc: 0.6720\n",
      "Epoch 6/100\n",
      "100/100 [==============================] - ETA: 0s - loss: 0.5847 - acc: 0.6945"
     ]
    },
    {
     "name": "stderr",
     "output_type": "stream",
     "text": [
      "WARNING:absl:Found untraced functions such as _jit_compiled_convolution_op, _jit_compiled_convolution_op, _jit_compiled_convolution_op, _jit_compiled_convolution_op while saving (showing 4 of 4). These functions will not be directly callable after loading.\n"
     ]
    },
    {
     "name": "stdout",
     "output_type": "stream",
     "text": [
      "INFO:tensorflow:Assets written to: cats_dog/assets\n"
     ]
    },
    {
     "name": "stderr",
     "output_type": "stream",
     "text": [
      "INFO:tensorflow:Assets written to: cats_dog/assets\n"
     ]
    },
    {
     "name": "stdout",
     "output_type": "stream",
     "text": [
      "100/100 [==============================] - 26s 264ms/step - loss: 0.5847 - acc: 0.6945 - val_loss: 0.5486 - val_acc: 0.7070\n",
      "Epoch 7/100\n",
      "100/100 [==============================] - 26s 258ms/step - loss: 0.5716 - acc: 0.7023 - val_loss: 0.5781 - val_acc: 0.6810\n",
      "Epoch 8/100\n",
      "100/100 [==============================] - 26s 260ms/step - loss: 0.5483 - acc: 0.7197 - val_loss: 0.5536 - val_acc: 0.7090\n",
      "Epoch 9/100\n",
      "100/100 [==============================] - 26s 258ms/step - loss: 0.5437 - acc: 0.7260 - val_loss: 0.5489 - val_acc: 0.7120\n",
      "Epoch 10/100\n",
      "100/100 [==============================] - ETA: 0s - loss: 0.5322 - acc: 0.7333"
     ]
    },
    {
     "name": "stderr",
     "output_type": "stream",
     "text": [
      "WARNING:absl:Found untraced functions such as _jit_compiled_convolution_op, _jit_compiled_convolution_op, _jit_compiled_convolution_op, _jit_compiled_convolution_op while saving (showing 4 of 4). These functions will not be directly callable after loading.\n"
     ]
    },
    {
     "name": "stdout",
     "output_type": "stream",
     "text": [
      "INFO:tensorflow:Assets written to: cats_dog/assets\n"
     ]
    },
    {
     "name": "stderr",
     "output_type": "stream",
     "text": [
      "INFO:tensorflow:Assets written to: cats_dog/assets\n"
     ]
    },
    {
     "name": "stdout",
     "output_type": "stream",
     "text": [
      "100/100 [==============================] - 28s 282ms/step - loss: 0.5322 - acc: 0.7333 - val_loss: 0.5095 - val_acc: 0.7330\n",
      "Epoch 11/100\n",
      "100/100 [==============================] - ETA: 0s - loss: 0.5372 - acc: 0.7240"
     ]
    },
    {
     "name": "stderr",
     "output_type": "stream",
     "text": [
      "WARNING:absl:Found untraced functions such as _jit_compiled_convolution_op, _jit_compiled_convolution_op, _jit_compiled_convolution_op, _jit_compiled_convolution_op while saving (showing 4 of 4). These functions will not be directly callable after loading.\n"
     ]
    },
    {
     "name": "stdout",
     "output_type": "stream",
     "text": [
      "INFO:tensorflow:Assets written to: cats_dog/assets\n"
     ]
    },
    {
     "name": "stderr",
     "output_type": "stream",
     "text": [
      "INFO:tensorflow:Assets written to: cats_dog/assets\n"
     ]
    },
    {
     "name": "stdout",
     "output_type": "stream",
     "text": [
      "100/100 [==============================] - 28s 286ms/step - loss: 0.5372 - acc: 0.7240 - val_loss: 0.5031 - val_acc: 0.7490\n",
      "Epoch 12/100\n",
      "100/100 [==============================] - ETA: 0s - loss: 0.5265 - acc: 0.7365"
     ]
    },
    {
     "name": "stderr",
     "output_type": "stream",
     "text": [
      "WARNING:absl:Found untraced functions such as _jit_compiled_convolution_op, _jit_compiled_convolution_op, _jit_compiled_convolution_op, _jit_compiled_convolution_op while saving (showing 4 of 4). These functions will not be directly callable after loading.\n"
     ]
    },
    {
     "name": "stdout",
     "output_type": "stream",
     "text": [
      "INFO:tensorflow:Assets written to: cats_dog/assets\n"
     ]
    },
    {
     "name": "stderr",
     "output_type": "stream",
     "text": [
      "INFO:tensorflow:Assets written to: cats_dog/assets\n"
     ]
    },
    {
     "name": "stdout",
     "output_type": "stream",
     "text": [
      "100/100 [==============================] - 31s 306ms/step - loss: 0.5265 - acc: 0.7365 - val_loss: 0.4845 - val_acc: 0.7530\n",
      "Epoch 13/100\n",
      "100/100 [==============================] - 27s 268ms/step - loss: 0.5030 - acc: 0.7540 - val_loss: 0.5023 - val_acc: 0.7500\n",
      "Epoch 14/100\n",
      "100/100 [==============================] - 24s 242ms/step - loss: 0.5033 - acc: 0.7508 - val_loss: 0.5041 - val_acc: 0.7390\n",
      "Epoch 15/100\n",
      "100/100 [==============================] - 27s 273ms/step - loss: 0.5031 - acc: 0.7477 - val_loss: 0.5088 - val_acc: 0.7270\n",
      "Epoch 16/100\n",
      "100/100 [==============================] - 26s 261ms/step - loss: 0.5030 - acc: 0.7508 - val_loss: 0.4960 - val_acc: 0.7480\n",
      "Epoch 17/100\n",
      "100/100 [==============================] - 25s 254ms/step - loss: 0.4870 - acc: 0.7648 - val_loss: 0.4887 - val_acc: 0.7610\n",
      "Epoch 18/100\n",
      "100/100 [==============================] - 25s 252ms/step - loss: 0.4814 - acc: 0.7628 - val_loss: 0.4897 - val_acc: 0.7580\n",
      "Epoch 19/100\n",
      "100/100 [==============================] - ETA: 0s - loss: 0.4768 - acc: 0.7725"
     ]
    },
    {
     "name": "stderr",
     "output_type": "stream",
     "text": [
      "WARNING:absl:Found untraced functions such as _jit_compiled_convolution_op, _jit_compiled_convolution_op, _jit_compiled_convolution_op, _jit_compiled_convolution_op while saving (showing 4 of 4). These functions will not be directly callable after loading.\n"
     ]
    },
    {
     "name": "stdout",
     "output_type": "stream",
     "text": [
      "INFO:tensorflow:Assets written to: cats_dog/assets\n"
     ]
    },
    {
     "name": "stderr",
     "output_type": "stream",
     "text": [
      "INFO:tensorflow:Assets written to: cats_dog/assets\n"
     ]
    },
    {
     "name": "stdout",
     "output_type": "stream",
     "text": [
      "100/100 [==============================] - 26s 265ms/step - loss: 0.4768 - acc: 0.7725 - val_loss: 0.4821 - val_acc: 0.7550\n",
      "Epoch 20/100\n",
      "100/100 [==============================] - ETA: 0s - loss: 0.4778 - acc: 0.7630"
     ]
    },
    {
     "name": "stderr",
     "output_type": "stream",
     "text": [
      "WARNING:absl:Found untraced functions such as _jit_compiled_convolution_op, _jit_compiled_convolution_op, _jit_compiled_convolution_op, _jit_compiled_convolution_op while saving (showing 4 of 4). These functions will not be directly callable after loading.\n"
     ]
    },
    {
     "name": "stdout",
     "output_type": "stream",
     "text": [
      "INFO:tensorflow:Assets written to: cats_dog/assets\n"
     ]
    },
    {
     "name": "stderr",
     "output_type": "stream",
     "text": [
      "INFO:tensorflow:Assets written to: cats_dog/assets\n"
     ]
    },
    {
     "name": "stdout",
     "output_type": "stream",
     "text": [
      "100/100 [==============================] - 26s 256ms/step - loss: 0.4778 - acc: 0.7630 - val_loss: 0.4626 - val_acc: 0.7600\n",
      "Epoch 21/100\n",
      "100/100 [==============================] - 25s 246ms/step - loss: 0.4710 - acc: 0.7772 - val_loss: 0.4691 - val_acc: 0.7700\n",
      "Epoch 22/100\n",
      "100/100 [==============================] - 25s 254ms/step - loss: 0.4739 - acc: 0.7655 - val_loss: 0.4745 - val_acc: 0.7630\n",
      "Epoch 23/100\n",
      "100/100 [==============================] - 25s 252ms/step - loss: 0.4565 - acc: 0.7860 - val_loss: 0.5398 - val_acc: 0.7300\n",
      "Epoch 24/100\n",
      "100/100 [==============================] - ETA: 0s - loss: 0.4645 - acc: 0.7810"
     ]
    },
    {
     "name": "stderr",
     "output_type": "stream",
     "text": [
      "WARNING:absl:Found untraced functions such as _jit_compiled_convolution_op, _jit_compiled_convolution_op, _jit_compiled_convolution_op, _jit_compiled_convolution_op while saving (showing 4 of 4). These functions will not be directly callable after loading.\n"
     ]
    },
    {
     "name": "stdout",
     "output_type": "stream",
     "text": [
      "INFO:tensorflow:Assets written to: cats_dog/assets\n"
     ]
    },
    {
     "name": "stderr",
     "output_type": "stream",
     "text": [
      "INFO:tensorflow:Assets written to: cats_dog/assets\n"
     ]
    },
    {
     "name": "stdout",
     "output_type": "stream",
     "text": [
      "100/100 [==============================] - 27s 271ms/step - loss: 0.4645 - acc: 0.7810 - val_loss: 0.4606 - val_acc: 0.7700\n",
      "Epoch 25/100\n",
      "100/100 [==============================] - ETA: 0s - loss: 0.4560 - acc: 0.7847"
     ]
    },
    {
     "name": "stderr",
     "output_type": "stream",
     "text": [
      "WARNING:absl:Found untraced functions such as _jit_compiled_convolution_op, _jit_compiled_convolution_op, _jit_compiled_convolution_op, _jit_compiled_convolution_op while saving (showing 4 of 4). These functions will not be directly callable after loading.\n"
     ]
    },
    {
     "name": "stdout",
     "output_type": "stream",
     "text": [
      "INFO:tensorflow:Assets written to: cats_dog/assets\n"
     ]
    },
    {
     "name": "stderr",
     "output_type": "stream",
     "text": [
      "INFO:tensorflow:Assets written to: cats_dog/assets\n"
     ]
    },
    {
     "name": "stdout",
     "output_type": "stream",
     "text": [
      "100/100 [==============================] - 28s 285ms/step - loss: 0.4560 - acc: 0.7847 - val_loss: 0.4431 - val_acc: 0.7830\n",
      "Epoch 26/100\n",
      "100/100 [==============================] - 25s 254ms/step - loss: 0.4474 - acc: 0.7885 - val_loss: 0.4587 - val_acc: 0.7800\n",
      "Epoch 27/100\n",
      "100/100 [==============================] - 25s 254ms/step - loss: 0.4425 - acc: 0.7850 - val_loss: 0.4431 - val_acc: 0.7930\n",
      "Epoch 28/100\n",
      "100/100 [==============================] - 25s 255ms/step - loss: 0.4489 - acc: 0.7812 - val_loss: 0.4617 - val_acc: 0.7760\n",
      "Epoch 29/100\n",
      "100/100 [==============================] - 26s 257ms/step - loss: 0.4435 - acc: 0.7830 - val_loss: 0.4601 - val_acc: 0.7860\n",
      "Epoch 30/100\n",
      "100/100 [==============================] - ETA: 0s - loss: 0.4253 - acc: 0.7987"
     ]
    },
    {
     "name": "stderr",
     "output_type": "stream",
     "text": [
      "WARNING:absl:Found untraced functions such as _jit_compiled_convolution_op, _jit_compiled_convolution_op, _jit_compiled_convolution_op, _jit_compiled_convolution_op while saving (showing 4 of 4). These functions will not be directly callable after loading.\n"
     ]
    },
    {
     "name": "stdout",
     "output_type": "stream",
     "text": [
      "INFO:tensorflow:Assets written to: cats_dog/assets\n"
     ]
    },
    {
     "name": "stderr",
     "output_type": "stream",
     "text": [
      "INFO:tensorflow:Assets written to: cats_dog/assets\n"
     ]
    },
    {
     "name": "stdout",
     "output_type": "stream",
     "text": [
      "100/100 [==============================] - 28s 280ms/step - loss: 0.4253 - acc: 0.7987 - val_loss: 0.4415 - val_acc: 0.7860\n",
      "Epoch 31/100\n",
      "100/100 [==============================] - 26s 256ms/step - loss: 0.4305 - acc: 0.7960 - val_loss: 0.4527 - val_acc: 0.7860\n",
      "Epoch 32/100\n",
      "100/100 [==============================] - ETA: 0s - loss: 0.4092 - acc: 0.8135"
     ]
    },
    {
     "name": "stderr",
     "output_type": "stream",
     "text": [
      "WARNING:absl:Found untraced functions such as _jit_compiled_convolution_op, _jit_compiled_convolution_op, _jit_compiled_convolution_op, _jit_compiled_convolution_op while saving (showing 4 of 4). These functions will not be directly callable after loading.\n"
     ]
    },
    {
     "name": "stdout",
     "output_type": "stream",
     "text": [
      "INFO:tensorflow:Assets written to: cats_dog/assets\n"
     ]
    },
    {
     "name": "stderr",
     "output_type": "stream",
     "text": [
      "INFO:tensorflow:Assets written to: cats_dog/assets\n"
     ]
    },
    {
     "name": "stdout",
     "output_type": "stream",
     "text": [
      "100/100 [==============================] - 28s 281ms/step - loss: 0.4092 - acc: 0.8135 - val_loss: 0.4361 - val_acc: 0.7900\n",
      "Epoch 33/100\n",
      "100/100 [==============================] - 25s 251ms/step - loss: 0.4206 - acc: 0.8080 - val_loss: 0.4702 - val_acc: 0.7730\n",
      "Epoch 34/100\n",
      "100/100 [==============================] - 25s 253ms/step - loss: 0.4116 - acc: 0.8080 - val_loss: 0.4449 - val_acc: 0.7890\n",
      "Epoch 35/100\n",
      "100/100 [==============================] - ETA: 0s - loss: 0.4154 - acc: 0.8065"
     ]
    },
    {
     "name": "stderr",
     "output_type": "stream",
     "text": [
      "WARNING:absl:Found untraced functions such as _jit_compiled_convolution_op, _jit_compiled_convolution_op, _jit_compiled_convolution_op, _jit_compiled_convolution_op while saving (showing 4 of 4). These functions will not be directly callable after loading.\n"
     ]
    },
    {
     "name": "stdout",
     "output_type": "stream",
     "text": [
      "INFO:tensorflow:Assets written to: cats_dog/assets\n"
     ]
    },
    {
     "name": "stderr",
     "output_type": "stream",
     "text": [
      "INFO:tensorflow:Assets written to: cats_dog/assets\n"
     ]
    },
    {
     "name": "stdout",
     "output_type": "stream",
     "text": [
      "100/100 [==============================] - 27s 275ms/step - loss: 0.4154 - acc: 0.8065 - val_loss: 0.4324 - val_acc: 0.7930\n",
      "Epoch 36/100\n",
      "100/100 [==============================] - 25s 254ms/step - loss: 0.4205 - acc: 0.8083 - val_loss: 0.4483 - val_acc: 0.7860\n",
      "Epoch 37/100\n",
      "100/100 [==============================] - 26s 257ms/step - loss: 0.3990 - acc: 0.8195 - val_loss: 0.4440 - val_acc: 0.7940\n",
      "Epoch 38/100\n",
      "100/100 [==============================] - 25s 252ms/step - loss: 0.4054 - acc: 0.8142 - val_loss: 0.4870 - val_acc: 0.7750\n",
      "Epoch 39/100\n",
      "100/100 [==============================] - 26s 256ms/step - loss: 0.4068 - acc: 0.8165 - val_loss: 0.4455 - val_acc: 0.7870\n",
      "Epoch 40/100\n",
      "100/100 [==============================] - 24s 239ms/step - loss: 0.4019 - acc: 0.8160 - val_loss: 0.4650 - val_acc: 0.7770\n",
      "Epoch 41/100\n",
      "100/100 [==============================] - 23s 235ms/step - loss: 0.3988 - acc: 0.8155 - val_loss: 0.4533 - val_acc: 0.7840\n",
      "Epoch 42/100\n",
      "100/100 [==============================] - 24s 242ms/step - loss: 0.3854 - acc: 0.8275 - val_loss: 0.4425 - val_acc: 0.7970\n",
      "Epoch 43/100\n",
      "100/100 [==============================] - 25s 250ms/step - loss: 0.3812 - acc: 0.8305 - val_loss: 0.4474 - val_acc: 0.7950\n",
      "Epoch 44/100\n",
      "100/100 [==============================] - 24s 242ms/step - loss: 0.3768 - acc: 0.8232 - val_loss: 0.4640 - val_acc: 0.7830\n",
      "Epoch 45/100\n",
      "100/100 [==============================] - ETA: 0s - loss: 0.3796 - acc: 0.8267"
     ]
    },
    {
     "name": "stderr",
     "output_type": "stream",
     "text": [
      "WARNING:absl:Found untraced functions such as _jit_compiled_convolution_op, _jit_compiled_convolution_op, _jit_compiled_convolution_op, _jit_compiled_convolution_op while saving (showing 4 of 4). These functions will not be directly callable after loading.\n"
     ]
    },
    {
     "name": "stdout",
     "output_type": "stream",
     "text": [
      "INFO:tensorflow:Assets written to: cats_dog/assets\n"
     ]
    },
    {
     "name": "stderr",
     "output_type": "stream",
     "text": [
      "INFO:tensorflow:Assets written to: cats_dog/assets\n"
     ]
    },
    {
     "name": "stdout",
     "output_type": "stream",
     "text": [
      "100/100 [==============================] - 26s 257ms/step - loss: 0.3796 - acc: 0.8267 - val_loss: 0.4322 - val_acc: 0.8050\n",
      "Epoch 46/100\n",
      "100/100 [==============================] - 24s 238ms/step - loss: 0.3827 - acc: 0.8230 - val_loss: 0.4443 - val_acc: 0.7930\n",
      "Epoch 47/100\n",
      "100/100 [==============================] - 24s 241ms/step - loss: 0.3692 - acc: 0.8342 - val_loss: 0.4531 - val_acc: 0.7960\n",
      "Epoch 48/100\n",
      "100/100 [==============================] - 24s 241ms/step - loss: 0.3759 - acc: 0.8325 - val_loss: 0.4376 - val_acc: 0.7980\n",
      "Epoch 49/100\n",
      "100/100 [==============================] - ETA: 0s - loss: 0.3489 - acc: 0.8472"
     ]
    },
    {
     "name": "stderr",
     "output_type": "stream",
     "text": [
      "WARNING:absl:Found untraced functions such as _jit_compiled_convolution_op, _jit_compiled_convolution_op, _jit_compiled_convolution_op, _jit_compiled_convolution_op while saving (showing 4 of 4). These functions will not be directly callable after loading.\n"
     ]
    },
    {
     "name": "stdout",
     "output_type": "stream",
     "text": [
      "INFO:tensorflow:Assets written to: cats_dog/assets\n"
     ]
    },
    {
     "name": "stderr",
     "output_type": "stream",
     "text": [
      "INFO:tensorflow:Assets written to: cats_dog/assets\n"
     ]
    },
    {
     "name": "stdout",
     "output_type": "stream",
     "text": [
      "100/100 [==============================] - 26s 256ms/step - loss: 0.3489 - acc: 0.8472 - val_loss: 0.4231 - val_acc: 0.8120\n",
      "Epoch 50/100\n",
      "100/100 [==============================] - 24s 240ms/step - loss: 0.3599 - acc: 0.8420 - val_loss: 0.4448 - val_acc: 0.7960\n",
      "Epoch 51/100\n",
      "100/100 [==============================] - 24s 239ms/step - loss: 0.3587 - acc: 0.8428 - val_loss: 0.4574 - val_acc: 0.7960\n",
      "Epoch 52/100\n",
      "100/100 [==============================] - 25s 247ms/step - loss: 0.3612 - acc: 0.8355 - val_loss: 0.4485 - val_acc: 0.7940\n",
      "Epoch 53/100\n",
      "100/100 [==============================] - 24s 236ms/step - loss: 0.3385 - acc: 0.8565 - val_loss: 0.4621 - val_acc: 0.8030\n",
      "Epoch 54/100\n",
      "100/100 [==============================] - 25s 250ms/step - loss: 0.3410 - acc: 0.8487 - val_loss: 0.4748 - val_acc: 0.7920\n",
      "Epoch 55/100\n",
      "100/100 [==============================] - 26s 260ms/step - loss: 0.3412 - acc: 0.8512 - val_loss: 0.4332 - val_acc: 0.8130\n",
      "Epoch 56/100\n",
      "100/100 [==============================] - 24s 241ms/step - loss: 0.3281 - acc: 0.8593 - val_loss: 0.4296 - val_acc: 0.8100\n",
      "Epoch 57/100\n",
      "100/100 [==============================] - 24s 239ms/step - loss: 0.3448 - acc: 0.8475 - val_loss: 0.4454 - val_acc: 0.7990\n",
      "Epoch 58/100\n",
      "100/100 [==============================] - 23s 232ms/step - loss: 0.3333 - acc: 0.8482 - val_loss: 0.4483 - val_acc: 0.7980\n",
      "Epoch 59/100\n",
      "100/100 [==============================] - 24s 238ms/step - loss: 0.3373 - acc: 0.8508 - val_loss: 0.4709 - val_acc: 0.7750\n"
     ]
    }
   ],
   "source": [
    "history = model.fit(train_dataset,steps_per_epoch=100,epochs=100,validation_data=valid_dataset,validation_steps=50,callbacks=[early_stopping_cb,checkpoint_cb,tensorboard_cb])"
   ]
  },
  {
   "cell_type": "code",
   "execution_count": 32,
   "metadata": {},
   "outputs": [
    {
     "data": {
      "text/plain": [
       "dict_keys(['loss', 'acc', 'val_loss', 'val_acc'])"
      ]
     },
     "execution_count": 32,
     "metadata": {},
     "output_type": "execute_result"
    }
   ],
   "source": [
    "history.history.keys()"
   ]
  },
  {
   "cell_type": "code",
   "execution_count": 33,
   "metadata": {},
   "outputs": [],
   "source": [
    "import pandas as pd\n",
    "import matplotlib.pyplot as plt"
   ]
  },
  {
   "cell_type": "code",
   "execution_count": 34,
   "metadata": {},
   "outputs": [
    {
     "data": {
      "image/png": "[encoded data removed]",
      "text/plain": [
       "<Figure size 800x500 with 1 Axes>"
      ]
     },
     "metadata": {},
     "output_type": "display_data"
    }
   ],
   "source": [
    "pd.DataFrame(history.history).plot(figsize=(8, 5))\n",
    "plt.grid(True)\n",
    "plt.gca().set_ylim(0, 1) # set the vertical range to [0-1]\n",
    "plt.show()"
   ]
  },
  {
   "cell_type": "code",
   "execution_count": 35,
   "metadata": {},
   "outputs": [],
   "source": [
    "# model.save(\"cats_and_dogs\")"
   ]
  },
  {
   "cell_type": "code",
   "execution_count": 1,
   "metadata": {},
   "outputs": [
    {
     "name": "stdout",
     "output_type": "stream",
     "text": [
      "/bin/bash: /home/kailash/anaconda3/envs/tensorflow1/lib/libtinfo.so.6: no version information available (required by /bin/bash)\n",
      "2022-09-20 18:51:49.912879: I tensorflow/core/platform/cpu_feature_guard.cc:193] This TensorFlow binary is optimized with oneAPI Deep Neural Network Library (oneDNN) to use the following CPU instructions in performance-critical operations:  AVX2 FMA\n",
      "To enable them in other operations, rebuild TensorFlow with the appropriate compiler flags.\n",
      "2022-09-20 18:51:50.242757: E tensorflow/stream_executor/cuda/cuda_blas.cc:2981] Unable to register cuBLAS factory: Attempting to register factory for plugin cuBLAS when one has already been registered\n",
      "2022-09-20 18:51:51.026071: W tensorflow/stream_executor/platform/default/dso_loader.cc:64] Could not load dynamic library 'libnvinfer.so.7'; dlerror: libnvinfer.so.7: cannot open shared object file: No such file or directory; LD_LIBRARY_PATH: /usr/lib/cuda/include:/usr/lib/cuda/lib64:/usr/lib/cuda/include:/usr/lib/cuda/lib64::/home/kailash/anaconda3/envs/tensorflow1/lib/\n",
      "2022-09-20 18:51:51.026182: W tensorflow/stream_executor/platform/default/dso_loader.cc:64] Could not load dynamic library 'libnvinfer_plugin.so.7'; dlerror: libnvinfer_plugin.so.7: cannot open shared object file: No such file or directory; LD_LIBRARY_PATH: /usr/lib/cuda/include:/usr/lib/cuda/lib64:/usr/lib/cuda/include:/usr/lib/cuda/lib64::/home/kailash/anaconda3/envs/tensorflow1/lib/\n",
      "2022-09-20 18:51:51.026195: W tensorflow/compiler/tf2tensorrt/utils/py_utils.cc:38] TF-TRT Warning: Cannot dlopen some TensorRT libraries. If you would like to use Nvidia GPU with TensorRT, please make sure the missing libraries mentioned above are installed properly.\n",
      "2022-09-20 18:51:52.201671: I tensorflow/stream_executor/cuda/cuda_gpu_executor.cc:980] successful NUMA node read from SysFS had negative value (-1), but there must be at least one NUMA node, so returning NUMA node zero\n",
      "2022-09-20 18:51:52.233560: I tensorflow/stream_executor/cuda/cuda_gpu_executor.cc:980] successful NUMA node read from SysFS had negative value (-1), but there must be at least one NUMA node, so returning NUMA node zero\n",
      "2022-09-20 18:51:52.233823: I tensorflow/stream_executor/cuda/cuda_gpu_executor.cc:980] successful NUMA node read from SysFS had negative value (-1), but there must be at least one NUMA node, so returning NUMA node zero\n",
      "\n",
      "NOTE: Using experimental fast data loading logic. To disable, pass\n",
      "    \"--load_fast=false\" and report issues on GitHub. More details:\n",
      "    https://github.com/tensorflow/tensorboard/issues/4784\n",
      "\n",
      "TensorBoard 2.10.0 at http://kailash-ASUS-TUF-Gaming-A17-FA706IC-FA766IC:6006/ (Press CTRL+C to quit)\n",
      "W0920 18:52:08.715831 140175166395968 security_validator.py:46] In 3.0, this warning will become an error:\n",
      "Illegal Content-Security-Policy for script-src: 'unsafe-inline'\n",
      "W0920 18:52:09.625992 140175158003264 security_validator.py:46] In 3.0, this warning will become an error:\n",
      "Illegal Content-Security-Policy for script-src: 'unsafe-inline'\n",
      "W0920 18:52:19.827951 140175158003264 application.py:558] path /data/plugin/profile not found, sending 404\n",
      "W0920 18:52:19.863138 140175158003264 application.py:558] path /data/plugin/profile/overview_page@;run=run_2022_09_20-15_20_37/2022_09_20_15_20_53 not found, sending 404\n",
      "W0920 18:52:22.388373 140175158003264 application.py:558] path /data/plugin/profile/overview_page@;run=run_2022_09_20-14_33_06/2022_09_20_14_33_11 not found, sending 404\n",
      "W0920 18:52:44.581836 140175158003264 application.py:558] path /data/plugin/profile/overview_page@;run=run_2022_09_20-14_27_28/2022_09_20_14_27_37 not found, sending 404\n",
      "W0920 18:52:46.397073 140175158003264 application.py:558] path /data/plugin/profile/overview_page@;run=run_2022_09_20-12_03_01/2022_09_20_12_03_10 not found, sending 404\n",
      "W0920 18:53:08.358067 140175158003264 application.py:558] path /data/plugin/profile/overview_page@;run=run_2022_09_20-11_44_41/2022_09_20_11_44_45 not found, sending 404\n",
      "W0920 18:53:14.780752 140175158003264 application.py:558] path /data/plugin/profile/overview_page@;run=run_2022_09_20-11_19_41/2022_09_20_11_31_53 not found, sending 404\n",
      "W0920 18:56:15.498259 140175158003264 application.py:558] path /data/plugin/profile/overview_page@;run=run_2022_09_20-11_19_41/2022_09_20_11_20_38 not found, sending 404\n"
     ]
    }
   ],
   "source": [
    "!tensorboard --bind_all --logdir=./my_logs --port=6006"
   ]
  }
 ],
 "metadata": {
  "kernelspec": {
   "display_name": "Python 3.10.4 ('tensorflow1')",
   "language": "python",
   "name": "python3"
  },
  "language_info": {
   "codemirror_mode": {
    "name": "ipython",
    "version": 3
   },
   "file_extension": ".py",
   "mimetype": "text/x-python",
   "name": "python",
   "nbconvert_exporter": "python",
   "pygments_lexer": "ipython3",
   "version": "3.10.4"
  },
  "orig_nbformat": 4,
  "vscode": {
   "interpreter": {
    "hash": "32df1eb32394b513ab03ec1ca1fed6ddb93f4a47a0f6d691f350cc1ad9704886"
   }
  }
 },
 "nbformat": 4,
 "nbformat_minor": 2
}
