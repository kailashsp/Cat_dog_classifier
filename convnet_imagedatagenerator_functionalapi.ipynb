{
 "cells": [
  {
   "cell_type": "code",
   "execution_count": null,
   "metadata": {},
   "outputs": [],
   "source": []
  },
  {
   "cell_type": "code",
   "execution_count": 1,
   "metadata": {},
   "outputs": [],
   "source": [
    "import os, shutil\n",
    "import warnings\n",
    "warnings.filterwarnings('ignore')\n"
   ]
  },
  {
   "cell_type": "code",
   "execution_count": 2,
   "metadata": {},
   "outputs": [],
   "source": [
    "# %pip install -q -U keras-tuner\n"
   ]
  },
  {
   "cell_type": "code",
   "execution_count": 3,
   "metadata": {},
   "outputs": [],
   "source": [
    "# os.getcwd()"
   ]
  },
  {
   "cell_type": "code",
   "execution_count": 4,
   "metadata": {},
   "outputs": [],
   "source": [
    "\n",
    "\n",
    "# original_dataset_dir = '/home/kailash/VScode Python projects/tf/conv/kaggle_dataset/train'\n"
   ]
  },
  {
   "cell_type": "code",
   "execution_count": 5,
   "metadata": {},
   "outputs": [],
   "source": [
    "\n",
    "# base_dir = '/home/kailash/VScode Python projects/tf/conv/small_dataset/'\n",
    "\n",
    "# os.mkdir(base_dir)\n",
    "\n"
   ]
  },
  {
   "cell_type": "markdown",
   "metadata": {},
   "source": [
    "### Folders for train,test,validation data ###"
   ]
  },
  {
   "cell_type": "code",
   "execution_count": 6,
   "metadata": {},
   "outputs": [],
   "source": [
    "# train_dir = os.path.join(base_dir,'train')\n",
    "# os.mkdir(train_dir)\n",
    "# validation_dir = os.path.join(base_dir, 'validation')\n",
    "# os.mkdir(validation_dir)\n",
    "# test_dir = os.path.join(base_dir, 'test')\n",
    "# os.mkdir(test_dir)\n"
   ]
  },
  {
   "cell_type": "code",
   "execution_count": 7,
   "metadata": {},
   "outputs": [],
   "source": [
    "# os.path(test_dir)"
   ]
  },
  {
   "cell_type": "markdown",
   "metadata": {},
   "source": [
    "### Directory for cat and dog images for train test validation data ###"
   ]
  },
  {
   "cell_type": "code",
   "execution_count": 8,
   "metadata": {},
   "outputs": [],
   "source": [
    "# train_cats_dir = os.path.join(train_dir, 'cats')\n",
    "# os.mkdir(train_cats_dir)\n",
    "# train_dogs_dir = os.path.join(train_dir, 'dogs')\n",
    "# os.mkdir(train_dogs_dir)\n",
    "# validation_cats_dir = os.path.join(validation_dir, 'cats')\n",
    "# os.mkdir(validation_cats_dir)\n",
    "# validation_dogs_dir = os.path.join(validation_dir, 'dogs')\n",
    "# os.mkdir(validation_dogs_dir)\n",
    "# test_cats_dir = os.path.join(test_dir, 'cats')\n",
    "# os.mkdir(test_cats_dir)\n",
    "# test_dogs_dir = os.path.join(test_dir, 'dogs')\n",
    "# os.mkdir(test_dogs_dir)"
   ]
  },
  {
   "cell_type": "markdown",
   "metadata": {},
   "source": [
    "#### Copy from kaggle train dataset to their respective directories ####"
   ]
  },
  {
   "cell_type": "code",
   "execution_count": 9,
   "metadata": {},
   "outputs": [],
   "source": [
    "# fnames = ['cat.{}.jpg'.format(i) for i in range(1000)]\n",
    "# for fname in fnames:\n",
    "#     src = os.path.join(original_dataset_dir, fname)\n",
    "#     dst = os.path.join(train_cats_dir, fname)\n",
    "#     shutil.copyfile(src, dst)"
   ]
  },
  {
   "cell_type": "code",
   "execution_count": 10,
   "metadata": {},
   "outputs": [],
   "source": [
    "# fnames = ['cat.{}.jpg'.format(i) for i in range(1000, 1500)]\n",
    "# for fname in fnames:\n",
    "#     src = os.path.join(original_dataset_dir, fname)\n",
    "#     dst = os.path.join(validation_cats_dir, fname)\n",
    "#     shutil.copyfile(src, dst)"
   ]
  },
  {
   "cell_type": "code",
   "execution_count": 11,
   "metadata": {},
   "outputs": [],
   "source": [
    "# fnames = ['cat.{}.jpg'.format(i) for i in range(1500, 2000)]\n",
    "# for fname in fnames:\n",
    "#     src = os.path.join(original_dataset_dir, fname)\n",
    "#     dst = os.path.join(test_cats_dir, fname)\n",
    "#     shutil.copyfile(src, dst)"
   ]
  },
  {
   "cell_type": "code",
   "execution_count": 12,
   "metadata": {},
   "outputs": [],
   "source": [
    "# fnames = ['dog.{}.jpg'.format(i) for i in range(1000)]\n",
    "# for fname in fnames:\n",
    "#     src = os.path.join(original_dataset_dir, fname)\n",
    "#     dst = os.path.join(train_dogs_dir, fname)\n",
    "#     shutil.copyfile(src, dst)"
   ]
  },
  {
   "cell_type": "code",
   "execution_count": 13,
   "metadata": {},
   "outputs": [],
   "source": [
    "# fnames = ['dog.{}.jpg'.format(i) for i in range(1000, 1500)]\n",
    "# for fname in fnames:\n",
    "#     src = os.path.join(original_dataset_dir, fname)\n",
    "#     dst = os.path.join(validation_dogs_dir, fname)\n",
    "#     shutil.copyfile(src, dst)"
   ]
  },
  {
   "cell_type": "code",
   "execution_count": 14,
   "metadata": {},
   "outputs": [],
   "source": [
    "# fnames = ['dog.{}.jpg'.format(i) for i in range(1500, 2000)]\n",
    "# for fname in fnames:\n",
    "#     src = os.path.join(original_dataset_dir, fname)\n",
    "#     dst = os.path.join(test_dogs_dir, fname)\n",
    "#     shutil.copyfile(src, dst)"
   ]
  },
  {
   "cell_type": "code",
   "execution_count": 15,
   "metadata": {},
   "outputs": [
    {
     "name": "stderr",
     "output_type": "stream",
     "text": [
      "2022-09-20 13:06:41.726273: I tensorflow/core/platform/cpu_feature_guard.cc:193] This TensorFlow binary is optimized with oneAPI Deep Neural Network Library (oneDNN) to use the following CPU instructions in performance-critical operations:  AVX2 FMA\n",
      "To enable them in other operations, rebuild TensorFlow with the appropriate compiler flags.\n",
      "2022-09-20 13:06:42.069944: E tensorflow/stream_executor/cuda/cuda_blas.cc:2981] Unable to register cuBLAS factory: Attempting to register factory for plugin cuBLAS when one has already been registered\n",
      "2022-09-20 13:06:43.100789: W tensorflow/stream_executor/platform/default/dso_loader.cc:64] Could not load dynamic library 'libnvinfer.so.7'; dlerror: libnvinfer.so.7: cannot open shared object file: No such file or directory; LD_LIBRARY_PATH: /usr/lib/cuda/include:/usr/lib/cuda/lib64:/usr/lib/cuda/include:/usr/lib/cuda/lib64::/home/kailash/anaconda3/envs/tensorflow1/lib/\n",
      "2022-09-20 13:06:43.100868: W tensorflow/stream_executor/platform/default/dso_loader.cc:64] Could not load dynamic library 'libnvinfer_plugin.so.7'; dlerror: libnvinfer_plugin.so.7: cannot open shared object file: No such file or directory; LD_LIBRARY_PATH: /usr/lib/cuda/include:/usr/lib/cuda/lib64:/usr/lib/cuda/include:/usr/lib/cuda/lib64::/home/kailash/anaconda3/envs/tensorflow1/lib/\n",
      "2022-09-20 13:06:43.100875: W tensorflow/compiler/tf2tensorrt/utils/py_utils.cc:38] TF-TRT Warning: Cannot dlopen some TensorRT libraries. If you would like to use Nvidia GPU with TensorRT, please make sure the missing libraries mentioned above are installed properly.\n"
     ]
    }
   ],
   "source": [
    "import tensorflow as tf"
   ]
  },
  {
   "cell_type": "code",
   "execution_count": 16,
   "metadata": {},
   "outputs": [
    {
     "name": "stdout",
     "output_type": "stream",
     "text": [
      "Num GPUs Available:  1\n"
     ]
    },
    {
     "name": "stderr",
     "output_type": "stream",
     "text": [
      "2022-09-20 13:06:44.800087: I tensorflow/stream_executor/cuda/cuda_gpu_executor.cc:980] successful NUMA node read from SysFS had negative value (-1), but there must be at least one NUMA node, so returning NUMA node zero\n",
      "2022-09-20 13:06:44.829450: I tensorflow/stream_executor/cuda/cuda_gpu_executor.cc:980] successful NUMA node read from SysFS had negative value (-1), but there must be at least one NUMA node, so returning NUMA node zero\n",
      "2022-09-20 13:06:44.829640: I tensorflow/stream_executor/cuda/cuda_gpu_executor.cc:980] successful NUMA node read from SysFS had negative value (-1), but there must be at least one NUMA node, so returning NUMA node zero\n"
     ]
    }
   ],
   "source": [
    "print(\"Num GPUs Available: \", len(tf.config.list_physical_devices('GPU')))"
   ]
  },
  {
   "cell_type": "code",
   "execution_count": 1,
   "metadata": {},
   "outputs": [],
   "source": [
    "import tensorflow as tf\n",
    "from tensorflow import keras\n",
    "from tensorflow.keras import layers"
   ]
  },
  {
   "cell_type": "code",
   "execution_count": 18,
   "metadata": {},
   "outputs": [
    {
     "name": "stderr",
     "output_type": "stream",
     "text": [
      "2022-09-20 13:06:44.975249: I tensorflow/core/platform/cpu_feature_guard.cc:193] This TensorFlow binary is optimized with oneAPI Deep Neural Network Library (oneDNN) to use the following CPU instructions in performance-critical operations:  AVX2 FMA\n",
      "To enable them in other operations, rebuild TensorFlow with the appropriate compiler flags.\n",
      "2022-09-20 13:06:44.976255: I tensorflow/stream_executor/cuda/cuda_gpu_executor.cc:980] successful NUMA node read from SysFS had negative value (-1), but there must be at least one NUMA node, so returning NUMA node zero\n",
      "2022-09-20 13:06:44.976571: I tensorflow/stream_executor/cuda/cuda_gpu_executor.cc:980] successful NUMA node read from SysFS had negative value (-1), but there must be at least one NUMA node, so returning NUMA node zero\n",
      "2022-09-20 13:06:44.976720: I tensorflow/stream_executor/cuda/cuda_gpu_executor.cc:980] successful NUMA node read from SysFS had negative value (-1), but there must be at least one NUMA node, so returning NUMA node zero\n",
      "2022-09-20 13:06:45.681436: I tensorflow/stream_executor/cuda/cuda_gpu_executor.cc:980] successful NUMA node read from SysFS had negative value (-1), but there must be at least one NUMA node, so returning NUMA node zero\n",
      "2022-09-20 13:06:45.682444: I tensorflow/stream_executor/cuda/cuda_gpu_executor.cc:980] successful NUMA node read from SysFS had negative value (-1), but there must be at least one NUMA node, so returning NUMA node zero\n",
      "2022-09-20 13:06:45.682637: I tensorflow/stream_executor/cuda/cuda_gpu_executor.cc:980] successful NUMA node read from SysFS had negative value (-1), but there must be at least one NUMA node, so returning NUMA node zero\n",
      "2022-09-20 13:06:45.682749: I tensorflow/core/common_runtime/gpu/gpu_device.cc:1616] Created device /job:localhost/replica:0/task:0/device:GPU:0 with 1732 MB memory:  -> device: 0, name: NVIDIA GeForce RTX 3050 Laptop GPU, pci bus id: 0000:01:00.0, compute capability: 8.6\n"
     ]
    }
   ],
   "source": [
    "model = tf.keras.models.Sequential()\n",
    "model.add(tf.keras.layers.Conv2D(32,(3,3),padding = \"same\",activation=\"relu\",input_shape=(150,150,3)))\n",
    "model.add(tf.keras.layers.MaxPooling2D((2,2)))\n",
    "model.add(tf.keras.layers.Conv2D(64, (3, 3),padding = \"same\", activation='relu'))\n",
    "model.add(tf.keras.layers.MaxPooling2D((2, 2)))\n",
    "model.add(tf.keras.layers.Conv2D(128, (3, 3), padding = \"same\",activation='relu'))\n",
    "model.add(tf.keras.layers.MaxPooling2D((2, 2)))\n",
    "model.add(tf.keras.layers.Conv2D(128, (3, 3), padding = \"same\",activation='relu'))\n",
    "model.add(tf.keras.layers.MaxPooling2D((2, 2)))\n",
    "model.add(tf.keras.layers.Flatten())\n",
    "model.add(tf.keras.layers.Dropout(0.5))\n",
    "model.add(tf.keras.layers.Dense(512, activation='relu'))\n",
    "model.add(tf.keras.layers.Dense(1, activation='sigmoid'))\n"
   ]
  },
  {
   "cell_type": "code",
   "execution_count": 19,
   "metadata": {},
   "outputs": [
    {
     "name": "stdout",
     "output_type": "stream",
     "text": [
      "Model: \"sequential\"\n",
      "_________________________________________________________________\n",
      " Layer (type)                Output Shape              Param #   \n",
      "=================================================================\n",
      " conv2d (Conv2D)             (None, 150, 150, 32)      896       \n",
      "                                                                 \n",
      " max_pooling2d (MaxPooling2D  (None, 75, 75, 32)       0         \n",
      " )                                                               \n",
      "                                                                 \n",
      " conv2d_1 (Conv2D)           (None, 75, 75, 64)        18496     \n",
      "                                                                 \n",
      " max_pooling2d_1 (MaxPooling  (None, 37, 37, 64)       0         \n",
      " 2D)                                                             \n",
      "                                                                 \n",
      " conv2d_2 (Conv2D)           (None, 37, 37, 128)       73856     \n",
      "                                                                 \n",
      " max_pooling2d_2 (MaxPooling  (None, 18, 18, 128)      0         \n",
      " 2D)                                                             \n",
      "                                                                 \n",
      " conv2d_3 (Conv2D)           (None, 18, 18, 128)       147584    \n",
      "                                                                 \n",
      " max_pooling2d_3 (MaxPooling  (None, 9, 9, 128)        0         \n",
      " 2D)                                                             \n",
      "                                                                 \n",
      " flatten (Flatten)           (None, 10368)             0         \n",
      "                                                                 \n",
      " dropout (Dropout)           (None, 10368)             0         \n",
      "                                                                 \n",
      " dense (Dense)               (None, 512)               5308928   \n",
      "                                                                 \n",
      " dense_1 (Dense)             (None, 1)                 513       \n",
      "                                                                 \n",
      "=================================================================\n",
      "Total params: 5,550,273\n",
      "Trainable params: 5,550,273\n",
      "Non-trainable params: 0\n",
      "_________________________________________________________________\n"
     ]
    }
   ],
   "source": [
    "model.summary()"
   ]
  },
  {
   "cell_type": "code",
   "execution_count": 20,
   "metadata": {},
   "outputs": [],
   "source": [
    "\n",
    "model.compile(loss='binary_crossentropy',optimizer=tf.keras.optimizers.Adam(learning_rate=1e-4,decay=1e-6),metrics=['acc'])"
   ]
  },
  {
   "cell_type": "code",
   "execution_count": 21,
   "metadata": {},
   "outputs": [
    {
     "name": "stdout",
     "output_type": "stream",
     "text": [
      "Found 2000 images belonging to 2 classes.\n",
      "Found 1000 images belonging to 2 classes.\n"
     ]
    }
   ],
   "source": [
    "train_datagen = keras.preprocessing.image.ImageDataGenerator(rescale = 1./255,rotation_range=40,\n",
    "width_shift_range=0.2,\n",
    "height_shift_range=0.2,\n",
    "shear_range=0.2,\n",
    "zoom_range=0.2,\n",
    "horizontal_flip=True,)\n",
    "\n",
    "\n",
    "test_datagen = keras.preprocessing.image.ImageDataGenerator(rescale =1./255)\n",
    "\n",
    "train_generator = train_datagen.flow_from_directory('/home/kailash/VScode Python projects/tf/conv/small_dataset/train',target_size = (150,150),batch_size =20,class_mode ='binary')\n",
    "valid_generator = test_datagen.flow_from_directory('/home/kailash/VScode Python projects/tf/conv/small_dataset/validation',target_size = (150,150),batch_size =20,class_mode ='binary')\n",
    "\n"
   ]
  },
  {
   "cell_type": "code",
   "execution_count": 22,
   "metadata": {},
   "outputs": [
    {
     "name": "stdout",
     "output_type": "stream",
     "text": [
      "data batch shape: (20, 150, 150, 3)\n",
      "labels batch shape: (20,)\n"
     ]
    }
   ],
   "source": [
    "for data_batch, labels_batch in train_generator:\n",
    "    print('data batch shape:', data_batch.shape)\n",
    "\n",
    "    print('labels batch shape:', labels_batch.shape)\n",
    "    break\n",
    "\n"
   ]
  },
  {
   "cell_type": "code",
   "execution_count": 23,
   "metadata": {},
   "outputs": [],
   "source": [
    "#checkpoint_cb = keras.callbacks.ModelCheckpoint(\"cats_dog\",save_best_only=True)"
   ]
  },
  {
   "cell_type": "code",
   "execution_count": 24,
   "metadata": {},
   "outputs": [],
   "source": [
    "early_stopping_cb = keras.callbacks.EarlyStopping(patience=10,restore_best_weights=True)"
   ]
  },
  {
   "cell_type": "code",
   "execution_count": 25,
   "metadata": {},
   "outputs": [],
   "source": [
    "root_logdir = os.path.join(os.curdir, \"my_logs\")\n",
    "def get_run_logdir():\n",
    "    import time\n",
    "    run_id = time.strftime(\"run_%Y_%m_%d-%H_%M_%S\")\n",
    "    return os.path.join(root_logdir, run_id)\n",
    "\n",
    "\n",
    "run_logdir = get_run_logdir()\n"
   ]
  },
  {
   "cell_type": "code",
   "execution_count": 26,
   "metadata": {},
   "outputs": [],
   "source": [
    "tensorboard_cb = keras.callbacks.TensorBoard(run_logdir)"
   ]
  },
  {
   "cell_type": "code",
   "execution_count": 27,
   "metadata": {},
   "outputs": [
    {
     "name": "stdout",
     "output_type": "stream",
     "text": [
      "Epoch 1/100\n"
     ]
    },
    {
     "name": "stderr",
     "output_type": "stream",
     "text": [
      "2022-09-20 13:06:49.204331: I tensorflow/stream_executor/cuda/cuda_dnn.cc:384] Loaded cuDNN version 8500\n",
      "2022-09-20 13:06:50.207806: I tensorflow/core/platform/default/subprocess.cc:304] Start cannot spawn child process: No such file or directory\n",
      "2022-09-20 13:06:50.208758: I tensorflow/core/platform/default/subprocess.cc:304] Start cannot spawn child process: No such file or directory\n",
      "2022-09-20 13:06:50.208807: W tensorflow/stream_executor/gpu/asm_compiler.cc:80] Couldn't get ptxas version string: INTERNAL: Couldn't invoke ptxas --version\n",
      "2022-09-20 13:06:50.210039: I tensorflow/core/platform/default/subprocess.cc:304] Start cannot spawn child process: No such file or directory\n",
      "2022-09-20 13:06:50.210184: W tensorflow/stream_executor/gpu/redzone_allocator.cc:314] INTERNAL: Failed to launch ptxas\n",
      "Relying on driver to perform ptx compilation. \n",
      "Modify $PATH to customize ptxas location.\n",
      "This message will be only logged once.\n",
      "2022-09-20 13:06:50.471004: I tensorflow/stream_executor/cuda/cuda_blas.cc:1614] TensorFloat-32 will be used for the matrix multiplication. This will only be logged once.\n"
     ]
    },
    {
     "name": "stdout",
     "output_type": "stream",
     "text": [
      "100/100 [==============================] - 16s 119ms/step - loss: 0.6949 - acc: 0.5020 - val_loss: 0.6915 - val_acc: 0.5000\n",
      "Epoch 2/100\n",
      "100/100 [==============================] - 11s 108ms/step - loss: 0.6794 - acc: 0.5600 - val_loss: 0.6548 - val_acc: 0.6270\n",
      "Epoch 3/100\n",
      "100/100 [==============================] - 11s 107ms/step - loss: 0.6479 - acc: 0.6100 - val_loss: 0.6861 - val_acc: 0.6110\n",
      "Epoch 4/100\n",
      "100/100 [==============================] - 10s 99ms/step - loss: 0.6292 - acc: 0.6505 - val_loss: 0.6510 - val_acc: 0.6360\n",
      "Epoch 5/100\n",
      "100/100 [==============================] - 10s 103ms/step - loss: 0.6092 - acc: 0.6655 - val_loss: 0.6347 - val_acc: 0.6350\n",
      "Epoch 6/100\n",
      "100/100 [==============================] - 11s 109ms/step - loss: 0.5986 - acc: 0.6885 - val_loss: 0.5720 - val_acc: 0.6990\n",
      "Epoch 7/100\n",
      "100/100 [==============================] - 10s 101ms/step - loss: 0.5892 - acc: 0.6810 - val_loss: 0.6252 - val_acc: 0.6650\n",
      "Epoch 8/100\n",
      "100/100 [==============================] - 11s 109ms/step - loss: 0.5811 - acc: 0.7025 - val_loss: 0.5473 - val_acc: 0.7060\n",
      "Epoch 9/100\n",
      "100/100 [==============================] - 10s 99ms/step - loss: 0.5619 - acc: 0.7075 - val_loss: 0.5872 - val_acc: 0.6910\n",
      "Epoch 10/100\n",
      "100/100 [==============================] - 11s 107ms/step - loss: 0.5607 - acc: 0.7095 - val_loss: 0.5452 - val_acc: 0.7080\n",
      "Epoch 11/100\n",
      "100/100 [==============================] - 11s 107ms/step - loss: 0.5612 - acc: 0.7045 - val_loss: 0.5361 - val_acc: 0.7200\n",
      "Epoch 12/100\n",
      "100/100 [==============================] - 10s 104ms/step - loss: 0.5448 - acc: 0.7095 - val_loss: 0.5438 - val_acc: 0.7250\n",
      "Epoch 13/100\n",
      "100/100 [==============================] - 11s 111ms/step - loss: 0.5448 - acc: 0.7190 - val_loss: 0.5467 - val_acc: 0.7130\n",
      "Epoch 14/100\n",
      "100/100 [==============================] - 11s 106ms/step - loss: 0.5428 - acc: 0.7095 - val_loss: 0.5350 - val_acc: 0.7290\n",
      "Epoch 15/100\n",
      "100/100 [==============================] - 11s 108ms/step - loss: 0.5279 - acc: 0.7395 - val_loss: 0.5833 - val_acc: 0.7000\n",
      "Epoch 16/100\n",
      "100/100 [==============================] - 11s 105ms/step - loss: 0.5376 - acc: 0.7255 - val_loss: 0.5204 - val_acc: 0.7340\n",
      "Epoch 17/100\n",
      "100/100 [==============================] - 10s 103ms/step - loss: 0.5326 - acc: 0.7475 - val_loss: 0.5531 - val_acc: 0.7200\n",
      "Epoch 18/100\n",
      "100/100 [==============================] - 10s 104ms/step - loss: 0.5152 - acc: 0.7375 - val_loss: 0.5164 - val_acc: 0.7320\n",
      "Epoch 19/100\n",
      "100/100 [==============================] - 10s 101ms/step - loss: 0.5062 - acc: 0.7435 - val_loss: 0.5191 - val_acc: 0.7490\n",
      "Epoch 20/100\n",
      "100/100 [==============================] - 11s 115ms/step - loss: 0.5017 - acc: 0.7455 - val_loss: 0.4994 - val_acc: 0.7570\n",
      "Epoch 21/100\n",
      "100/100 [==============================] - 10s 102ms/step - loss: 0.5007 - acc: 0.7545 - val_loss: 0.5165 - val_acc: 0.7360\n",
      "Epoch 22/100\n",
      "100/100 [==============================] - 10s 103ms/step - loss: 0.5157 - acc: 0.7480 - val_loss: 0.4947 - val_acc: 0.7540\n",
      "Epoch 23/100\n",
      "100/100 [==============================] - 10s 101ms/step - loss: 0.5025 - acc: 0.7515 - val_loss: 0.5116 - val_acc: 0.7350\n",
      "Epoch 24/100\n",
      "100/100 [==============================] - 10s 103ms/step - loss: 0.4992 - acc: 0.7550 - val_loss: 0.5098 - val_acc: 0.7560\n",
      "Epoch 25/100\n",
      "100/100 [==============================] - 10s 102ms/step - loss: 0.4986 - acc: 0.7435 - val_loss: 0.5231 - val_acc: 0.7420\n",
      "Epoch 26/100\n",
      "100/100 [==============================] - 10s 100ms/step - loss: 0.4994 - acc: 0.7580 - val_loss: 0.4981 - val_acc: 0.7550\n",
      "Epoch 27/100\n",
      "100/100 [==============================] - 10s 101ms/step - loss: 0.4839 - acc: 0.7675 - val_loss: 0.4978 - val_acc: 0.7650\n",
      "Epoch 28/100\n",
      "100/100 [==============================] - 10s 101ms/step - loss: 0.4851 - acc: 0.7655 - val_loss: 0.4950 - val_acc: 0.7640\n",
      "Epoch 29/100\n",
      "100/100 [==============================] - 10s 103ms/step - loss: 0.4847 - acc: 0.7585 - val_loss: 0.4722 - val_acc: 0.7710\n",
      "Epoch 30/100\n",
      "100/100 [==============================] - 10s 104ms/step - loss: 0.4784 - acc: 0.7725 - val_loss: 0.4748 - val_acc: 0.7750\n",
      "Epoch 31/100\n",
      "100/100 [==============================] - 10s 100ms/step - loss: 0.4778 - acc: 0.7680 - val_loss: 0.5142 - val_acc: 0.7430\n",
      "Epoch 32/100\n",
      "100/100 [==============================] - 10s 101ms/step - loss: 0.4669 - acc: 0.7745 - val_loss: 0.4879 - val_acc: 0.7500\n",
      "Epoch 33/100\n",
      "100/100 [==============================] - 10s 101ms/step - loss: 0.4763 - acc: 0.7720 - val_loss: 0.4926 - val_acc: 0.7670\n",
      "Epoch 34/100\n",
      "100/100 [==============================] - 10s 102ms/step - loss: 0.4690 - acc: 0.7765 - val_loss: 0.4962 - val_acc: 0.7570\n",
      "Epoch 35/100\n",
      "100/100 [==============================] - 10s 103ms/step - loss: 0.4548 - acc: 0.7875 - val_loss: 0.4653 - val_acc: 0.7700\n",
      "Epoch 36/100\n",
      "100/100 [==============================] - 10s 103ms/step - loss: 0.4658 - acc: 0.7765 - val_loss: 0.4615 - val_acc: 0.7780\n",
      "Epoch 37/100\n",
      "100/100 [==============================] - 10s 102ms/step - loss: 0.4692 - acc: 0.7715 - val_loss: 0.5098 - val_acc: 0.7400\n",
      "Epoch 38/100\n",
      "100/100 [==============================] - 10s 100ms/step - loss: 0.4635 - acc: 0.7765 - val_loss: 0.4739 - val_acc: 0.7740\n",
      "Epoch 39/100\n",
      "100/100 [==============================] - 10s 102ms/step - loss: 0.4580 - acc: 0.7835 - val_loss: 0.4683 - val_acc: 0.7790\n",
      "Epoch 40/100\n",
      "100/100 [==============================] - 10s 101ms/step - loss: 0.4452 - acc: 0.7885 - val_loss: 0.4595 - val_acc: 0.7850\n",
      "Epoch 41/100\n",
      "100/100 [==============================] - 10s 101ms/step - loss: 0.4462 - acc: 0.7900 - val_loss: 0.4763 - val_acc: 0.7640\n",
      "Epoch 42/100\n",
      "100/100 [==============================] - 10s 102ms/step - loss: 0.4455 - acc: 0.7910 - val_loss: 0.4742 - val_acc: 0.7730\n",
      "Epoch 43/100\n",
      "100/100 [==============================] - 10s 101ms/step - loss: 0.4474 - acc: 0.7905 - val_loss: 0.4941 - val_acc: 0.7540\n",
      "Epoch 44/100\n",
      "100/100 [==============================] - 10s 101ms/step - loss: 0.4311 - acc: 0.7980 - val_loss: 0.4890 - val_acc: 0.7600\n",
      "Epoch 45/100\n",
      "100/100 [==============================] - 10s 103ms/step - loss: 0.4336 - acc: 0.8035 - val_loss: 0.4841 - val_acc: 0.7750\n",
      "Epoch 46/100\n",
      "100/100 [==============================] - 10s 100ms/step - loss: 0.4425 - acc: 0.7915 - val_loss: 0.4620 - val_acc: 0.7790\n",
      "Epoch 47/100\n",
      "100/100 [==============================] - 10s 101ms/step - loss: 0.4184 - acc: 0.7980 - val_loss: 0.4607 - val_acc: 0.7840\n",
      "Epoch 48/100\n",
      "100/100 [==============================] - 10s 99ms/step - loss: 0.4330 - acc: 0.8000 - val_loss: 0.4926 - val_acc: 0.7500\n",
      "Epoch 49/100\n",
      "100/100 [==============================] - 10s 101ms/step - loss: 0.4244 - acc: 0.8095 - val_loss: 0.4839 - val_acc: 0.7700\n",
      "Epoch 50/100\n",
      "100/100 [==============================] - 10s 103ms/step - loss: 0.4247 - acc: 0.8000 - val_loss: 0.4654 - val_acc: 0.7760\n"
     ]
    }
   ],
   "source": [
    "history = model.fit(train_generator,steps_per_epoch=100,epochs=100,validation_data=valid_generator,validation_steps=50,callbacks=[early_stopping_cb,tensorboard_cb])"
   ]
  },
  {
   "cell_type": "code",
   "execution_count": 28,
   "metadata": {},
   "outputs": [
    {
     "data": {
      "text/plain": [
       "dict_keys(['loss', 'acc', 'val_loss', 'val_acc'])"
      ]
     },
     "execution_count": 28,
     "metadata": {},
     "output_type": "execute_result"
    }
   ],
   "source": [
    "history.history.keys()"
   ]
  },
  {
   "cell_type": "code",
   "execution_count": 29,
   "metadata": {},
   "outputs": [],
   "source": [
    "import pandas as pd\n",
    "import matplotlib.pyplot as plt"
   ]
  },
  {
   "cell_type": "code",
   "execution_count": 30,
   "metadata": {},
   "outputs": [
    {
     "data": {
      "image/png": "[encoded data removed]",
      "text/plain": [
       "<Figure size 800x500 with 1 Axes>"
      ]
     },
     "metadata": {},
     "output_type": "display_data"
    }
   ],
   "source": [
    "pd.DataFrame(history.history).plot(figsize=(8, 5))\n",
    "plt.grid(True)\n",
    "plt.gca().set_ylim(0, 1) # set the vertical range to [0-1]\n",
    "plt.show()"
   ]
  },
  {
   "cell_type": "code",
   "execution_count": 31,
   "metadata": {},
   "outputs": [],
   "source": [
    "# model.save(\"cats_and_dogs\")"
   ]
  },
  {
   "cell_type": "code",
   "execution_count": 33,
   "metadata": {},
   "outputs": [
    {
     "name": "stdout",
     "output_type": "stream",
     "text": [
      "/bin/bash: /home/kailash/anaconda3/envs/tensorflow1/lib/libtinfo.so.6: no version information available (required by /bin/bash)\n",
      "2022-09-20 13:53:55.330926: I tensorflow/core/platform/cpu_feature_guard.cc:193] This TensorFlow binary is optimized with oneAPI Deep Neural Network Library (oneDNN) to use the following CPU instructions in performance-critical operations:  AVX2 FMA\n",
      "To enable them in other operations, rebuild TensorFlow with the appropriate compiler flags.\n",
      "2022-09-20 13:53:55.521808: E tensorflow/stream_executor/cuda/cuda_blas.cc:2981] Unable to register cuBLAS factory: Attempting to register factory for plugin cuBLAS when one has already been registered\n",
      "2022-09-20 13:53:56.181436: W tensorflow/stream_executor/platform/default/dso_loader.cc:64] Could not load dynamic library 'libnvinfer.so.7'; dlerror: libnvinfer.so.7: cannot open shared object file: No such file or directory; LD_LIBRARY_PATH: /usr/lib/cuda/include:/usr/lib/cuda/lib64:/usr/lib/cuda/include:/usr/lib/cuda/lib64::/home/kailash/anaconda3/envs/tensorflow1/lib/\n",
      "2022-09-20 13:53:56.181560: W tensorflow/stream_executor/platform/default/dso_loader.cc:64] Could not load dynamic library 'libnvinfer_plugin.so.7'; dlerror: libnvinfer_plugin.so.7: cannot open shared object file: No such file or directory; LD_LIBRARY_PATH: /usr/lib/cuda/include:/usr/lib/cuda/lib64:/usr/lib/cuda/include:/usr/lib/cuda/lib64::/home/kailash/anaconda3/envs/tensorflow1/lib/\n",
      "2022-09-20 13:53:56.181573: W tensorflow/compiler/tf2tensorrt/utils/py_utils.cc:38] TF-TRT Warning: Cannot dlopen some TensorRT libraries. If you would like to use Nvidia GPU with TensorRT, please make sure the missing libraries mentioned above are installed properly.\n",
      "2022-09-20 13:53:57.015457: I tensorflow/stream_executor/cuda/cuda_gpu_executor.cc:980] successful NUMA node read from SysFS had negative value (-1), but there must be at least one NUMA node, so returning NUMA node zero\n",
      "2022-09-20 13:53:57.020078: I tensorflow/stream_executor/cuda/cuda_gpu_executor.cc:980] successful NUMA node read from SysFS had negative value (-1), but there must be at least one NUMA node, so returning NUMA node zero\n",
      "2022-09-20 13:53:57.020326: I tensorflow/stream_executor/cuda/cuda_gpu_executor.cc:980] successful NUMA node read from SysFS had negative value (-1), but there must be at least one NUMA node, so returning NUMA node zero\n",
      "\n",
      "NOTE: Using experimental fast data loading logic. To disable, pass\n",
      "    \"--load_fast=false\" and report issues on GitHub. More details:\n",
      "    https://github.com/tensorflow/tensorboard/issues/4784\n",
      "\n",
      "TensorBoard 2.10.0 at http://kailash-ASUS-TUF-Gaming-A17-FA706IC-FA766IC:6006/ (Press CTRL+C to quit)\n",
      "W0920 13:53:59.789774 139698894788160 security_validator.py:46] In 3.0, this warning will become an error:\n",
      "Illegal Content-Security-Policy for script-src: 'unsafe-inline'\n",
      "W0920 13:54:00.377549 139698894788160 security_validator.py:46] In 3.0, this warning will become an error:\n",
      "Illegal Content-Security-Policy for script-src: 'unsafe-inline'\n",
      "W0920 13:54:03.672075 139698894788160 application.py:558] path /data/plugin/profile not found, sending 404\n",
      "W0920 13:54:03.690347 139698894788160 application.py:558] path /data/plugin/profile/overview_page@;run=run_2022_09_20-12_03_01/2022_09_20_12_03_10 not found, sending 404\n",
      "W0920 13:54:05.110518 139698894788160 application.py:558] path /data/plugin/profile/overview_page@;run=run_2022_09_20-11_44_41/2022_09_20_11_44_45 not found, sending 404\n",
      "W0920 13:54:11.016331 139698894788160 application.py:558] path /data/plugin/profile/overview_page@;run=run_2022_09_20-11_35_53/2022_09_20_11_35_56 not found, sending 404\n",
      "^C\n"
     ]
    }
   ],
   "source": [
    "!tensorboard --bind_all --logdir=./my_logs --port=6006"
   ]
  }
 ],
 "metadata": {
  "kernelspec": {
   "display_name": "Python 3.10.4 ('tensorflow1')",
   "language": "python",
   "name": "python3"
  },
  "language_info": {
   "codemirror_mode": {
    "name": "ipython",
    "version": 3
   },
   "file_extension": ".py",
   "mimetype": "text/x-python",
   "name": "python",
   "nbconvert_exporter": "python",
   "pygments_lexer": "ipython3",
   "version": "3.10.4"
  },
  "orig_nbformat": 4,
  "vscode": {
   "interpreter": {
    "hash": "32df1eb32394b513ab03ec1ca1fed6ddb93f4a47a0f6d691f350cc1ad9704886"
   }
  }
 },
 "nbformat": 4,
 "nbformat_minor": 2
}
